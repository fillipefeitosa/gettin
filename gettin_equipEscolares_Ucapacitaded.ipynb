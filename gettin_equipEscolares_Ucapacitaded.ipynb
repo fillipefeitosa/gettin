{
 "cells": [
  {
   "cell_type": "markdown",
   "metadata": {},
   "source": [
    "# GETTIN\n",
    "## Planejamento de Equipamentos Escolares\n",
    "## Método: Uncapacitaded Facility Location\n",
    "### Versão: 0.1\n",
    "#### Fillipe O Feitosa <fillipefeitosa@ua.pt>\n",
    "\n",
    "---\n"
   ]
  },
  {
   "cell_type": "markdown",
   "metadata": {},
   "source": [
    "#### Modeling and Creating Decision Variables"
   ]
  },
  {
   "cell_type": "code",
   "execution_count": 1,
   "metadata": {},
   "outputs": [],
   "source": [
    "# Import Libraries\n",
    "from gurobi import *\n",
    "import math\n",
    "\n",
    "def distance(a,b):\n",
    "    dx = a[0] - b[0]\n",
    "    dy = a[1] - b[1]\n",
    "    return math.sqrt(dx*dx + dy*dy)\n",
    "\n",
    "# Data\n",
    "# Problem data\n",
    "subSections = [[0, 1.5],[2.5, 1.2]]\n",
    "schools = [[0,0],[0,1],[0,1],\n",
    "              [1,0],[1,1],[1,2],\n",
    "              [2,0],[2,1],[2,2]]\n",
    "charge = [3,2,3,1,3,3,4,3,2]\n",
    "\n",
    "numSchools = len(schools)\n",
    "numSubSections = len (subSections)\n",
    "\n",
    "# Creting Guroby Model\n",
    "m = Model()\n",
    "\n",
    "# Decision Variables\n",
    "x = {}\n",
    "y = {}\n",
    "d = {} # Distance Matrix\n",
    "alpha = 1\n",
    "\n",
    "# creating binary variable for every school\n",
    "for j in range(numSchools):\n",
    "    x[j] = m.addVar(vtype=GRB.BINARY, name=\"x%d\" % j)\n",
    "\n",
    "# creating continuous variable for subsections to check suply fractions\n",
    "for i in range(numSubSections):\n",
    "    for j in range(numSchools):\n",
    "        # Fractions of Subsection Suply\n",
    "        y[(i,j)] = m.addVar(lb=0, vtype=GRB.CONTINUOUS, name=\"t%d,%d\" % (i,j))\n",
    "        # Distances between Subsections and Schools\n",
    "        d[(i,j)] = distance(subSections[i], schools[j])\n",
    "\n",
    "m.update()"
   ]
  },
  {
   "cell_type": "markdown",
   "metadata": {},
   "source": [
    "#### Adding Constraints"
   ]
  },
  {
   "cell_type": "code",
   "execution_count": 2,
   "metadata": {},
   "outputs": [],
   "source": [
    "# Constraint for Every Student on School\n",
    "for i in range(numSubSections):\n",
    "    m.addConstr(quicksum(y[(i,j)] for j in range(numSchools)) == 1)\n",
    "\n",
    "for i in range(numSubSections):\n",
    "    for j in range(numSchools):\n",
    "        m.addConstr(y[(i,j)] <= x[j])"
   ]
  },
  {
   "cell_type": "markdown",
   "metadata": {},
   "source": [
    "#### Objetive\n"
   ]
  },
  {
   "cell_type": "code",
   "execution_count": 3,
   "metadata": {},
   "outputs": [
    {
     "name": "stdout",
     "output_type": "stream",
     "text": [
      "Optimize a model with 20 rows, 27 columns and 54 nonzeros\n",
      "Variable types: 18 continuous, 9 integer (9 binary)\n",
      "Coefficient statistics:\n",
      "  Matrix range     [1e+00, 1e+00]\n",
      "  Objective range  [5e-01, 4e+00]\n",
      "  Bounds range     [1e+00, 1e+00]\n",
      "  RHS range        [1e+00, 1e+00]\n",
      "Presolve time: 0.01s\n",
      "Presolved: 20 rows, 27 columns, 54 nonzeros\n",
      "Variable types: 18 continuous, 9 integer (9 binary)\n",
      "\n",
      "Root relaxation: objective 4.723713e+00, 15 iterations, 0.00 seconds\n",
      "\n",
      "    Nodes    |    Current Node    |     Objective Bounds      |     Work\n",
      " Expl Unexpl |  Obj  Depth IntInf | Incumbent    BestBd   Gap | It/Node Time\n",
      "\n",
      "*    0     0               0       4.7237129    4.72371  0.00%     -    0s\n",
      "\n",
      "Explored 0 nodes (15 simplex iterations) in 0.04 seconds\n",
      "Thread count was 4 (of 4 available processors)\n",
      "\n",
      "Solution count 1: 4.72371 \n",
      "\n",
      "Optimal solution found (tolerance 1.00e-04)\n",
      "Best objective 4.723712908962e+00, best bound 4.723712908962e+00, gap 0.0000%\n"
     ]
    }
   ],
   "source": [
    "# Setting objective\n",
    "\n",
    "m.setObjective( quicksum(charge[j]*x[j] + quicksum(alpha*d[(i,j)]*y[(i,j)]\n",
    "                for i in range(numSubSections)) for j in range(numSchools)) )\n",
    "\n",
    "\n",
    "m.optimize()"
   ]
  },
  {
   "cell_type": "code",
   "execution_count": 4,
   "metadata": {},
   "outputs": [
    {
     "data": {
      "text/plain": [
       "<gurobi.Model MIP instance Unnamed: 20 constrs, 27 vars, Parameter changes: LogFile=gurobi.log, CSIdleTimeout=1800>"
      ]
     },
     "execution_count": 4,
     "metadata": {},
     "output_type": "execute_result"
    }
   ],
   "source": [
    "m"
   ]
  },
  {
   "cell_type": "code",
   "execution_count": null,
   "metadata": {},
   "outputs": [],
   "source": []
  }
 ],
 "metadata": {
  "kernelspec": {
   "display_name": "Python 3",
   "language": "python",
   "name": "python3"
  },
  "language_info": {
   "codemirror_mode": {
    "name": "ipython",
    "version": 3
   },
   "file_extension": ".py",
   "mimetype": "text/x-python",
   "name": "python",
   "nbconvert_exporter": "python",
   "pygments_lexer": "ipython3",
   "version": "3.6.4"
  }
 },
 "nbformat": 4,
 "nbformat_minor": 2
}
