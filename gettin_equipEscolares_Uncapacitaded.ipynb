{
 "cells": [
  {
   "cell_type": "markdown",
   "metadata": {},
   "source": [
    "#### GETTIN\n",
    "## Planejamento de Equipamentos Escolares\n",
    "## Método: Uncapacitaded Facility Location\n",
    "### Versão: 0.5\n",
    "#### Fillipe O Feitosa <fillipefeitosa@ua.pt>\n",
    "\n",
    "---\n"
   ]
  },
  {
   "cell_type": "markdown",
   "metadata": {},
   "source": [
    "#### Modeling and Creating Decision Variables"
   ]
  },
  {
   "cell_type": "code",
   "execution_count": 25,
   "metadata": {},
   "outputs": [],
   "source": [
    "# Import Libraries\n",
    "from gurobi import *\n",
    "import math\n",
    "import matplotlib.pyplot as plt\n",
    "\n",
    "def distance(a,b):\n",
    "    dx = a[0] - b[0]\n",
    "    dy = a[1] - b[1]\n",
    "    return math.sqrt(dx*dx + dy*dy)\n",
    "\n",
    "# Data\n",
    "# Problem data\n",
    "subSections = [[0, 1.5],[1.5, 0.5],[0.75, 1.5],[1.2, 0.5],[1.7, 0.1],[0.87, 1.5],[1.42, 1.5]]\n",
    "schools = [[0,0],[0,1],[0,2],\n",
    "              [1,0],[1,1],[1,2],\n",
    "              [2,0],[2,1],[2,2]]\n",
    "# @charge: custo de construcao por escola (fixo em 1)\n",
    "charge = [1,1,1,1,1,1,1,1,1]\n",
    "\n",
    "numSchools = len(schools)\n",
    "numSubSections = len (subSections)\n",
    "\n",
    "# Creting Guroby Model\n",
    "m = Model()\n",
    "\n",
    "# Decision Variables\n",
    "x = {}\n",
    "y = {}\n",
    "d = {} # Distance Matrix\n",
    "# @alpha: custo fixo de deslocamento por km\n",
    "alpha = 1\n",
    "\n",
    "# creating binary variable for every school\n",
    "for j in range(numSchools):\n",
    "    x[j] = m.addVar(vtype=GRB.BINARY, name=\"escola(%d)\" % j)\n",
    "\n",
    "# creating continuous variable for subsections to check suply fractions\n",
    "for i in range(numSubSections):\n",
    "    for j in range(numSchools):\n",
    "        # Fractions of Subsection Suply\n",
    "        y[(i,j)] = m.addVar(lb=0, vtype=GRB.CONTINUOUS, name=\"Fração da Sub[%d], escola[%d]\" % (i,j))\n",
    "        # Distances between Subsections and Schools\n",
    "        d[(i,j)] = distance(subSections[i], schools[j])\n",
    "\n",
    "m.update()"
   ]
  },
  {
   "cell_type": "code",
   "execution_count": 26,
   "metadata": {},
   "outputs": [
    {
     "data": {
      "image/png": "[encoded data removed]",
      "text/plain": [
       "<matplotlib.figure.Figure at 0x7ffa9bf15b00>"
      ]
     },
     "metadata": {},
     "output_type": "display_data"
    }
   ],
   "source": [
    "# A smal test for the cost.\n",
    "len(charge) == len(schools)\n",
    "# for j in charge:\n",
    "#    print(j*x[j])\n",
    "# Show Schools Map\n",
    "plt.scatter(*zip(*subSections))\n",
    "plt.show()"
   ]
  },
  {
   "cell_type": "code",
   "execution_count": 27,
   "metadata": {},
   "outputs": [
    {
     "data": {
      "image/png": "[encoded data removed]",
      "text/plain": [
       "<matplotlib.figure.Figure at 0x7ffa9be96668>"
      ]
     },
     "metadata": {},
     "output_type": "display_data"
    }
   ],
   "source": [
    "plt.scatter(*zip(*schools))\n",
    "plt.show()"
   ]
  },
  {
   "cell_type": "markdown",
   "metadata": {},
   "source": [
    "#### Adding Constraints"
   ]
  },
  {
   "cell_type": "code",
   "execution_count": 28,
   "metadata": {},
   "outputs": [],
   "source": [
    "# Constraint for Every Student on School\n",
    "for i in range(numSubSections):\n",
    "    m.addConstr(quicksum(y[(i,j)] for j in range(numSchools)) == 1)\n",
    "\n",
    "# Fraction of suply must be lower or equal than the BINARY x[j] available \n",
    "for i in range(numSubSections):\n",
    "    for j in range(numSchools):\n",
    "        m.addConstr(y[(i,j)] <= x[j])"
   ]
  },
  {
   "cell_type": "markdown",
   "metadata": {},
   "source": [
    "#### Objetive\n"
   ]
  },
  {
   "cell_type": "code",
   "execution_count": 29,
   "metadata": {},
   "outputs": [
    {
     "name": "stdout",
     "output_type": "stream",
     "text": [
      "Optimize a model with 70 rows, 72 columns and 189 nonzeros\n",
      "Variable types: 63 continuous, 9 integer (9 binary)\n",
      "Coefficient statistics:\n",
      "  Matrix range     [1e+00, 1e+00]\n",
      "  Objective range  [3e-01, 3e+00]\n",
      "  Bounds range     [1e+00, 1e+00]\n",
      "  RHS range        [1e+00, 1e+00]\n",
      "Presolve time: 0.00s\n",
      "Presolved: 70 rows, 72 columns, 189 nonzeros\n",
      "Variable types: 63 continuous, 9 integer (9 binary)\n",
      "\n",
      "Root relaxation: objective 6.232466e+00, 14 iterations, 0.00 seconds\n",
      "\n",
      "    Nodes    |    Current Node    |     Objective Bounds      |     Work\n",
      " Expl Unexpl |  Obj  Depth IntInf | Incumbent    BestBd   Gap | It/Node Time\n",
      "\n",
      "*    0     0               0       6.2324664    6.23247  0.00%     -    0s\n",
      "\n",
      "Explored 0 nodes (14 simplex iterations) in 0.02 seconds\n",
      "Thread count was 8 (of 8 available processors)\n",
      "\n",
      "Solution count 1: 6.23247 \n",
      "\n",
      "Optimal solution found (tolerance 1.00e-04)\n",
      "Best objective 6.232466432940e+00, best bound 6.232466432940e+00, gap 0.0000%\n"
     ]
    }
   ],
   "source": [
    "# Setting objective\n",
    "\n",
    "m.setObjective( quicksum(charge[j]*x[j] + quicksum(alpha*d[(i,j)]*y[(i,j)]\n",
    "                for i in range(numSubSections)) for j in range(numSchools)), GRB.MINIMIZE )\n",
    "\n",
    "\n",
    "m.optimize()"
   ]
  },
  {
   "cell_type": "code",
   "execution_count": 30,
   "metadata": {},
   "outputs": [
    {
     "data": {
      "text/plain": [
       "<gurobi.Model MIP instance Unnamed: 70 constrs, 72 vars, Parameter changes: LogFile=gurobi.log, CSIdleTimeout=1800>"
      ]
     },
     "execution_count": 30,
     "metadata": {},
     "output_type": "execute_result"
    }
   ],
   "source": [
    "m"
   ]
  },
  {
   "cell_type": "code",
   "execution_count": 31,
   "metadata": {},
   "outputs": [
    {
     "name": "stdout",
     "output_type": "stream",
     "text": [
      "Obj: 6.23247\n"
     ]
    }
   ],
   "source": [
    "print('Obj: %g' % m.objVal)"
   ]
  },
  {
   "cell_type": "code",
   "execution_count": 32,
   "metadata": {},
   "outputs": [
    {
     "name": "stdout",
     "output_type": "stream",
     "text": [
      "escola(0)   -0\n",
      "escola(1)   -0\n",
      "escola(2)   -0\n",
      "escola(3)   -0\n",
      "escola(4)   1\n",
      "escola(5)   -0\n",
      "escola(6)   -0\n",
      "escola(7)   -0\n",
      "escola(8)   -0\n",
      "Fração da Sub[0], escola[0]   0\n",
      "Fração da Sub[0], escola[1]   0\n",
      "Fração da Sub[0], escola[2]   0\n",
      "Fração da Sub[0], escola[3]   0\n",
      "Fração da Sub[0], escola[4]   1\n",
      "Fração da Sub[0], escola[5]   0\n",
      "Fração da Sub[0], escola[6]   0\n",
      "Fração da Sub[0], escola[7]   0\n",
      "Fração da Sub[0], escola[8]   0\n",
      "Fração da Sub[1], escola[0]   0\n",
      "Fração da Sub[1], escola[1]   0\n",
      "Fração da Sub[1], escola[2]   0\n",
      "Fração da Sub[1], escola[3]   0\n",
      "Fração da Sub[1], escola[4]   1\n",
      "Fração da Sub[1], escola[5]   0\n",
      "Fração da Sub[1], escola[6]   0\n",
      "Fração da Sub[1], escola[7]   0\n",
      "Fração da Sub[1], escola[8]   0\n",
      "Fração da Sub[2], escola[0]   0\n",
      "Fração da Sub[2], escola[1]   0\n",
      "Fração da Sub[2], escola[2]   0\n",
      "Fração da Sub[2], escola[3]   0\n",
      "Fração da Sub[2], escola[4]   1\n",
      "Fração da Sub[2], escola[5]   0\n",
      "Fração da Sub[2], escola[6]   0\n",
      "Fração da Sub[2], escola[7]   0\n",
      "Fração da Sub[2], escola[8]   0\n",
      "Fração da Sub[3], escola[0]   0\n",
      "Fração da Sub[3], escola[1]   0\n",
      "Fração da Sub[3], escola[2]   0\n",
      "Fração da Sub[3], escola[3]   0\n",
      "Fração da Sub[3], escola[4]   1\n",
      "Fração da Sub[3], escola[5]   0\n",
      "Fração da Sub[3], escola[6]   0\n",
      "Fração da Sub[3], escola[7]   0\n",
      "Fração da Sub[3], escola[8]   0\n",
      "Fração da Sub[4], escola[0]   0\n",
      "Fração da Sub[4], escola[1]   0\n",
      "Fração da Sub[4], escola[2]   0\n",
      "Fração da Sub[4], escola[3]   0\n",
      "Fração da Sub[4], escola[4]   1\n",
      "Fração da Sub[4], escola[5]   0\n",
      "Fração da Sub[4], escola[6]   0\n",
      "Fração da Sub[4], escola[7]   0\n",
      "Fração da Sub[4], escola[8]   0\n",
      "Fração da Sub[5], escola[0]   0\n",
      "Fração da Sub[5], escola[1]   0\n",
      "Fração da Sub[5], escola[2]   0\n",
      "Fração da Sub[5], escola[3]   0\n",
      "Fração da Sub[5], escola[4]   1\n",
      "Fração da Sub[5], escola[5]   0\n",
      "Fração da Sub[5], escola[6]   0\n",
      "Fração da Sub[5], escola[7]   0\n",
      "Fração da Sub[5], escola[8]   0\n",
      "Fração da Sub[6], escola[0]   0\n",
      "Fração da Sub[6], escola[1]   0\n",
      "Fração da Sub[6], escola[2]   0\n",
      "Fração da Sub[6], escola[3]   0\n",
      "Fração da Sub[6], escola[4]   1\n",
      "Fração da Sub[6], escola[5]   0\n",
      "Fração da Sub[6], escola[6]   0\n",
      "Fração da Sub[6], escola[7]   0\n",
      "Fração da Sub[6], escola[8]   0\n"
     ]
    }
   ],
   "source": [
    "for v in m.getVars():\n",
    "       print('%s   %g' % (v.varName, v.x))"
   ]
  },
  {
   "cell_type": "code",
   "execution_count": null,
   "metadata": {},
   "outputs": [],
   "source": []
  }
 ],
 "metadata": {
  "kernelspec": {
   "display_name": "Python 3",
   "language": "python",
   "name": "python3"
  },
  "language_info": {
   "codemirror_mode": {
    "name": "ipython",
    "version": 3
   },
   "file_extension": ".py",
   "mimetype": "text/x-python",
   "name": "python",
   "nbconvert_exporter": "python",
   "pygments_lexer": "ipython3",
   "version": "3.6.5"
  }
 },
 "nbformat": 4,
 "nbformat_minor": 2
}
