{
 "cells": [
  {
   "cell_type": "markdown",
   "metadata": {},
   "source": [
    "# GETTIN\n",
    "## Planejamento de Equipamentos Escolares\n",
    "## Método: k-Median Facility Location\n",
    "### Versão: 2.0\n",
    "#### Fillipe O Feitosa <fillipefeitosa@ua.pt>\n",
    "\n",
    "---\n"
   ]
  },
  {
   "cell_type": "markdown",
   "metadata": {},
   "source": [
    "\\begin{split}& \\mbox{minimize} \\quad    & \\sum_{i=1}^n \\sum_{j=1}^m d_{ij} y_{ij} &     \\\\\n",
    "& \\mbox{subject to:} \\quad & \\sum_{j=1}^m y_{ij} =1 &  \\mbox{ for } i=1,\\cdots,n\\\\\n",
    "&   & \\sum_{j=1}^m x_{j} = k                        &   \\\\\n",
    "&   & y_{ij} \\leq x_j                               & \\mbox{ for }  i=1,\\cdots,n; j=1,\\cdots,m  \\\\\n",
    "&   & y_{ij} \\in \\{ 0,1 \\}                          & \\mbox{ for }  i=1,\\cdots,n; j=1,\\cdots,m \\\\\n",
    "&   & x_j \\in \\{ 0,1 \\}                             & \\mbox{ for }  j=1,\\cdots,m\\end{split}"
   ]
  },
  {
   "cell_type": "markdown",
   "metadata": {},
   "source": [
    "\\begin{split}&   & \\sum_{i=1}^{n} y_{ij} \\leq y_j,                               & \\mbox{ for }  j=1,\\cdots,m.  \\\\\\end{split}"
   ]
  },
  {
   "cell_type": "markdown",
   "metadata": {},
   "source": [
    "#### Modeling and Creating Decision Variables"
   ]
  },
  {
   "cell_type": "code",
   "execution_count": null,
   "metadata": {
    "collapsed": true
   },
   "outputs": [],
   "source": [
    "# Import Libraries\n",
    "from gurobi import *\n",
    "import math\n",
    "import matplotlib.pyplot as plt\n",
    "\n",
    "# Used to Create Visualization\n",
    "from geojson import Feature, Point, FeatureCollection\n",
    "import geopandas as gpd\n",
    "import geojson\n",
    "\n",
    "def distance(a,b):\n",
    "    dx = a[0] - b[0]\n",
    "    dy = a[1] - b[1]\n",
    "    return math.sqrt(dx*dx + dy*dy)\n",
    "\n",
    "# Data\n",
    "# Problem data\n",
    "\n",
    "k = int(input(\"Provide a Int K: \"))\n",
    "\n",
    "vagos = gpd.read_file('./data_gettin/vagos.geojson')\n",
    "centroids = vagos.centroid\n",
    "\n",
    "iteratorHandler = centroids.size\n",
    "centroidVector = []\n",
    "for centroid in centroids:\n",
    "    obj = [centroid.xy[0][0], centroid.xy[1][0]]\n",
    "    centroidVector.append(obj)\n",
    "\n",
    "subSections = centroidVector\n",
    "schools = centroidVector\n",
    "# @charge: custo de construcao por escola (fixo em 500 mil euros)\n",
    "# charge = 5000000\n",
    "\n",
    "numSchools = len(schools)\n",
    "numSubSections = len (subSections)\n",
    "\n",
    "# Creting Guroby Model\n",
    "m = Model()\n",
    "\n",
    "# Decision Variables\n",
    "x = {}\n",
    "y = {}\n",
    "d = {} # Distance Matrix\n",
    "# @alpha: 0.29 de custo por Km  por (365 dias * 5 anos) \n",
    "# alpha = 529.25\n",
    "\n",
    "# creating binary variable for every school\n",
    "for j in range(numSchools):\n",
    "    x[j] = m.addVar(obj=0, vtype=GRB.BINARY, name=\"%d\" % j)\n",
    "\n",
    "# creating continuous variable for subsections to check suply fractions\n",
    "for i in range(numSubSections):\n",
    "    for j in range(numSchools):\n",
    "        # Distances between Subsections and Schools\n",
    "        d[(i,j)] = distance(subSections[i], schools[j])\n",
    "        # Fractions of Subsection Suply\n",
    "        y[(i,j)] = m.addVar(obj=d[i,j], vtype=GRB.BINARY, name=\"Fração da Sub[%d], escola[%d]\" % (i,j))\n",
    "        \n",
    "\n",
    "m.update()"
   ]
  },
  {
   "cell_type": "code",
   "execution_count": null,
   "metadata": {},
   "outputs": [],
   "source": [
    "subSections"
   ]
  },
  {
   "cell_type": "code",
   "execution_count": null,
   "metadata": {},
   "outputs": [],
   "source": [
    "plt.scatter(*zip(*subSections))\n",
    "plt.show()"
   ]
  },
  {
   "cell_type": "code",
   "execution_count": null,
   "metadata": {},
   "outputs": [],
   "source": [
    "plt.scatter(*zip(*schools))\n",
    "plt.show()"
   ]
  },
  {
   "cell_type": "markdown",
   "metadata": {},
   "source": [
    "## Adding Constraints"
   ]
  },
  {
   "cell_type": "code",
   "execution_count": null,
   "metadata": {},
   "outputs": [],
   "source": [
    "# Constraint for Every Student on School\n",
    "# for i in range(numSubSections):\n",
    "#     m.addConstr(quicksum(y[(i,j)] for j in range(numSchools)) == 1)\n",
    "\n",
    "# Fraction of suply must be lower or equal than the BINARY x[j] available \n",
    "# for i in range(numSubSections):\n",
    "#     for j in range(numSchools):\n",
    "#         m.addConstr(y[(i,j)] <= x[j])\n",
    "\n",
    "for i in range(numSubSections):\n",
    "    coef = [1 for j in range(numSchools)]\n",
    "    var = [y[i,j] for j in range(numSchools)]\n",
    "    m.addConstr(LinExpr(coef,var), \"=\", 1, name=\"Assign[%s]\"%i)\n",
    "\n",
    "for j in range(numSchools):\n",
    "    for i in range(numSubSections):\n",
    "        m.addConstr(y[i,j], \"<\", x[j], name=\"Strong[%s,%s]\"%(i,j))\n",
    "\n",
    "coef = [1 for j in range(numSchools)]\n",
    "var = [x[j] for j in range(numSchools)]\n",
    "m.addConstr(LinExpr(coef,var), \"=\", rhs=k, name=\"k_median\")"
   ]
  },
  {
   "cell_type": "markdown",
   "metadata": {},
   "source": [
    "#### Objetive\n"
   ]
  },
  {
   "cell_type": "code",
   "execution_count": null,
   "metadata": {
    "scrolled": true
   },
   "outputs": [],
   "source": [
    "# Setting objective\n",
    "\n",
    "m.setObjective(quicksum(d[(i,j)]*y[(i,j)] for i in range(numSubSections) for j in range(numSchools)), GRB.MINIMIZE)\n",
    "\n",
    "\n",
    "m.optimize()"
   ]
  },
  {
   "cell_type": "code",
   "execution_count": null,
   "metadata": {},
   "outputs": [],
   "source": [
    "m"
   ]
  },
  {
   "cell_type": "code",
   "execution_count": null,
   "metadata": {},
   "outputs": [],
   "source": [
    "print('Obj: %g' % m.objVal)"
   ]
  },
  {
   "cell_type": "code",
   "execution_count": null,
   "metadata": {},
   "outputs": [],
   "source": [
    "# Added @listOfResults to generate visualization\n",
    "\n",
    "for v in m.getVars():\n",
    "    if(v.x != 0):\n",
    "        print('%s   %g' % (v.varName, v.x))"
   ]
  },
  {
   "cell_type": "code",
   "execution_count": null,
   "metadata": {},
   "outputs": [],
   "source": [
    "# How to retrieve variables from the Model by Name\n",
    "# int(m.getVarByName(\"19\").varName)\n",
    "\n",
    "# Used to get the Index of Schools from the M Model Optimized\n",
    "listOfResults = []\n",
    "for e in range(numSchools):\n",
    "    tempObj = m.getVarByName(str(e))\n",
    "    # If This School is on the Results Optimized\n",
    "    if(tempObj.x != 0):\n",
    "        listOfResults.append(int(tempObj.varName))\n",
    "        \n",
    "# Select, from the List Of Results, A set of Centroid Points \n",
    "listOfPoints = []\n",
    "for schoolNumber in listOfResults:\n",
    "    # Attention to the Feature(geometry) from geopandas\n",
    "    listOfPoints.append(Feature(geometry=centroids[schoolNumber]))\n",
    "\n",
    "# Creating a FeatureCollection with the Features (Points) manipulated above\n",
    "resultCentroids = FeatureCollection(listOfPoints)"
   ]
  },
  {
   "cell_type": "code",
   "execution_count": null,
   "metadata": {},
   "outputs": [],
   "source": [
    "# Write Feature Collection to GeoJson File\n",
    "dump = geojson.dumps(resultCentroids, sort_keys=True)\n",
    "with open('./data_gettin/k-median-%d.geojson' % k, 'w') as outfile:\n",
    "      geojson.dump(resultCentroids, outfile)"
   ]
  },
  {
   "cell_type": "code",
   "execution_count": null,
   "metadata": {},
   "outputs": [],
   "source": [
    "m = None"
   ]
  },
  {
   "cell_type": "code",
   "execution_count": null,
   "metadata": {},
   "outputs": [],
   "source": [
    "disposeDefaultEnv()"
   ]
  },
  {
   "cell_type": "code",
   "execution_count": null,
   "metadata": {},
   "outputs": [],
   "source": []
  }
 ],
 "metadata": {
  "kernelspec": {
   "display_name": "Python 3",
   "language": "python",
   "name": "python3"
  },
  "language_info": {
   "codemirror_mode": {
    "name": "ipython",
    "version": 3
   },
   "file_extension": ".py",
   "mimetype": "text/x-python",
   "name": "python",
   "nbconvert_exporter": "python",
   "pygments_lexer": "ipython3",
   "version": "3.6.7"
  }
 },
 "nbformat": 4,
 "nbformat_minor": 2
}
