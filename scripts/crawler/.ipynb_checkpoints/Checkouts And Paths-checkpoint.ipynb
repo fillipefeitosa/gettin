{
 "cells": [
  {
   "cell_type": "markdown",
   "metadata": {},
   "source": [
    "# Objetives: Parse data from analitcs API into dataframes to generate Reports.\n",
    "## Author: fillipefeitosa <fillipefeitosa@ua.pt>"
   ]
  },
  {
   "cell_type": "code",
   "execution_count": null,
   "metadata": {},
   "outputs": [],
   "source": [
    "# List of Imports\n",
    "import pandas as pd\n",
    "from requests_html import HTMLSession"
   ]
  }
 ],
 "metadata": {
  "kernelspec": {
   "display_name": "Python 3",
   "language": "python",
   "name": "python3"
  },
  "language_info": {
   "codemirror_mode": {
    "name": "ipython",
    "version": 3
   },
   "file_extension": ".py",
   "mimetype": "text/x-python",
   "name": "python",
   "nbconvert_exporter": "python",
   "pygments_lexer": "ipython3",
   "version": "3.6.5"
  }
 },
 "nbformat": 4,
 "nbformat_minor": 2
}
