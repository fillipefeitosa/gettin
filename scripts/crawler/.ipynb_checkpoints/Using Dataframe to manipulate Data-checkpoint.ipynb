{
 "cells": [
  {
   "cell_type": "code",
   "execution_count": 6,
   "metadata": {},
   "outputs": [
    {
     "name": "stdout",
     "output_type": "stream",
     "text": [
      "404\n",
      "200\n",
      "200\n",
      "404\n",
      "200\n",
      "200\n",
      "200\n",
      "404\n",
      "404\n",
      "200\n",
      "404\n",
      "404\n",
      "404\n",
      "404\n",
      "200\n",
      "404\n",
      "404\n",
      "404\n",
      "404\n",
      "404\n",
      "[[1, 'Convento da Sertã Hotel', 'https://bookinxisto.com/pt/lodge-catalog/lodge?id=1'], [2, 'Casa Princesa Peralta', 'https://bookinxisto.com/pt/lodge-catalog/lodge?id=2'], [4, 'Casa da Laranjeira - Aldeia de Camelo', 'https://bookinxisto.com/pt/lodge-catalog/lodge?id=4'], [5, 'Casinha do Conde', 'https://bookinxisto.com/pt/lodge-catalog/lodge?id=5'], [6, 'Casa da Cancela - Aldeia das Oliveiras', 'https://bookinxisto.com/pt/lodge-catalog/lodge?id=6'], [9, 'Casa da Tia Bela - Casas do Favacal', 'https://bookinxisto.com/pt/lodge-catalog/lodge?id=9'], [4, 'No Caminho de Xisto', 'https://bookinxisto.com/pt/experience-catalog/experience?id=4']]\n"
     ]
    },
    {
     "ename": "TypeError",
     "evalue": "__init__() got an unexpected keyword argument 'ignore_index'",
     "output_type": "error",
     "traceback": [
      "\u001b[0;31m---------------------------------------------------------------------------\u001b[0m",
      "\u001b[0;31mTypeError\u001b[0m                                 Traceback (most recent call last)",
      "\u001b[0;32m<ipython-input-6-3cfe5eee5c07>\u001b[0m in \u001b[0;36m<module>\u001b[0;34m()\u001b[0m\n\u001b[1;32m     22\u001b[0m \u001b[0;34m\u001b[0m\u001b[0m\n\u001b[1;32m     23\u001b[0m \u001b[0mprint\u001b[0m\u001b[0;34m(\u001b[0m\u001b[0mdata\u001b[0m\u001b[0;34m)\u001b[0m\u001b[0;34m\u001b[0m\u001b[0m\n\u001b[0;32m---> 24\u001b[0;31m \u001b[0mresult\u001b[0m \u001b[0;34m=\u001b[0m \u001b[0mpd\u001b[0m\u001b[0;34m.\u001b[0m\u001b[0mDataFrame\u001b[0m\u001b[0;34m(\u001b[0m\u001b[0mdata\u001b[0m\u001b[0;34m=\u001b[0m\u001b[0mdata\u001b[0m\u001b[0;34m,\u001b[0m \u001b[0mcolumns\u001b[0m\u001b[0;34m=\u001b[0m\u001b[0;34m[\u001b[0m\u001b[0;34m'ID'\u001b[0m\u001b[0;34m,\u001b[0m \u001b[0;34m'titulo'\u001b[0m\u001b[0;34m,\u001b[0m \u001b[0;34m'url'\u001b[0m\u001b[0;34m]\u001b[0m\u001b[0;34m,\u001b[0m \u001b[0mignore_index\u001b[0m\u001b[0;34m=\u001b[0m\u001b[0;32mTrue\u001b[0m\u001b[0;34m)\u001b[0m\u001b[0;34m\u001b[0m\u001b[0m\n\u001b[0m",
      "\u001b[0;31mTypeError\u001b[0m: __init__() got an unexpected keyword argument 'ignore_index'"
     ]
    }
   ],
   "source": [
    "\"\"\"Objetive: send GET requests to a site and store its data on a DataFrame.\"\"\"\n",
    "\n",
    "# List of Imports\n",
    "from requests_html import HTMLSession\n",
    "import pandas as pd\n",
    "\n",
    "# List of Globals\n",
    "session = HTMLSession()\n",
    "links = [\"https://bookinxisto.com/pt/lodge-catalog/lodge?id=\",\"https://bookinxisto.com/pt/experience-catalog/experience?id=\"]\n",
    "crawlerIterations = 10\n",
    "data = []\n",
    "\n",
    "# Logic\n",
    "for link in links:\n",
    "    for i in range(crawlerIterations):\n",
    "        request = session.get(link+str(i))\n",
    "        print(request.status_code)\n",
    "        if(request.status_code == 200):\n",
    "            titulo = request.html.find('.product-title', first=True).text\n",
    "            # data['id'] = int(i)\n",
    "            data.append([int(i),titulo, link+str(i)])\n",
    "\n",
    "print(data)\n",
    "result = pd.DataFrame(data=data, columns=['ID', 'titulo', 'url'])"
   ]
  },
  {
   "cell_type": "code",
   "execution_count": 5,
   "metadata": {},
   "outputs": [
    {
     "data": {
      "text/html": [
       "<div>\n",
       "<style scoped>\n",
       "    .dataframe tbody tr th:only-of-type {\n",
       "        vertical-align: middle;\n",
       "    }\n",
       "\n",
       "    .dataframe tbody tr th {\n",
       "        vertical-align: top;\n",
       "    }\n",
       "\n",
       "    .dataframe thead th {\n",
       "        text-align: right;\n",
       "    }\n",
       "</style>\n",
       "<table border=\"1\" class=\"dataframe\">\n",
       "  <thead>\n",
       "    <tr style=\"text-align: right;\">\n",
       "      <th></th>\n",
       "      <th>ID</th>\n",
       "      <th>titulo</th>\n",
       "      <th>url</th>\n",
       "    </tr>\n",
       "  </thead>\n",
       "  <tbody>\n",
       "    <tr>\n",
       "      <th>0</th>\n",
       "      <td>1</td>\n",
       "      <td>Convento da Sertã Hotel</td>\n",
       "      <td>https://bookinxisto.com/pt/lodge-catalog/lodge...</td>\n",
       "    </tr>\n",
       "    <tr>\n",
       "      <th>1</th>\n",
       "      <td>2</td>\n",
       "      <td>Casa Princesa Peralta</td>\n",
       "      <td>https://bookinxisto.com/pt/lodge-catalog/lodge...</td>\n",
       "    </tr>\n",
       "    <tr>\n",
       "      <th>2</th>\n",
       "      <td>4</td>\n",
       "      <td>Casa da Laranjeira - Aldeia de Camelo</td>\n",
       "      <td>https://bookinxisto.com/pt/lodge-catalog/lodge...</td>\n",
       "    </tr>\n",
       "    <tr>\n",
       "      <th>3</th>\n",
       "      <td>5</td>\n",
       "      <td>Casinha do Conde</td>\n",
       "      <td>https://bookinxisto.com/pt/lodge-catalog/lodge...</td>\n",
       "    </tr>\n",
       "    <tr>\n",
       "      <th>4</th>\n",
       "      <td>6</td>\n",
       "      <td>Casa da Cancela - Aldeia das Oliveiras</td>\n",
       "      <td>https://bookinxisto.com/pt/lodge-catalog/lodge...</td>\n",
       "    </tr>\n",
       "    <tr>\n",
       "      <th>5</th>\n",
       "      <td>9</td>\n",
       "      <td>Casa da Tia Bela - Casas do Favacal</td>\n",
       "      <td>https://bookinxisto.com/pt/lodge-catalog/lodge...</td>\n",
       "    </tr>\n",
       "    <tr>\n",
       "      <th>6</th>\n",
       "      <td>4</td>\n",
       "      <td>No Caminho de Xisto</td>\n",
       "      <td>https://bookinxisto.com/pt/experience-catalog/...</td>\n",
       "    </tr>\n",
       "  </tbody>\n",
       "</table>\n",
       "</div>"
      ],
      "text/plain": [
       "   ID                                  titulo  \\\n",
       "0   1                 Convento da Sertã Hotel   \n",
       "1   2                   Casa Princesa Peralta   \n",
       "2   4   Casa da Laranjeira - Aldeia de Camelo   \n",
       "3   5                        Casinha do Conde   \n",
       "4   6  Casa da Cancela - Aldeia das Oliveiras   \n",
       "5   9     Casa da Tia Bela - Casas do Favacal   \n",
       "6   4                     No Caminho de Xisto   \n",
       "\n",
       "                                                 url  \n",
       "0  https://bookinxisto.com/pt/lodge-catalog/lodge...  \n",
       "1  https://bookinxisto.com/pt/lodge-catalog/lodge...  \n",
       "2  https://bookinxisto.com/pt/lodge-catalog/lodge...  \n",
       "3  https://bookinxisto.com/pt/lodge-catalog/lodge...  \n",
       "4  https://bookinxisto.com/pt/lodge-catalog/lodge...  \n",
       "5  https://bookinxisto.com/pt/lodge-catalog/lodge...  \n",
       "6  https://bookinxisto.com/pt/experience-catalog/...  "
      ]
     },
     "execution_count": 5,
     "metadata": {},
     "output_type": "execute_result"
    }
   ],
   "source": [
    "result\n"
   ]
  },
  {
   "cell_type": "code",
   "execution_count": null,
   "metadata": {},
   "outputs": [],
   "source": []
  }
 ],
 "metadata": {
  "kernelspec": {
   "display_name": "Python 3",
   "language": "python",
   "name": "python3"
  },
  "language_info": {
   "codemirror_mode": {
    "name": "ipython",
    "version": 3
   },
   "file_extension": ".py",
   "mimetype": "text/x-python",
   "name": "python",
   "nbconvert_exporter": "python",
   "pygments_lexer": "ipython3",
   "version": "3.6.5"
  }
 },
 "nbformat": 4,
 "nbformat_minor": 2
}
