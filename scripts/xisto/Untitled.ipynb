{
 "cells": [
  {
   "cell_type": "markdown",
   "metadata": {},
   "source": [
    "# Used for a small and simplified sample"
   ]
  },
  {
   "cell_type": "code",
   "execution_count": 1,
   "metadata": {},
   "outputs": [
    {
     "name": "stderr",
     "output_type": "stream",
     "text": [
      "/home/fillipe/anaconda3/envs/pandas/lib/python3.6/importlib/_bootstrap.py:219: RuntimeWarning: numpy.dtype size changed, may indicate binary incompatibility. Expected 96, got 88\n",
      "  return f(*args, **kwds)\n",
      "/home/fillipe/anaconda3/envs/pandas/lib/python3.6/importlib/_bootstrap.py:219: RuntimeWarning: numpy.dtype size changed, may indicate binary incompatibility. Expected 96, got 88\n",
      "  return f(*args, **kwds)\n"
     ]
    }
   ],
   "source": [
    "import pandas as pd\n",
    "import json\n",
    "\n",
    "from urllib import parse\n",
    "from urllib.parse import parse_qs, urlparse"
   ]
  },
  {
   "cell_type": "code",
   "execution_count": 2,
   "metadata": {},
   "outputs": [],
   "source": [
    "fullText = pd.read_excel('source_limpissimo_so_com_village_id.xlsx')"
   ]
  },
  {
   "cell_type": "code",
   "execution_count": 17,
   "metadata": {},
   "outputs": [
    {
     "name": "stdout",
     "output_type": "stream",
     "text": [
      "{'lodgesearch[village_id]': {}, 'experiencesearch[village_id]': {}}\n",
      "{'lodgesearch[village_id]': {'14': 1}, 'experiencesearch[village_id]': {}}\n",
      "{'lodgesearch[village_id]': {'14': 1, '36': 1}, 'experiencesearch[village_id]': {'49': 1}}\n",
      "{'lodgesearch[village_id]': {'14': 1, '36': 1, '11': 1}, 'experiencesearch[village_id]': {'49': 1}}\n",
      "{'lodgesearch[village_id]': {'14': 1, '36': 1, '11': 1, '1': 3}, 'experiencesearch[village_id]': {'49': 1}}\n",
      "{'lodgesearch[village_id]': {'14': 1, '36': 1, '11': 1, '1': 6}, 'experiencesearch[village_id]': {'49': 1}}\n",
      "{'lodgesearch[village_id]': {'14': 1, '36': 1, '11': 1, '1': 6, '10': 2}, 'experiencesearch[village_id]': {'49': 1}}\n",
      "{'lodgesearch[village_id]': {'14': 1, '36': 1, '11': 1, '1': 6, '10': 4}, 'experiencesearch[village_id]': {'49': 1}}\n",
      "{'lodgesearch[village_id]': {'14': 1, '36': 1, '11': 1, '1': 6, '10': 4, '27': 2}, 'experiencesearch[village_id]': {'49': 1}}\n",
      "{'lodgesearch[village_id]': {'14': 1, '36': 1, '11': 1, '1': 6, '10': 4, '27': 3}, 'experiencesearch[village_id]': {'49': 1}}\n",
      "{'lodgesearch[village_id]': {'14': 1, '36': 1, '11': 1, '1': 6, '10': 4, '27': 3, '31': 1}, 'experiencesearch[village_id]': {'49': 1}}\n",
      "{'lodgesearch[village_id]': {'14': 1, '36': 1, '11': 1, '1': 6, '10': 4, '27': 3, '31': 3}, 'experiencesearch[village_id]': {'49': 1}}\n",
      "{'lodgesearch[village_id]': {'14': 1, '36': 1, '11': 1, '1': 6, '10': 4, '27': 3, '31': 6}, 'experiencesearch[village_id]': {'49': 1}}\n",
      "{'lodgesearch[village_id]': {'14': 1, '36': 1, '11': 1, '1': 6, '10': 4, '27': 3, '31': 15}, 'experiencesearch[village_id]': {'49': 1}}\n",
      "{'lodgesearch[village_id]': {'14': 1, '36': 1, '11': 1, '1': 6, '10': 4, '27': 3, '31': 16}, 'experiencesearch[village_id]': {'49': 1}}\n",
      "{'lodgesearch[village_id]': {'14': 1, '36': 1, '11': 1, '1': 6, '10': 4, '27': 3, '31': 17}, 'experiencesearch[village_id]': {'49': 1}}\n",
      "{'lodgesearch[village_id]': {'14': 1, '36': 1, '11': 1, '1': 6, '10': 4, '27': 3, '31': 18}, 'experiencesearch[village_id]': {'49': 1}}\n",
      "{'lodgesearch[village_id]': {'14': 1, '36': 2, '11': 1, '1': 6, '10': 4, '27': 3, '31': 18}, 'experiencesearch[village_id]': {'49': 1}}\n",
      "{'lodgesearch[village_id]': {'14': 1, '36': 2, '11': 1, '1': 6, '10': 4, '27': 3, '31': 18, '4': 2}, 'experiencesearch[village_id]': {'49': 1}}\n",
      "{'lodgesearch[village_id]': {'14': 1, '36': 2, '11': 1, '1': 6, '10': 4, '27': 3, '31': 18, '4': 3}, 'experiencesearch[village_id]': {'49': 1}}\n",
      "{'lodgesearch[village_id]': {'14': 1, '36': 2, '11': 1, '1': 6, '10': 4, '27': 3, '31': 18, '4': 3, '46': 1}, 'experiencesearch[village_id]': {'49': 1}}\n",
      "{'lodgesearch[village_id]': {'14': 1, '36': 2, '11': 1, '1': 6, '10': 4, '27': 3, '31': 18, '4': 3, '46': 1, '51': 1}, 'experiencesearch[village_id]': {'49': 1}}\n",
      "{'lodgesearch[village_id]': {'14': 1, '36': 2, '11': 1, '1': 6, '10': 4, '27': 3, '31': 18, '4': 3, '46': 1, '51': 1, '6': 8}, 'experiencesearch[village_id]': {'49': 1}}\n",
      "{'lodgesearch[village_id]': {'14': 1, '36': 2, '11': 1, '1': 6, '10': 4, '27': 3, '31': 18, '4': 3, '46': 1, '51': 1, '6': 9}, 'experiencesearch[village_id]': {'49': 1}}\n",
      "{'lodgesearch[village_id]': {'14': 1, '36': 2, '11': 1, '1': 6, '10': 4, '27': 3, '31': 18, '4': 3, '46': 1, '51': 1, '6': 12}, 'experiencesearch[village_id]': {'49': 1}}\n",
      "{'lodgesearch[village_id]': {'14': 1, '36': 2, '11': 1, '1': 6, '10': 4, '27': 3, '31': 18, '4': 3, '46': 1, '51': 1, '6': 13}, 'experiencesearch[village_id]': {'49': 1}}\n",
      "{'lodgesearch[village_id]': {'14': 1, '36': 2, '11': 1, '1': 6, '10': 4, '27': 3, '31': 18, '4': 3, '46': 1, '51': 1, '6': 13, '7': 1}, 'experiencesearch[village_id]': {'49': 1}}\n",
      "{'lodgesearch[village_id]': {'14': 1, '36': 2, '11': 1, '1': 6, '10': 4, '27': 3, '31': 18, '4': 3, '46': 1, '51': 1, '6': 13, '7': 57}, 'experiencesearch[village_id]': {'49': 1}}\n",
      "{'lodgesearch[village_id]': {'14': 1, '36': 2, '11': 1, '1': 6, '10': 4, '27': 3, '31': 18, '4': 3, '46': 1, '51': 1, '6': 13, '7': 167}, 'experiencesearch[village_id]': {'49': 1}}\n",
      "{'lodgesearch[village_id]': {'14': 1, '36': 2, '11': 1, '1': 6, '10': 4, '27': 3, '31': 18, '4': 3, '46': 1, '51': 1, '6': 13, '7': 171}, 'experiencesearch[village_id]': {'49': 1}}\n",
      "{'lodgesearch[village_id]': {'14': 1, '36': 2, '11': 1, '1': 6, '10': 4, '27': 3, '31': 18, '4': 3, '46': 1, '51': 1, '6': 13, '7': 173}, 'experiencesearch[village_id]': {'49': 1}}\n",
      "{'lodgesearch[village_id]': {'14': 1, '36': 2, '11': 1, '1': 6, '10': 4, '27': 3, '31': 18, '4': 3, '46': 1, '51': 1, '6': 13, '7': 175}, 'experiencesearch[village_id]': {'49': 1}}\n",
      "{'lodgesearch[village_id]': {'14': 1, '36': 2, '11': 1, '1': 6, '10': 4, '27': 3, '31': 18, '4': 3, '46': 1, '51': 1, '6': 13, '7': 177}, 'experiencesearch[village_id]': {'49': 1}}\n",
      "{'lodgesearch[village_id]': {'14': 1, '36': 2, '11': 1, '1': 6, '10': 4, '27': 3, '31': 18, '4': 3, '46': 1, '51': 1, '6': 13, '7': 181}, 'experiencesearch[village_id]': {'49': 1}}\n",
      "{'lodgesearch[village_id]': {'14': 1, '36': 2, '11': 1, '1': 6, '10': 4, '27': 3, '31': 18, '4': 3, '46': 1, '51': 1, '6': 13, '7': 182}, 'experiencesearch[village_id]': {'49': 1}}\n",
      "{'lodgesearch[village_id]': {'14': 1, '36': 2, '11': 1, '1': 6, '10': 4, '27': 3, '31': 18, '4': 3, '46': 1, '51': 1, '6': 13, '7': 182, '8': 2}, 'experiencesearch[village_id]': {'49': 1}}\n",
      "{'lodgesearch[village_id]': {'14': 1, '36': 2, '11': 1, '1': 6, '10': 4, '27': 3, '31': 18, '4': 3, '46': 1, '51': 1, '6': 13, '7': 183, '8': 2}, 'experiencesearch[village_id]': {'49': 1}}\n",
      "{'lodgesearch[village_id]': {'14': 1, '36': 2, '11': 1, '1': 6, '10': 4, '27': 3, '31': 18, '4': 3, '46': 1, '51': 1, '6': 13, '7': 186, '8': 2}, 'experiencesearch[village_id]': {'49': 1}}\n",
      "{'lodgesearch[village_id]': {'14': 1, '36': 2, '11': 1, '1': 6, '10': 4, '27': 3, '31': 18, '4': 3, '46': 1, '51': 1, '6': 13, '7': 186, '8': 3}, 'experiencesearch[village_id]': {'49': 1}}\n",
      "{'lodgesearch[village_id]': {'14': 1, '36': 2, '11': 1, '1': 6, '10': 4, '27': 3, '31': 18, '4': 3, '46': 1, '51': 1, '6': 13, '7': 186, '8': 6}, 'experiencesearch[village_id]': {'49': 1}}\n"
     ]
    }
   ],
   "source": [
    "fullText.keys()\n",
    "hash_map = {}\n",
    "hash_map['lodgesearch[village_id]'] = {}\n",
    "hash_map['experiencesearch[village_id]'] = {}\n",
    "\n",
    "pagePathLower = pd.DataFrame(fullText['pagePath'].str.lower())\n",
    "for index, row in pagePathLower.iterrows():\n",
    "    url = parse.urlsplit(row.pagePath)\n",
    "    params = parse_qs(url.query)\n",
    "    weighSum = fullText.iloc[index].newUsers*1\n",
    "    if 'lodgesearch[fulltext]' not in params.keys() or 'experiencesearch[fulltext]' not in params.keys():\n",
    "        if 'experiencesearch[type_id]' not in params.keys():\n",
    "            if 'lodgesearch[type_id]' not in params.keys():\n",
    "                \n",
    "                \n",
    "                if 'lodgesearch[village_id]' in params.keys():\n",
    "                    print(hash_map)\n",
    "                    if params['lodgesearch[village_id]'][0] in hash_map['lodgesearch[village_id]'].keys():\n",
    "                        \n",
    "                        hash_map['lodgesearch[village_id]'][params['lodgesearch[village_id]'][0]] = hash_map['lodgesearch[village_id]'][params['lodgesearch[village_id]'][0]] + weighSum\n",
    "                    else:\n",
    "                        hash_map['lodgesearch[village_id]'][params['lodgesearch[village_id]'][0]] = weighSum\n",
    "                        \n",
    "                elif 'experiencesearch[village_id]' in params.keys():\n",
    "                    if params['experiencesearch[village_id]'][0] in hash_map['experiencesearch[village_id]']:\n",
    "                        hash_map['experiencesearch[village_id]'][params['experiencesearch[village_id]'][0]] = hash_map['experiencesearch[village_id]'][params['experiencesearch[village_id]'][0]] + weighSum\n",
    "                    else:\n",
    "                        hash_map['experiencesearch[village_id]'][params['experiencesearch[village_id]'][0]] = weighSum\n",
    "\n",
    "\n",
    "    "
   ]
  },
  {
   "cell_type": "code",
   "execution_count": 18,
   "metadata": {},
   "outputs": [
    {
     "data": {
      "text/plain": [
       "{'lodgesearch[village_id]': {'14': 1,\n",
       "  '36': 2,\n",
       "  '11': 1,\n",
       "  '1': 6,\n",
       "  '10': 4,\n",
       "  '27': 3,\n",
       "  '31': 18,\n",
       "  '4': 3,\n",
       "  '46': 1,\n",
       "  '51': 1,\n",
       "  '6': 13,\n",
       "  '7': 186,\n",
       "  '8': 8},\n",
       " 'experiencesearch[village_id]': {'49': 1}}"
      ]
     },
     "execution_count": 18,
     "metadata": {},
     "output_type": "execute_result"
    }
   ],
   "source": [
    "hash_map"
   ]
  },
  {
   "cell_type": "code",
   "execution_count": 19,
   "metadata": {},
   "outputs": [],
   "source": [
    "import json"
   ]
  },
  {
   "cell_type": "code",
   "execution_count": 20,
   "metadata": {},
   "outputs": [
    {
     "ename": "TypeError",
     "evalue": "Object of type 'int64' is not JSON serializable",
     "output_type": "error",
     "traceback": [
      "\u001b[0;31m---------------------------------------------------------------------------\u001b[0m",
      "\u001b[0;31mTypeError\u001b[0m                                 Traceback (most recent call last)",
      "\u001b[0;32m<ipython-input-20-b330ee7d269a>\u001b[0m in \u001b[0;36m<module>\u001b[0;34m()\u001b[0m\n\u001b[0;32m----> 1\u001b[0;31m \u001b[0mjson\u001b[0m\u001b[0;34m.\u001b[0m\u001b[0mdumps\u001b[0m\u001b[0;34m(\u001b[0m\u001b[0mhash_map\u001b[0m\u001b[0;34m,\u001b[0m \u001b[0mensure_ascii\u001b[0m\u001b[0;34m=\u001b[0m\u001b[0;32mFalse\u001b[0m\u001b[0;34m)\u001b[0m\u001b[0;34m\u001b[0m\u001b[0m\n\u001b[0m",
      "\u001b[0;32m~/anaconda3/envs/pandas/lib/python3.6/json/__init__.py\u001b[0m in \u001b[0;36mdumps\u001b[0;34m(obj, skipkeys, ensure_ascii, check_circular, allow_nan, cls, indent, separators, default, sort_keys, **kw)\u001b[0m\n\u001b[1;32m    236\u001b[0m         \u001b[0mcheck_circular\u001b[0m\u001b[0;34m=\u001b[0m\u001b[0mcheck_circular\u001b[0m\u001b[0;34m,\u001b[0m \u001b[0mallow_nan\u001b[0m\u001b[0;34m=\u001b[0m\u001b[0mallow_nan\u001b[0m\u001b[0;34m,\u001b[0m \u001b[0mindent\u001b[0m\u001b[0;34m=\u001b[0m\u001b[0mindent\u001b[0m\u001b[0;34m,\u001b[0m\u001b[0;34m\u001b[0m\u001b[0m\n\u001b[1;32m    237\u001b[0m         \u001b[0mseparators\u001b[0m\u001b[0;34m=\u001b[0m\u001b[0mseparators\u001b[0m\u001b[0;34m,\u001b[0m \u001b[0mdefault\u001b[0m\u001b[0;34m=\u001b[0m\u001b[0mdefault\u001b[0m\u001b[0;34m,\u001b[0m \u001b[0msort_keys\u001b[0m\u001b[0;34m=\u001b[0m\u001b[0msort_keys\u001b[0m\u001b[0;34m,\u001b[0m\u001b[0;34m\u001b[0m\u001b[0m\n\u001b[0;32m--> 238\u001b[0;31m         **kw).encode(obj)\n\u001b[0m\u001b[1;32m    239\u001b[0m \u001b[0;34m\u001b[0m\u001b[0m\n\u001b[1;32m    240\u001b[0m \u001b[0;34m\u001b[0m\u001b[0m\n",
      "\u001b[0;32m~/anaconda3/envs/pandas/lib/python3.6/json/encoder.py\u001b[0m in \u001b[0;36mencode\u001b[0;34m(self, o)\u001b[0m\n\u001b[1;32m    197\u001b[0m         \u001b[0;31m# exceptions aren't as detailed.  The list call should be roughly\u001b[0m\u001b[0;34m\u001b[0m\u001b[0;34m\u001b[0m\u001b[0m\n\u001b[1;32m    198\u001b[0m         \u001b[0;31m# equivalent to the PySequence_Fast that ''.join() would do.\u001b[0m\u001b[0;34m\u001b[0m\u001b[0;34m\u001b[0m\u001b[0m\n\u001b[0;32m--> 199\u001b[0;31m         \u001b[0mchunks\u001b[0m \u001b[0;34m=\u001b[0m \u001b[0mself\u001b[0m\u001b[0;34m.\u001b[0m\u001b[0miterencode\u001b[0m\u001b[0;34m(\u001b[0m\u001b[0mo\u001b[0m\u001b[0;34m,\u001b[0m \u001b[0m_one_shot\u001b[0m\u001b[0;34m=\u001b[0m\u001b[0;32mTrue\u001b[0m\u001b[0;34m)\u001b[0m\u001b[0;34m\u001b[0m\u001b[0m\n\u001b[0m\u001b[1;32m    200\u001b[0m         \u001b[0;32mif\u001b[0m \u001b[0;32mnot\u001b[0m \u001b[0misinstance\u001b[0m\u001b[0;34m(\u001b[0m\u001b[0mchunks\u001b[0m\u001b[0;34m,\u001b[0m \u001b[0;34m(\u001b[0m\u001b[0mlist\u001b[0m\u001b[0;34m,\u001b[0m \u001b[0mtuple\u001b[0m\u001b[0;34m)\u001b[0m\u001b[0;34m)\u001b[0m\u001b[0;34m:\u001b[0m\u001b[0;34m\u001b[0m\u001b[0m\n\u001b[1;32m    201\u001b[0m             \u001b[0mchunks\u001b[0m \u001b[0;34m=\u001b[0m \u001b[0mlist\u001b[0m\u001b[0;34m(\u001b[0m\u001b[0mchunks\u001b[0m\u001b[0;34m)\u001b[0m\u001b[0;34m\u001b[0m\u001b[0m\n",
      "\u001b[0;32m~/anaconda3/envs/pandas/lib/python3.6/json/encoder.py\u001b[0m in \u001b[0;36miterencode\u001b[0;34m(self, o, _one_shot)\u001b[0m\n\u001b[1;32m    255\u001b[0m                 \u001b[0mself\u001b[0m\u001b[0;34m.\u001b[0m\u001b[0mkey_separator\u001b[0m\u001b[0;34m,\u001b[0m \u001b[0mself\u001b[0m\u001b[0;34m.\u001b[0m\u001b[0mitem_separator\u001b[0m\u001b[0;34m,\u001b[0m \u001b[0mself\u001b[0m\u001b[0;34m.\u001b[0m\u001b[0msort_keys\u001b[0m\u001b[0;34m,\u001b[0m\u001b[0;34m\u001b[0m\u001b[0m\n\u001b[1;32m    256\u001b[0m                 self.skipkeys, _one_shot)\n\u001b[0;32m--> 257\u001b[0;31m         \u001b[0;32mreturn\u001b[0m \u001b[0m_iterencode\u001b[0m\u001b[0;34m(\u001b[0m\u001b[0mo\u001b[0m\u001b[0;34m,\u001b[0m \u001b[0;36m0\u001b[0m\u001b[0;34m)\u001b[0m\u001b[0;34m\u001b[0m\u001b[0m\n\u001b[0m\u001b[1;32m    258\u001b[0m \u001b[0;34m\u001b[0m\u001b[0m\n\u001b[1;32m    259\u001b[0m def _make_iterencode(markers, _default, _encoder, _indent, _floatstr,\n",
      "\u001b[0;32m~/anaconda3/envs/pandas/lib/python3.6/json/encoder.py\u001b[0m in \u001b[0;36mdefault\u001b[0;34m(self, o)\u001b[0m\n\u001b[1;32m    178\u001b[0m         \"\"\"\n\u001b[1;32m    179\u001b[0m         raise TypeError(\"Object of type '%s' is not JSON serializable\" %\n\u001b[0;32m--> 180\u001b[0;31m                         o.__class__.__name__)\n\u001b[0m\u001b[1;32m    181\u001b[0m \u001b[0;34m\u001b[0m\u001b[0m\n\u001b[1;32m    182\u001b[0m     \u001b[0;32mdef\u001b[0m \u001b[0mencode\u001b[0m\u001b[0;34m(\u001b[0m\u001b[0mself\u001b[0m\u001b[0;34m,\u001b[0m \u001b[0mo\u001b[0m\u001b[0;34m)\u001b[0m\u001b[0;34m:\u001b[0m\u001b[0;34m\u001b[0m\u001b[0m\n",
      "\u001b[0;31mTypeError\u001b[0m: Object of type 'int64' is not JSON serializable"
     ]
    }
   ],
   "source": [
    "json.dumps(hash_map, ensure_ascii=False)"
   ]
  },
  {
   "cell_type": "code",
   "execution_count": null,
   "metadata": {},
   "outputs": [],
   "source": []
  }
 ],
 "metadata": {
  "kernelspec": {
   "display_name": "Python 3",
   "language": "python",
   "name": "python3"
  },
  "language_info": {
   "codemirror_mode": {
    "name": "ipython",
    "version": 3
   },
   "file_extension": ".py",
   "mimetype": "text/x-python",
   "name": "python",
   "nbconvert_exporter": "python",
   "pygments_lexer": "ipython3",
   "version": "3.6.5"
  }
 },
 "nbformat": 4,
 "nbformat_minor": 2
}
