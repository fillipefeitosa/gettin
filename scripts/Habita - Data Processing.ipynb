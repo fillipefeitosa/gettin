{
 "cells": [
  {
   "cell_type": "code",
   "execution_count": 5,
   "metadata": {},
   "outputs": [],
   "source": [
    "import pandas as pd\n",
    "import json\n",
    "import math\n",
    "import numpy as np"
   ]
  },
  {
   "cell_type": "code",
   "execution_count": 6,
   "metadata": {},
   "outputs": [],
   "source": [
    "# importa data\n",
    "consultsRaw = pd.read_json('./habita/consults_updated.json', lines=True)\n",
    "consultsDecoded = consultsRaw"
   ]
  },
  {
   "cell_type": "code",
   "execution_count": 7,
   "metadata": {},
   "outputs": [],
   "source": [
    "qualifications = [\n",
    "    {\"label\":\"Não qualificado (analfabeto)\",\"value\":0},\n",
    "    {\"label\":\"Não qualificado mas sabe ler / escrever\",\"value\":1},\n",
    "    {\"label\":\"1º ciclo\",\"value\":2},\n",
    "    {\"label\":\"2º ciclo\",\"value\":3},\n",
    "    {\"label\":\"3º ciclo\",\"value\":4},\n",
    "    {\"label\":\"Ensino secundário ou Profissional\",\"value\":5},\n",
    "    {\"label\":\"Ensino superior\",\"value\":6},\n",
    "]\n",
    "\n",
    "vulnerableTypes = [\n",
    "    {\"label\":\"Crianças em idade pré escolar com problemas de saúde crónicos\",\"value\":0},\n",
    "    {\"label\":\"Idosos com mobilidade reduzida\",\"value\":1},\n",
    "    {\"label\":\"Portadores de doenças crónicas e / ou incapacidade permanente / deficiência reconhecidas\",\"value\":2},\n",
    "    {\"label\":\"Consumo aditivo de álcool e/ou drogas ilícitas\",\"value\":3},\n",
    "    {\"label\":\"Isolamento territorial\",\"value\":4},\n",
    "    {\"label\":\"Carências económicas\",\"value\":5},\n",
    "    {\"label\":\"Isolamento social\",\"value\":6},\n",
    "    {\"label\":\"Identificação com grupo socio-cultural minoritário\",\"value\":7},\n",
    "]\n",
    "\n",
    "yesNoRadio = [{\"label\":\"Sim\",\"value\":1},{\"label\":\"Não\",\"value\":0}]\n",
    "\n",
    "neighborhoodTypology = [\n",
    "    {\"label\":\"Acampamento clandestino\",\"value\":0},\n",
    "    {\"label\":\"Area de risco (ex.: leito cheia, \",\"value\":1},\n",
    "    {\"label\":\"Bairro clandestino\",\"value\":2},\n",
    "    {\"label\":\"Bairro social\",\"value\":3},\n",
    "    {\"label\":\"Barracas e ruções precárias\",\"value\":4},\n",
    "    {\"label\":\"Conjunto urbano consolidado degradado\",\"value\":5},\n",
    "    {\"label\":\"Parque de campismo\",\"value\":6},\n",
    "    {\"label\":\"Nenhuma das anteriores / Área urbana convencional\",\"value\":7},\n",
    "]\n",
    "\n",
    "residenceType = [\n",
    "    {\"label\":\"Convencionais\",\"value\":0},\n",
    "    {\"label\":\"Não convencionais de pedra, alvenaria ou tijolo \",\"value\":1},\n",
    "    {\"label\":\"Prefabricados \",\"value\":2},\n",
    "    {\"label\":\"Móveis / caravanas\",\"value\":3},\n",
    "    {\"label\":\"Tendas\",\"value\":4},\n",
    "    {\"label\":\"Barracas \",\"value\":5},\n",
    "    {\"label\":\"rução assente em elementos naturais \",\"value\":6},\n",
    "]\n",
    "\n",
    "residenceOcupationType = [\n",
    "    {\"label\":\"Arrendatários privados \",\"value\":0},\n",
    "    {\"label\":\"Arrendatários públicos \",\"value\":1},\n",
    "    {\"label\":\"Cedências \",\"value\":2},\n",
    "    {\"label\":\"Clandestina \",\"value\":3},\n",
    "    {\"label\":\"Concessionários \",\"value\":4},\n",
    "    {\"label\":\"Proprietários sem empréstimo bancário\",\"value\":5},\n",
    "    {\"label\":\"Proprietários com empréstimo bancário\",\"value\":6},\n",
    "]\n",
    "\n",
    "habObjectiveDepravation = [\n",
    "    {\"label\":\"Alojamento s/ instalações sanitárias\",\"value\":0},\n",
    "    {\"label\":\"Alojamento s/ pelo menos uma das infraestruturas / serviços básicos (eletricidade, água, saneamento)\",\"value\":1},\n",
    "    {\"label\":\"Alojamento a necessitar de obras reparação em elementos estruturantes (telhado, placa divisória entre pisos, …)\",\"value\":2},\n",
    "    {\"label\":\"Alojamento inadequado face às condições de saúde dos residentes (mobilidade - acesso interior / com o exterior, problemas de saúde crónicos e respetivos requisitos para prestação de assistência, ...)\",\"value\":3},\n",
    "    {\"label\":\"Alojamento de dimensão inadequada ao tamanho do Agregado Familiar\",\"value\":4},\n",
    "    {\"label\":\"Alojamento adaptado de estruturas não convencionais (incluindo adaptação de antigas lojas de animais, de garagens, de anexos / arrumos, de espaços comerciais, entre outras situações não convencionais)\",\"value\":5},\n",
    "    {\"label\":\"Alojamento localizado em área urbana com riscos ambientais e sociais (níveis de poluentes e/ou ruído acima dos valores permitidos, problemas de saúde epidémicos / de saúde pública recorrentes - incluindo níveis de ruído críticos em vários períodos do dia ).\",\"value\":6},\n",
    "    {\"label\":\"Alojamento sem uma manutenção considerada adequada / convencional face às características do Agregado Familiar (limpeza, privacidade entre os ocupantes, funcionamento dos dispositivos / mecanismos estruturais - elementos da instalação elétrica ou da canalização entre outros)\",\"value\":7},\n",
    "    {\"label\":\"Alojamento com condições inadequadas de conforto térmico (Inverno e/ou Verão)\",\"value\":8},\n",
    "\n",
    "]\n",
    "\n",
    "significativeSocialProblems = [\n",
    "    {\"label\":\"Existência no Agregado Familiar de doenças crónicas\",\"value\":0},\n",
    "    {\"label\":\"Existência no Agregado Familiar de doença mental\",\"value\":1},\n",
    "    {\"label\":\"Existência no Agregado Familiar de incapacidades físicas\",\"value\":2},\n",
    "    {\"label\":\"Existência de problemas de dependências (Alcoolismo, droga, …)\",\"value\":3},\n",
    "    {\"label\":\"Situações de violência doméstica\",\"value\":4},\n",
    "    {\"label\":\"Conflitos familiares no Agregado Familiar\",\"value\":5},\n",
    "    {\"label\":\"Incapacidade de fazer face às despesas com o alojamento\",\"value\":6},\n",
    "    {\"label\":\"Absentismo escolar dos elementos em idade escolar do Agregado Familiar\",\"value\":7},\n",
    "    {\"label\":\"Desemprego de longa duração ou inatividade socioeconomica\",\"value\":8},\n",
    "]\n",
    "\n",
    "generalAFSocialPerception = [\n",
    "    {\"label\":\"Agregado Familiar em situação de carência social e económica visível / declarada / sinalizada\", \"value\": 0},\n",
    "    {\"label\": \"Agregado Familiar em situação de carência social e económica escondida / suspeita de / não sinalizada\", \"value\": 1}\n",
    "]\n",
    "\n",
    "socialServicesToAfFromSource = [\n",
    "    {\"label\":\"Institucionalização de elemento do Agregado Familiar\",\"value\":0},\n",
    "    {\"label\":\"Apoio alimentar\",\"value\":1},\n",
    "    {\"label\":\"Apoio domiciliário\",\"value\":2},\n",
    "    {\"label\":\"Ocupação de idosos / Centro de dia\",\"value\":3},\n",
    "    {\"label\":\"Ocupação de crianças e jovens (pós horário escolar)\",\"value\":4},\n",
    "    {\"label\":\"Apoio financeiro\",\"value\":5},\n",
    "]\n",
    "\n",
    "sourcesAndTotalvaluesAF = [\n",
    "    {\"label\":\"Pensoes sociais - RSI\",\"value\":0},\n",
    "    {\"label\":\"Pensoes sociais - Pensão de reforma\",\"value\":1},\n",
    "    {\"label\":\"Pensoes sociais - Pensão de invalidez\",\"value\":2},\n",
    "    {\"label\":\"Pensoes sociais - Subsídio de desemprego (período normal)\",\"value\":3},\n",
    "    {\"label\":\"Pensoes sociais - Subsídio de desemprego (longa duração)\",\"value\":4},\n",
    "    {\"label\":\"Pensoes sociais - Complemento solidário para idosos\",\"value\":5},\n",
    "    {\"label\":\"Atividade Profissional\",\"value\":6},\n",
    "    {\"label\":\"Outra situação\",\"value\":7},\n",
    "    {\"label\":\"Sem rendimentos conhecidos\",\"value\":8},\n",
    "]\n",
    "\n",
    "afLivesInBadComunity = [\n",
    "    {\"label\":\"Sim, na comunidade localizada na Rua do Picoto\",\"value\":0},\n",
    "    {\"label\":\"Sim, na comunidade localizada na Rua da Fonte da Pipa\",\"value\":1},\n",
    "    {\"label\":\"Sim, na comunidade localizada no Bairro de Santa Luzia\",\"value\":2},\n",
    "    {\"label\":\"Não\",\"value\":3},\n",
    "    {\"label\":\"Não Sei\",\"value\":4},\n",
    "]\n"
   ]
  },
  {
   "cell_type": "code",
   "execution_count": 8,
   "metadata": {},
   "outputs": [],
   "source": [
    "def decodeLabels(df, name, labelsList):\n",
    "    listOfControls = []\n",
    "    for item in df.iterrows():\n",
    "        control = []\n",
    "        if (isinstance(df[name][item[0]], list)):\n",
    "            for e in df[name][item[0]]:\n",
    "                control.append(labelsList[e]['label'])\n",
    "        else:\n",
    "            # Caso não seja uma lista: ou é float, ou é um NaN\n",
    "            if (math.isnan(df[name][item[0]])):\n",
    "                control.append('')\n",
    "            elif (isinstance(df[name][item[0]], float)):\n",
    "                control.append(labelsList[int(df[name][item[0]])]['label'])\n",
    "        listOfControls.append(control)\n",
    "    return listOfControls"
   ]
  },
  {
   "cell_type": "code",
   "execution_count": 9,
   "metadata": {},
   "outputs": [],
   "source": [
    "consultsDecoded['vulnerableTypes'] = decodeLabels(consultsRaw, 'vulnerableTypes', vulnerableTypes)\n"
   ]
  },
  {
   "cell_type": "code",
   "execution_count": 10,
   "metadata": {},
   "outputs": [],
   "source": [
    "consultsDecoded['neighborhoodTypology'] = decodeLabels(consultsRaw, 'neighborhoodTypology', neighborhoodTypology)\n",
    "consultsDecoded['residenceType'] = decodeLabels(consultsRaw, 'residenceType', residenceType)\n",
    "consultsDecoded['residenceOcupationType'] = decodeLabels(consultsRaw, 'residenceOcupationType', residenceOcupationType)\n",
    "consultsDecoded['habObjectiveDepravation'] = decodeLabels(consultsRaw, 'habObjectiveDepravation', habObjectiveDepravation)\n",
    "consultsDecoded['significativeSocialProblems'] = decodeLabels(consultsRaw, 'significativeSocialProblems', significativeSocialProblems)\n",
    "consultsDecoded['generalAFSocialPerception'] = decodeLabels(consultsRaw, 'generalAFSocialPerception', generalAFSocialPerception)\n",
    "consultsDecoded['socialServicesToAfFromSource'] = decodeLabels(consultsRaw, 'socialServicesToAfFromSource', socialServicesToAfFromSource)\n",
    "# consultsDecoded['sourcesAndTotalvaluesAF'] = decodeLabels(consultsRaw, 'sourcesAndTotalvaluesAF', sourcesAndTotalvaluesAF)\n",
    "consultsDecoded['afLivesInBadComunity'] = decodeLabels(consultsRaw, 'afLivesInBadComunity', afLivesInBadComunity)\n",
    "\n"
   ]
  },
  {
   "cell_type": "code",
   "execution_count": 11,
   "metadata": {},
   "outputs": [],
   "source": [
    "consultsDecoded.to_csv('./habita/consultsDecoded.csv')"
   ]
  },
  {
   "cell_type": "code",
   "execution_count": 12,
   "metadata": {},
   "outputs": [],
   "source": [
    "consultsDecoded.to_excel('./habita/consultsDecoded.xlsx')"
   ]
  },
  {
   "cell_type": "code",
   "execution_count": 18,
   "metadata": {},
   "outputs": [
    {
     "data": {
      "text/plain": [
       "28    Este agregado é constituido por três homens, o...\n",
       "Name: habObjectiveDepravationObs, dtype: object"
      ]
     },
     "execution_count": 18,
     "metadata": {},
     "output_type": "execute_result"
    }
   ],
   "source": [
    "consultsDecoded[consultsDecoded['_id']=='k4h8SJ4g7gDTyS9TQ']['habObjectiveDepravationObs']"
   ]
  },
  {
   "cell_type": "code",
   "execution_count": null,
   "metadata": {},
   "outputs": [],
   "source": []
  }
 ],
 "metadata": {
  "kernelspec": {
   "display_name": "Python 3",
   "language": "python",
   "name": "python3"
  },
  "language_info": {
   "codemirror_mode": {
    "name": "ipython",
    "version": 3
   },
   "file_extension": ".py",
   "mimetype": "text/x-python",
   "name": "python",
   "nbconvert_exporter": "python",
   "pygments_lexer": "ipython3",
   "version": "3.6.7"
  }
 },
 "nbformat": 4,
 "nbformat_minor": 2
}
