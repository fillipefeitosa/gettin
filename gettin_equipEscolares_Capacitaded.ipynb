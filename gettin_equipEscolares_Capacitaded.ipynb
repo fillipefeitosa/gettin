{
 "cells": [
  {
   "cell_type": "markdown",
   "metadata": {},
   "source": [
    "# GETTIN\n",
    "## Planejamento de Equipamentos Escolares\n",
    "## Método: Capacitaded Facility Location\n",
    "### Versão: 0.5\n",
    "#### Fillipe O Feitosa <fillipefeitosa@ua.pt>\n",
    "\n",
    "---\n"
   ]
  },
  {
   "cell_type": "markdown",
   "metadata": {},
   "source": [
    "\\begin{split}& \\text{minimize} \\quad    & \\sum_{j=1}^m f_j x_j +\\sum_{i=1}^n \\sum_{j=1}^m c_{ij} y_{ij} &     \\\\\n",
    "& \\text{subject to:} \\quad & \\sum_{j=1}^m y_{ij} =d_i  &  \\mbox{ for }  i=1,\\cdots,n \\\\\n",
    "&    & \\sum_{i=1}^n y_{ij} \\leq M_j x_j & \\mbox{ for } j=1,\\cdots,m  \\\\\n",
    "&    & y_{ij} \\leq d_i x_j              & \\mbox{ for } i=1,\\cdots,n; j=1,\\cdots,m \\\\\n",
    "&    & y_{ij} \\geq 0                    & \\mbox{ for } i=1,\\cdots,n; j=1,\\cdots,m \\\\\n",
    "&    & x_j \\in \\{ 0,1 \\}                & \\mbox{ for } j=1,\\cdots,m\\end{split}"
   ]
  },
  {
   "cell_type": "markdown",
   "metadata": {},
   "source": [
    "#### Modeling and Creating Decision Variables"
   ]
  },
  {
   "cell_type": "code",
   "execution_count": 1,
   "metadata": {},
   "outputs": [],
   "source": [
    "# Import Libraries\n",
    "from gurobi import *\n",
    "import math\n",
    "import matplotlib.pyplot as plt\n",
    "\n",
    "def distance(a,b):\n",
    "    dx = a[0] - b[0]\n",
    "    dy = a[1] - b[1]\n",
    "    return math.sqrt(dx*dx + dy*dy)\n",
    "\n",
    "# Data\n",
    "# Problem data\n",
    "\n",
    "\n",
    "# --------- Capacitaded - Dados de TESTE -----------#\n",
    "# I, d\n",
    "# Retirar os Centroides de Cada Subsecao - OK\n",
    "# Adicionar a Demanda de cada Subsecao atravez da Planinlha\n",
    "subSecao, subDemanda = multidict({1:80, 2:270, 3:250, 4:160, 5:180})\n",
    "# J, M, f\n",
    "# Cada possível Escola é um centroid também - OK\n",
    "# Adicionar um valor fixo para cada Escola  - custo Anual\n",
    "# Adicionar um valor fixo para a capacidade da Escola\n",
    "escola, capacidadeEscola, custoAnual = multidict({1:[500,1000], 2:[500,4000], 3:[500,8500]})\n",
    "# c\n",
    "# Fazer uma Matriz (como no modelo antigo), usando as distancias\n",
    "custoTransporte = {(1,1):4,  (1,2):6,  (1,3):9,\n",
    "     (2,1):5,  (2,2):4,  (2,3):7,\n",
    "     (3,1):6,  (3,2):3,  (3,3):4,\n",
    "     (4,1):8,  (4,2):5,  (4,3):3,\n",
    "     (5,1):10, (5,2):8,  (5,3):4,\n",
    "     }\n",
    "\n",
    "\n",
    "# import geopandas as gpd\n",
    "\n",
    "# vagos = gpd.read_file('./data_gettin/vagos.geojson');\n",
    "# centroids = vagos.centroid\n",
    "\n",
    "# iteratorHandler = centroids.size\n",
    "# centroidVector = []\n",
    "# for centroid in centroids:\n",
    "#     obj = [centroid.xy[0][0], centroid.xy[1][0]]\n",
    "#     centroidVector.append(obj)\n",
    "\n",
    "# subSections = centroidVector\n",
    "# schools = centroidVector\n",
    "# # @charge: custo de construcao por escola (fixo em 500 mil euros)\n",
    "# charge = 5000000\n",
    "\n",
    "numSchools = len(escola)\n",
    "numSubSections = len(subSecao)\n",
    "\n",
    "# Creting Guroby Model\n",
    "m = Model()\n",
    "\n",
    "# Decision Variables\n",
    "x = {}\n",
    "y = {}\n",
    "d = {} # Distance Matrix\n",
    "# @alpha: 0.29 de custo por Km  por (365 dias * 5 anos) \n",
    "# alpha = 529.25\n",
    "\n",
    "# creating binary variable for every school\n",
    "for j in escola:\n",
    "    x[j] = m.addVar(vtype=GRB.BINARY, name=\"escola(%d)\" % j)\n",
    "\n",
    "# creating continuous variable for subsections to check suply fractions\n",
    "for i in subSecao:\n",
    "    for j in escola:\n",
    "        # Fractions of Subsection Suply\n",
    "        y[(i,j)] = m.addVar(lb=0, vtype=GRB.CONTINUOUS, name=\"Fração da Sub[%d], escola[%d]\" % (i,j))\n",
    "        # Distances between Subsections and Schools\n",
    "        # d[(i,j)] = distance(subSecao[i], escola[j])\n",
    "\n",
    "m.update()"
   ]
  },
  {
   "cell_type": "code",
   "execution_count": 2,
   "metadata": {},
   "outputs": [
    {
     "data": {
      "text/plain": [
       "940"
      ]
     },
     "execution_count": 2,
     "metadata": {},
     "output_type": "execute_result"
    }
   ],
   "source": [
    "custoTransporte[1,1]\n",
    "subDemanda[1]\n",
    "soma = 0\n",
    "for r in subSecao:\n",
    "    soma += subDemanda[r]\n",
    "soma"
   ]
  },
  {
   "cell_type": "markdown",
   "metadata": {},
   "source": [
    "## Adding Constraints"
   ]
  },
  {
   "cell_type": "code",
   "execution_count": 3,
   "metadata": {},
   "outputs": [],
   "source": [
    "# Constraint for Every Student on School\n",
    "# for i in range(numSubSections):\n",
    "#     m.addConstr(quicksum(y[(i,j)] for j in range(numSchools)) == 1)\n",
    "\n",
    "# Constraint to repect demands on Every Subsection\n",
    "for i in subSecao:\n",
    "    m.addConstr(quicksum(y[(i,j)] for j in escola) == subDemanda[i])\n",
    "    \n",
    "# Constraint to restrain school capacity\n",
    "for j in capacidadeEscola:\n",
    "    m.addConstr(quicksum(y[(i,j)] for i in subSecao) <= capacidadeEscola[j] * x[j])\n",
    "    \n",
    "for (i,j) in y:\n",
    "    m.addConstr(y[i,j] <= subDemanda[i]*x[j], \"Strong(%s,%s)\"%(i,j))\n",
    "\n",
    "# Fraction of suply must be lower or equal than the BINARY x[j] available \n",
    "# for i in range(numSubSections):\n",
    "#     for j in range(numSchools):\n",
    "#         m.addConstr(y[(i,j)] <= x[j])"
   ]
  },
  {
   "cell_type": "markdown",
   "metadata": {},
   "source": [
    "#### Objetive\n"
   ]
  },
  {
   "cell_type": "code",
   "execution_count": 4,
   "metadata": {
    "scrolled": true
   },
   "outputs": [
    {
     "name": "stdout",
     "output_type": "stream",
     "text": [
      "Optimize a model with 23 rows, 18 columns and 63 nonzeros\n",
      "Variable types: 15 continuous, 3 integer (3 binary)\n",
      "Coefficient statistics:\n",
      "  Matrix range     [1e+00, 5e+02]\n",
      "  Objective range  [3e+00, 8e+03]\n",
      "  Bounds range     [1e+00, 1e+00]\n",
      "  RHS range        [8e+01, 3e+02]\n",
      "Presolve time: 0.00s\n",
      "Presolved: 23 rows, 18 columns, 63 nonzeros\n",
      "Variable types: 15 continuous, 3 integer (3 binary)\n",
      "\n",
      "Root relaxation: objective 9.529200e+03, 11 iterations, 0.00 seconds\n",
      "\n",
      "    Nodes    |    Current Node    |     Objective Bounds      |     Work\n",
      " Expl Unexpl |  Obj  Depth IntInf | Incumbent    BestBd   Gap | It/Node Time\n",
      "\n",
      "     0     0 9529.20000    0    1          - 9529.20000      -     -    0s\n",
      "H    0     0                    9840.0000000 9529.20000  3.16%     -    0s\n",
      "     0     0     cutoff    0      9840.00000 9840.00000  0.00%     -    0s\n",
      "\n",
      "Explored 1 nodes (11 simplex iterations) in 0.03 seconds\n",
      "Thread count was 4 (of 4 available processors)\n",
      "\n",
      "Solution count 1: 9840 \n",
      "\n",
      "Optimal solution found (tolerance 1.00e-04)\n",
      "Best objective 9.840000000000e+03, best bound 9.840000000000e+03, gap 0.0000%\n"
     ]
    }
   ],
   "source": [
    "# Setting objective\n",
    "\n",
    "m.setObjective(\n",
    "    quicksum(custoAnual[j]*x[j] for j in escola) + \n",
    "    quicksum(custoTransporte[i,j]*y[i,j] for i in subSecao for j in escola), GRB.MINIMIZE )\n",
    "\n",
    "\n",
    "m.optimize()"
   ]
  },
  {
   "cell_type": "code",
   "execution_count": 5,
   "metadata": {},
   "outputs": [
    {
     "data": {
      "text/plain": [
       "<gurobi.Model MIP instance Unnamed: 23 constrs, 18 vars, Parameter changes: LogFile=gurobi.log, CSIdleTimeout=1800>"
      ]
     },
     "execution_count": 5,
     "metadata": {},
     "output_type": "execute_result"
    }
   ],
   "source": [
    "m"
   ]
  },
  {
   "cell_type": "code",
   "execution_count": 6,
   "metadata": {},
   "outputs": [
    {
     "name": "stdout",
     "output_type": "stream",
     "text": [
      "Obj: 9840\n"
     ]
    }
   ],
   "source": [
    "print('Obj: %g' % m.objVal)"
   ]
  },
  {
   "cell_type": "code",
   "execution_count": 7,
   "metadata": {},
   "outputs": [
    {
     "name": "stdout",
     "output_type": "stream",
     "text": [
      "escola(1)   1\n",
      "escola(2)   1\n",
      "Fração da Sub[1], escola[1]   80\n",
      "Fração da Sub[2], escola[1]   270\n",
      "Fração da Sub[3], escola[2]   250\n",
      "Fração da Sub[4], escola[2]   160\n",
      "Fração da Sub[5], escola[1]   90\n",
      "Fração da Sub[5], escola[2]   90\n"
     ]
    }
   ],
   "source": [
    "for v in m.getVars():\n",
    "    if(v.x != 0):\n",
    "       print('%s   %g' % (v.varName, v.x))"
   ]
  },
  {
   "cell_type": "code",
   "execution_count": 8,
   "metadata": {},
   "outputs": [],
   "source": [
    "m = None"
   ]
  },
  {
   "cell_type": "code",
   "execution_count": 9,
   "metadata": {},
   "outputs": [],
   "source": [
    "disposeDefaultEnv()"
   ]
  },
  {
   "cell_type": "markdown",
   "metadata": {},
   "source": [
    "# "
   ]
  }
 ],
 "metadata": {
  "kernelspec": {
   "display_name": "Python 3",
   "language": "python",
   "name": "python3"
  },
  "language_info": {
   "codemirror_mode": {
    "name": "ipython",
    "version": 3
   },
   "file_extension": ".py",
   "mimetype": "text/x-python",
   "name": "python",
   "nbconvert_exporter": "python",
   "pygments_lexer": "ipython3",
   "version": "3.6.5"
  }
 },
 "nbformat": 4,
 "nbformat_minor": 2
}
