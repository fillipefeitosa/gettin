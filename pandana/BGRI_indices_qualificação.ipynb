{
 "cells": [
  {
   "cell_type": "code",
   "execution_count": 1,
   "metadata": {},
   "outputs": [],
   "source": [
    "import pandas as pd \n",
    "import numpy as np\n",
    "import geopandas as gpd\n",
    "from geopandas import GeoDataFrame\n",
    "import matplotlib.pyplot as plt\n",
    "import matplotlib.patches as mpatches\n",
    "from shapely.geometry import Point\n",
    "from shapely.geometry import Polygon"
   ]
  },
  {
   "cell_type": "code",
   "execution_count": 2,
   "metadata": {},
   "outputs": [],
   "source": [
    "# Routine to verify if the BGRI code is the original polygon\n",
    "def verifyBGRIconsistency():\n",
    "    notInPolygon = []\n",
    "    bgriInOriginal = gdf_escolas_1CEB_BGRI['BGRI11'].value_counts().keys().tolist()\n",
    "    for e in bgriInOriginal:\n",
    "        if e not in gdf_BGRI_2011.index:\n",
    "            notInPolygon.append(e)\n",
    "    return notInPolygon"
   ]
  },
  {
   "cell_type": "markdown",
   "metadata": {},
   "source": [
    "### Leitura de Ficheiros"
   ]
  },
  {
   "cell_type": "code",
   "execution_count": 3,
   "metadata": {},
   "outputs": [],
   "source": [
    "gdf_BGRI_2011 = gpd.read_file('./data/BGRI_2011/CONTINENTE/BGRI11_CONT.shp')\n",
    "gdf_BGRI_2011['Code_Freg'] = gdf_BGRI_2011['DTMN11'] + gdf_BGRI_2011['FR11']\n"
   ]
  },
  {
   "cell_type": "code",
   "execution_count": 4,
   "metadata": {},
   "outputs": [],
   "source": [
    "df_correspond_nuts3 = pd.read_csv(\"./data/00_Base_de_dados/CODIGOS_MUNICIPIOS_NUTS3.csv\",\n",
    "        engine='python', delimiter= \",\", dtype= {'code_mun': str})\n",
    "gdf_BGRI_2011 = gdf_BGRI_2011.merge(df_correspond_nuts3[['code_mun','nome_mun']], right_on= 'code_mun', left_on = 'DTMN11', how = 'left')\n",
    "gdf_BGRI_2011.drop(columns = ['code_mun'], inplace = True)"
   ]
  },
  {
   "cell_type": "code",
   "execution_count": 5,
   "metadata": {},
   "outputs": [],
   "source": [
    "gdf_escolas_Portugal_1CEB = gpd.read_file('./data/00_Base_de_dados/escolas_portugal/gdf_escolas_publicas_1CEB.shp')\n",
    "gdf_escolas_Portugal_1CEB = gdf_escolas_Portugal_1CEB.to_crs({'init': 'epsg:3763'})"
   ]
  },
  {
   "cell_type": "code",
   "execution_count": 6,
   "metadata": {},
   "outputs": [
    {
     "data": {
      "text/plain": [
       "3426"
      ]
     },
     "execution_count": 6,
     "metadata": {},
     "output_type": "execute_result"
    }
   ],
   "source": [
    "gdf_escolas_Portugal_1CEB.ESCOLA.count()"
   ]
  },
  {
   "cell_type": "code",
   "execution_count": 7,
   "metadata": {},
   "outputs": [],
   "source": [
    "df_TIPAU = pd.read_excel(\"./data/00_Base_de_dados/TIPAU_Freguesia_2011.xlsx\",sheet_name='SIG')\n",
    "gdf_BGRI_2011 = gdf_BGRI_2011.merge(df_TIPAU[['Código','TIPAU']],\n",
    "left_on='Code_Freg', right_on='Código')"
   ]
  },
  {
   "cell_type": "code",
   "execution_count": 8,
   "metadata": {},
   "outputs": [],
   "source": [
    "#gdf_BGRI_2011[gdf_BGRI_2011.LUG11=='999999']"
   ]
  },
  {
   "cell_type": "code",
   "execution_count": 9,
   "metadata": {},
   "outputs": [
    {
     "name": "stderr",
     "output_type": "stream",
     "text": [
      "/opt/conda/envs/pandana/lib/python3.6/site-packages/IPython/core/interactiveshell.py:3058: DtypeWarning: Columns (3) have mixed types. Specify dtype option on import or set low_memory=False.\n",
      "  interactivity=interactivity, compiler=compiler, result=result)\n"
     ]
    }
   ],
   "source": [
    "df_BGRI_2011_Grupo_etario = pd.read_csv(\"./data/00_Base_de_dados/C2011_subsec_Grupo_Etario.csv\", delimiter= ',', \n",
    "dtype ={'MUNICIPIO': str, 'FREGUESIA': str, 'SECCAO': str, 'SUBSECCAO': str})"
   ]
  },
  {
   "cell_type": "code",
   "execution_count": 10,
   "metadata": {},
   "outputs": [],
   "source": [
    "df_BGRI_Dados_gerais = pd.read_csv(\"./data/00_Base_de_dados/BGRI2011_PT.csv\", \n",
    "sep = ';', dtype= {'GEO_COD': str},  engine = 'python')\n",
    "df_BGRI_Dados_gerais['GEO_COD'] = df_BGRI_Dados_gerais['GEO_COD'].str[1:]"
   ]
  },
  {
   "cell_type": "code",
   "execution_count": 11,
   "metadata": {
    "scrolled": false
   },
   "outputs": [],
   "source": [
    "df_Accessibility_BGRI = pd.read_excel('./data/00_Base_de_dados/finalResultsAccessbility60km.xlsx', \n",
    "                                      dtype= {'Code_Freg': str, 'key_0': str})\n",
    "df_Accessibility_BGRI['code_mun']=df_Accessibility_BGRI['key_0'].astype(str).str[0:4]"
   ]
  },
  {
   "cell_type": "markdown",
   "metadata": {},
   "source": [
    "Calcular pop desempregada"
   ]
  },
  {
   "cell_type": "code",
   "execution_count": 12,
   "metadata": {},
   "outputs": [],
   "source": [
    "df_BGRI_Dados_gerais['Pop_desempregada']= df_BGRI_Dados_gerais.loc[:,['N_IND_RESID_DESEMP_PROC_1EMPRG','N_IND_RESID_DESEMP_PROC_EMPRG']].sum(axis=1)\n",
    "df_BGRI_Desempregados = df_BGRI_Dados_gerais.loc[:, ['GEO_COD', 'Pop_desempregada']]"
   ]
  },
  {
   "cell_type": "code",
   "execution_count": 13,
   "metadata": {},
   "outputs": [],
   "source": [
    "df_BGRI_2011_Grupo_etario ['Pop_idade_ativa'] = df_BGRI_2011_Grupo_etario.loc[:,'15 - 19':'60 - 64'].sum(axis = 1)"
   ]
  },
  {
   "cell_type": "code",
   "execution_count": 14,
   "metadata": {},
   "outputs": [],
   "source": [
    "gdf_BGRI_2011 = gdf_BGRI_2011.merge(df_BGRI_2011_Grupo_etario\\\n",
    "[['SUBSECCAO','Total Of CountOfIND', 'Pop_idade_ativa']][df_BGRI_2011_Grupo_etario.SEXO==0],\n",
    "left_on='BGRI11', right_on='SUBSECCAO', how='left')\n",
    "\n",
    "#what.fillna('unknown', inplace=True)"
   ]
  },
  {
   "cell_type": "code",
   "execution_count": 15,
   "metadata": {},
   "outputs": [
    {
     "data": {
      "text/plain": [
       "(19009, 17)"
      ]
     },
     "execution_count": 15,
     "metadata": {},
     "output_type": "execute_result"
    }
   ],
   "source": [
    "gdf_BGRI_2011[gdf_BGRI_2011.LUG11=='999999'].shape"
   ]
  },
  {
   "cell_type": "code",
   "execution_count": 16,
   "metadata": {},
   "outputs": [],
   "source": [
    "gdf_BGRI_2011.rename(columns={\"Total Of CountOfIND\": \"Pop_Total_2011\"}, inplace =True) "
   ]
  },
  {
   "cell_type": "code",
   "execution_count": 17,
   "metadata": {},
   "outputs": [],
   "source": [
    "gdf_BGRI_2011 = gdf_BGRI_2011.merge(df_BGRI_Desempregados,\n",
    "left_on='BGRI11', right_on='GEO_COD', how='left')"
   ]
  },
  {
   "cell_type": "code",
   "execution_count": 18,
   "metadata": {},
   "outputs": [],
   "source": [
    "gdf_BGRI_2011['Tx_desemprego'] = gdf_BGRI_2011['Pop_desempregada']/gdf_BGRI_2011['Pop_idade_ativa']*100"
   ]
  },
  {
   "cell_type": "code",
   "execution_count": 19,
   "metadata": {},
   "outputs": [
    {
     "data": {
      "text/html": [
       "<div>\n",
       "<style scoped>\n",
       "    .dataframe tbody tr th:only-of-type {\n",
       "        vertical-align: middle;\n",
       "    }\n",
       "\n",
       "    .dataframe tbody tr th {\n",
       "        vertical-align: top;\n",
       "    }\n",
       "\n",
       "    .dataframe thead th {\n",
       "        text-align: right;\n",
       "    }\n",
       "</style>\n",
       "<table border=\"1\" class=\"dataframe\">\n",
       "  <thead>\n",
       "    <tr style=\"text-align: right;\">\n",
       "      <th></th>\n",
       "      <th>DSR</th>\n",
       "      <th>DISTRITO</th>\n",
       "      <th>CONCELHO</th>\n",
       "      <th>NUTIII</th>\n",
       "      <th>CÓD. AGRUP</th>\n",
       "      <th>AGRUPAMENT</th>\n",
       "      <th>CÓD. DGEEC</th>\n",
       "      <th>CÓD. DGPGF</th>\n",
       "      <th>ESCOLA</th>\n",
       "      <th>MORADA</th>\n",
       "      <th>...</th>\n",
       "      <th>CODCONCELH</th>\n",
       "      <th>CODDISTRIT</th>\n",
       "      <th>CODNUTIII</th>\n",
       "      <th>CODGEPESED</th>\n",
       "      <th>CODDRE</th>\n",
       "      <th>ENSINOS_LI</th>\n",
       "      <th>LONG</th>\n",
       "      <th>Unnamed_ 3</th>\n",
       "      <th>CODCONCE_1</th>\n",
       "      <th>geometry</th>\n",
       "    </tr>\n",
       "  </thead>\n",
       "  <tbody>\n",
       "    <tr>\n",
       "      <th>0</th>\n",
       "      <td>Norte</td>\n",
       "      <td>Viana do Castelo</td>\n",
       "      <td>Melgaço</td>\n",
       "      <td>Minho Lima</td>\n",
       "      <td>152602.0</td>\n",
       "      <td>Escolas de Melgaço</td>\n",
       "      <td>1603773</td>\n",
       "      <td>294329</td>\n",
       "      <td>Escola Básica de Melgaço</td>\n",
       "      <td>Avenida Capitão Salgueiro Maia</td>\n",
       "      <td>...</td>\n",
       "      <td>1603</td>\n",
       "      <td>16.0</td>\n",
       "      <td>10101.0</td>\n",
       "      <td>1603190.0</td>\n",
       "      <td>101.0</td>\n",
       "      <td>AB</td>\n",
       "      <td>-8.260877</td>\n",
       "      <td>Público</td>\n",
       "      <td>None</td>\n",
       "      <td>POINT (-10567.991 270827.129)</td>\n",
       "    </tr>\n",
       "    <tr>\n",
       "      <th>1</th>\n",
       "      <td>Norte</td>\n",
       "      <td>Viana do Castelo</td>\n",
       "      <td>Monção</td>\n",
       "      <td>Minho Lima</td>\n",
       "      <td>153023.0</td>\n",
       "      <td>Escolas de Monção</td>\n",
       "      <td>1604149</td>\n",
       "      <td>291663</td>\n",
       "      <td>Escola Básica José Pinheiro Gonçalves, Monção</td>\n",
       "      <td>Bairro das Escolas Primárias</td>\n",
       "      <td>...</td>\n",
       "      <td>1604</td>\n",
       "      <td>16.0</td>\n",
       "      <td>10101.0</td>\n",
       "      <td>1604079.0</td>\n",
       "      <td>101.0</td>\n",
       "      <td>AB</td>\n",
       "      <td>-8.476451</td>\n",
       "      <td>Público</td>\n",
       "      <td>None</td>\n",
       "      <td>POINT (-28412.705 267350.864)</td>\n",
       "    </tr>\n",
       "    <tr>\n",
       "      <th>2</th>\n",
       "      <td>Norte</td>\n",
       "      <td>Viana do Castelo</td>\n",
       "      <td>Melgaço</td>\n",
       "      <td>Minho Lima</td>\n",
       "      <td>152602.0</td>\n",
       "      <td>Escolas de Melgaço</td>\n",
       "      <td>1603780</td>\n",
       "      <td>265342</td>\n",
       "      <td>Escola Básica de Pomares, Melgaço</td>\n",
       "      <td>Pomares</td>\n",
       "      <td>...</td>\n",
       "      <td>1603</td>\n",
       "      <td>16.0</td>\n",
       "      <td>10101.0</td>\n",
       "      <td>1603190.0</td>\n",
       "      <td>101.0</td>\n",
       "      <td>AB</td>\n",
       "      <td>-8.277731</td>\n",
       "      <td>Público</td>\n",
       "      <td>None</td>\n",
       "      <td>POINT (-11970.880 265590.835)</td>\n",
       "    </tr>\n",
       "    <tr>\n",
       "      <th>3</th>\n",
       "      <td>Norte</td>\n",
       "      <td>Viana do Castelo</td>\n",
       "      <td>Monção</td>\n",
       "      <td>Minho Lima</td>\n",
       "      <td>153023.0</td>\n",
       "      <td>Escolas de Monção</td>\n",
       "      <td>1604542</td>\n",
       "      <td>291614</td>\n",
       "      <td>Escola Básica de Estrada, Monção</td>\n",
       "      <td>Estrada</td>\n",
       "      <td>...</td>\n",
       "      <td>1604</td>\n",
       "      <td>16.0</td>\n",
       "      <td>10101.0</td>\n",
       "      <td>1604079.0</td>\n",
       "      <td>101.0</td>\n",
       "      <td>AB</td>\n",
       "      <td>-8.488950</td>\n",
       "      <td>Público</td>\n",
       "      <td>None</td>\n",
       "      <td>POINT (-29457.051 264948.659)</td>\n",
       "    </tr>\n",
       "    <tr>\n",
       "      <th>4</th>\n",
       "      <td>Norte</td>\n",
       "      <td>Viana do Castelo</td>\n",
       "      <td>Valença</td>\n",
       "      <td>Minho Lima</td>\n",
       "      <td>150587.0</td>\n",
       "      <td>Escolas de Muralhas do Minho, Valença</td>\n",
       "      <td>1608974</td>\n",
       "      <td>294330</td>\n",
       "      <td>Escola Básica de Friestas, Valença</td>\n",
       "      <td>Rua Amaro da Costa - Trofa de Cima</td>\n",
       "      <td>...</td>\n",
       "      <td>1608</td>\n",
       "      <td>16.0</td>\n",
       "      <td>10101.0</td>\n",
       "      <td>1608480.0</td>\n",
       "      <td>101.0</td>\n",
       "      <td>AB</td>\n",
       "      <td>-8.571300</td>\n",
       "      <td>Público</td>\n",
       "      <td>None</td>\n",
       "      <td>POINT (-36279.268 263972.853)</td>\n",
       "    </tr>\n",
       "  </tbody>\n",
       "</table>\n",
       "<p>5 rows × 32 columns</p>\n",
       "</div>"
      ],
      "text/plain": [
       "     DSR          DISTRITO CONCELHO      NUTIII  CÓD. AGRUP  \\\n",
       "0  Norte  Viana do Castelo  Melgaço  Minho Lima    152602.0   \n",
       "1  Norte  Viana do Castelo   Monção  Minho Lima    153023.0   \n",
       "2  Norte  Viana do Castelo  Melgaço  Minho Lima    152602.0   \n",
       "3  Norte  Viana do Castelo   Monção  Minho Lima    153023.0   \n",
       "4  Norte  Viana do Castelo  Valença  Minho Lima    150587.0   \n",
       "\n",
       "                              AGRUPAMENT  CÓD. DGEEC  CÓD. DGPGF  \\\n",
       "0                     Escolas de Melgaço     1603773      294329   \n",
       "1                      Escolas de Monção     1604149      291663   \n",
       "2                     Escolas de Melgaço     1603780      265342   \n",
       "3                      Escolas de Monção     1604542      291614   \n",
       "4  Escolas de Muralhas do Minho, Valença     1608974      294330   \n",
       "\n",
       "                                          ESCOLA  \\\n",
       "0                       Escola Básica de Melgaço   \n",
       "1  Escola Básica José Pinheiro Gonçalves, Monção   \n",
       "2              Escola Básica de Pomares, Melgaço   \n",
       "3               Escola Básica de Estrada, Monção   \n",
       "4             Escola Básica de Friestas, Valença   \n",
       "\n",
       "                               MORADA  ... CODCONCELH CODDISTRIT  CODNUTIII  \\\n",
       "0      Avenida Capitão Salgueiro Maia  ...       1603       16.0    10101.0   \n",
       "1        Bairro das Escolas Primárias  ...       1604       16.0    10101.0   \n",
       "2                             Pomares  ...       1603       16.0    10101.0   \n",
       "3                             Estrada  ...       1604       16.0    10101.0   \n",
       "4  Rua Amaro da Costa - Trofa de Cima  ...       1608       16.0    10101.0   \n",
       "\n",
       "  CODGEPESED CODDRE ENSINOS_LI      LONG Unnamed_ 3 CODCONCE_1  \\\n",
       "0  1603190.0  101.0         AB -8.260877    Público       None   \n",
       "1  1604079.0  101.0         AB -8.476451    Público       None   \n",
       "2  1603190.0  101.0         AB -8.277731    Público       None   \n",
       "3  1604079.0  101.0         AB -8.488950    Público       None   \n",
       "4  1608480.0  101.0         AB -8.571300    Público       None   \n",
       "\n",
       "                        geometry  \n",
       "0  POINT (-10567.991 270827.129)  \n",
       "1  POINT (-28412.705 267350.864)  \n",
       "2  POINT (-11970.880 265590.835)  \n",
       "3  POINT (-29457.051 264948.659)  \n",
       "4  POINT (-36279.268 263972.853)  \n",
       "\n",
       "[5 rows x 32 columns]"
      ]
     },
     "execution_count": 19,
     "metadata": {},
     "output_type": "execute_result"
    }
   ],
   "source": [
    "gdf_escolas_Portugal_1CEB.head()"
   ]
  },
  {
   "cell_type": "markdown",
   "metadata": {},
   "source": [
    "Fazer spatial join entres escolas e BGRI"
   ]
  },
  {
   "cell_type": "code",
   "execution_count": 20,
   "metadata": {},
   "outputs": [],
   "source": [
    "gdf_escolas_1CEB_BGRI = gpd.sjoin(gdf_escolas_Portugal_1CEB, gdf_BGRI_2011[['BGRI11','geometry']], op= 'within', how='left')"
   ]
  },
  {
   "cell_type": "code",
   "execution_count": 21,
   "metadata": {},
   "outputs": [
    {
     "data": {
      "text/plain": [
       "0"
      ]
     },
     "execution_count": 21,
     "metadata": {},
     "output_type": "execute_result"
    }
   ],
   "source": [
    "# ----------------- Verification CODE ------------------------ #\n",
    "gdf_BGRI_2011.index = gdf_BGRI_2011.BGRI11\n",
    "checkBGRI = verifyBGRIconsistency()\n",
    "len(checkBGRI) "
   ]
  },
  {
   "cell_type": "code",
   "execution_count": 22,
   "metadata": {},
   "outputs": [
    {
     "data": {
      "text/plain": [
       "(3426, 34)"
      ]
     },
     "execution_count": 22,
     "metadata": {},
     "output_type": "execute_result"
    }
   ],
   "source": [
    "gdf_escolas_1CEB_BGRI.shape"
   ]
  },
  {
   "cell_type": "code",
   "execution_count": 23,
   "metadata": {},
   "outputs": [
    {
     "data": {
      "text/plain": [
       "3426"
      ]
     },
     "execution_count": 23,
     "metadata": {},
     "output_type": "execute_result"
    }
   ],
   "source": [
    "gdf_escolas_Portugal_1CEB.ESCOLA.count()"
   ]
  },
  {
   "cell_type": "code",
   "execution_count": 24,
   "metadata": {},
   "outputs": [
    {
     "data": {
      "text/plain": [
       "{'init': 'epsg:3763'}"
      ]
     },
     "execution_count": 24,
     "metadata": {},
     "output_type": "execute_result"
    }
   ],
   "source": [
    "gdf_escolas_Portugal_1CEB.crs"
   ]
  },
  {
   "cell_type": "code",
   "execution_count": 25,
   "metadata": {},
   "outputs": [
    {
     "data": {
      "text/plain": [
       "{'init': 'epsg:3763'}"
      ]
     },
     "execution_count": 25,
     "metadata": {},
     "output_type": "execute_result"
    }
   ],
   "source": [
    "gdf_BGRI_2011.crs"
   ]
  },
  {
   "cell_type": "markdown",
   "metadata": {},
   "source": [
    "Este join está a dar pau..."
   ]
  },
  {
   "cell_type": "code",
   "execution_count": 26,
   "metadata": {},
   "outputs": [],
   "source": [
    "# gdf_BGRI_2011.index = gdf_BGRI_2011.SUBSECCAO <=========== CULPADO FILHO DA PUTA\n",
    "gdf_BGRI_2011['N_escolas'] = gdf_escolas_1CEB_BGRI['BGRI11'].value_counts()"
   ]
  },
  {
   "cell_type": "code",
   "execution_count": 27,
   "metadata": {},
   "outputs": [
    {
     "data": {
      "text/plain": [
       "0"
      ]
     },
     "execution_count": 27,
     "metadata": {},
     "output_type": "execute_result"
    }
   ],
   "source": [
    "# ----------------- Verification CODE ------------------------ #\n",
    "gdf_BGRI_2011.index = gdf_BGRI_2011.BGRI11\n",
    "checkBGRI = verifyBGRIconsistency()\n",
    "len(checkBGRI) "
   ]
  },
  {
   "cell_type": "code",
   "execution_count": 28,
   "metadata": {},
   "outputs": [
    {
     "data": {
      "text/plain": [
       "3426"
      ]
     },
     "execution_count": 28,
     "metadata": {},
     "output_type": "execute_result"
    }
   ],
   "source": [
    "gdf_escolas_1CEB_BGRI['BGRI11'].value_counts().sum()"
   ]
  },
  {
   "cell_type": "code",
   "execution_count": 29,
   "metadata": {},
   "outputs": [
    {
     "data": {
      "text/plain": [
       "3426.0"
      ]
     },
     "execution_count": 29,
     "metadata": {},
     "output_type": "execute_result"
    }
   ],
   "source": [
    "gdf_BGRI_2011[gdf_BGRI_2011.N_escolas.notna()].N_escolas.sum()"
   ]
  },
  {
   "cell_type": "markdown",
   "metadata": {},
   "source": [
    "Adicionar media, max, etc. em todos os campos e para diferetns unidades (freguesia, municipio)"
   ]
  },
  {
   "cell_type": "code",
   "execution_count": 30,
   "metadata": {},
   "outputs": [
    {
     "data": {
      "text/html": [
       "<div>\n",
       "<style scoped>\n",
       "    .dataframe tbody tr th:only-of-type {\n",
       "        vertical-align: middle;\n",
       "    }\n",
       "\n",
       "    .dataframe tbody tr th {\n",
       "        vertical-align: top;\n",
       "    }\n",
       "\n",
       "    .dataframe thead th {\n",
       "        text-align: right;\n",
       "    }\n",
       "</style>\n",
       "<table border=\"1\" class=\"dataframe\">\n",
       "  <thead>\n",
       "    <tr style=\"text-align: right;\">\n",
       "      <th></th>\n",
       "      <th>id</th>\n",
       "      <th>key_0</th>\n",
       "      <th>Code_Freg</th>\n",
       "      <th>Nome_Freg</th>\n",
       "      <th>Dist_1</th>\n",
       "      <th>Dist_2</th>\n",
       "      <th>Dist_3</th>\n",
       "      <th>IQ</th>\n",
       "      <th>Diference_1_2</th>\n",
       "      <th>Diference_2_3</th>\n",
       "      <th>code_mun</th>\n",
       "      <th>Dist_freguesia_mean</th>\n",
       "      <th>Dist_freguesia_max</th>\n",
       "      <th>Dist_freguesia_min</th>\n",
       "      <th>Dist_freguesia_std</th>\n",
       "      <th>Dist_municipio_mean</th>\n",
       "      <th>Dist_municipio_max</th>\n",
       "      <th>Dist_municipio_min</th>\n",
       "      <th>Dist_municipio_std</th>\n",
       "    </tr>\n",
       "  </thead>\n",
       "  <tbody>\n",
       "    <tr>\n",
       "      <th>0</th>\n",
       "      <td>152643</td>\n",
       "      <td>15110100101</td>\n",
       "      <td>151101</td>\n",
       "      <td>Sesimbra (Castelo)</td>\n",
       "      <td>4160.160245</td>\n",
       "      <td>4160.160245</td>\n",
       "      <td>4160.160245</td>\n",
       "      <td>4.480000</td>\n",
       "      <td>0.000000</td>\n",
       "      <td>0.000000</td>\n",
       "      <td>1511</td>\n",
       "      <td>2057.577067</td>\n",
       "      <td>6762.897225</td>\n",
       "      <td>57.959999</td>\n",
       "      <td>1373.860782</td>\n",
       "      <td>1828.027084</td>\n",
       "      <td>6762.897225</td>\n",
       "      <td>57.959999</td>\n",
       "      <td>1376.635944</td>\n",
       "    </tr>\n",
       "    <tr>\n",
       "      <th>1</th>\n",
       "      <td>101852</td>\n",
       "      <td>15070500412</td>\n",
       "      <td>150705</td>\n",
       "      <td>Alto-Estanqueiro-Jardia</td>\n",
       "      <td>754.928680</td>\n",
       "      <td>754.928680</td>\n",
       "      <td>754.928680</td>\n",
       "      <td>6.413043</td>\n",
       "      <td>0.000000</td>\n",
       "      <td>0.000000</td>\n",
       "      <td>1507</td>\n",
       "      <td>931.820451</td>\n",
       "      <td>2046.949036</td>\n",
       "      <td>125.047666</td>\n",
       "      <td>461.432369</td>\n",
       "      <td>777.320428</td>\n",
       "      <td>7623.784424</td>\n",
       "      <td>13.059000</td>\n",
       "      <td>666.705818</td>\n",
       "    </tr>\n",
       "    <tr>\n",
       "      <th>2</th>\n",
       "      <td>101772</td>\n",
       "      <td>15070500104</td>\n",
       "      <td>150705</td>\n",
       "      <td>Alto-Estanqueiro-Jardia</td>\n",
       "      <td>827.850708</td>\n",
       "      <td>854.534563</td>\n",
       "      <td>854.534563</td>\n",
       "      <td>6.863014</td>\n",
       "      <td>26.683855</td>\n",
       "      <td>0.000000</td>\n",
       "      <td>1507</td>\n",
       "      <td>931.820451</td>\n",
       "      <td>2046.949036</td>\n",
       "      <td>125.047666</td>\n",
       "      <td>461.432369</td>\n",
       "      <td>777.320428</td>\n",
       "      <td>7623.784424</td>\n",
       "      <td>13.059000</td>\n",
       "      <td>666.705818</td>\n",
       "    </tr>\n",
       "    <tr>\n",
       "      <th>3</th>\n",
       "      <td>101816</td>\n",
       "      <td>15070500303</td>\n",
       "      <td>150705</td>\n",
       "      <td>Alto-Estanqueiro-Jardia</td>\n",
       "      <td>1191.199666</td>\n",
       "      <td>1227.836019</td>\n",
       "      <td>1227.836019</td>\n",
       "      <td>4.723404</td>\n",
       "      <td>36.636353</td>\n",
       "      <td>0.000000</td>\n",
       "      <td>1507</td>\n",
       "      <td>931.820451</td>\n",
       "      <td>2046.949036</td>\n",
       "      <td>125.047666</td>\n",
       "      <td>461.432369</td>\n",
       "      <td>777.320428</td>\n",
       "      <td>7623.784424</td>\n",
       "      <td>13.059000</td>\n",
       "      <td>666.705818</td>\n",
       "    </tr>\n",
       "    <tr>\n",
       "      <th>4</th>\n",
       "      <td>183810</td>\n",
       "      <td>03120100112</td>\n",
       "      <td>031201</td>\n",
       "      <td>Abade de Vermoim</td>\n",
       "      <td>2364.897949</td>\n",
       "      <td>2417.013916</td>\n",
       "      <td>2417.013916</td>\n",
       "      <td>5.875000</td>\n",
       "      <td>52.115967</td>\n",
       "      <td>0.000000</td>\n",
       "      <td>0312</td>\n",
       "      <td>1994.285339</td>\n",
       "      <td>2478.447998</td>\n",
       "      <td>1483.285034</td>\n",
       "      <td>358.814155</td>\n",
       "      <td>1031.359615</td>\n",
       "      <td>3594.336442</td>\n",
       "      <td>0.000000</td>\n",
       "      <td>556.178584</td>\n",
       "    </tr>\n",
       "    <tr>\n",
       "      <th>...</th>\n",
       "      <td>...</td>\n",
       "      <td>...</td>\n",
       "      <td>...</td>\n",
       "      <td>...</td>\n",
       "      <td>...</td>\n",
       "      <td>...</td>\n",
       "      <td>...</td>\n",
       "      <td>...</td>\n",
       "      <td>...</td>\n",
       "      <td>...</td>\n",
       "      <td>...</td>\n",
       "      <td>...</td>\n",
       "      <td>...</td>\n",
       "      <td>...</td>\n",
       "      <td>...</td>\n",
       "      <td>...</td>\n",
       "      <td>...</td>\n",
       "      <td>...</td>\n",
       "      <td>...</td>\n",
       "    </tr>\n",
       "    <tr>\n",
       "      <th>201079</th>\n",
       "      <td>126427</td>\n",
       "      <td>17080400601</td>\n",
       "      <td>170804</td>\n",
       "      <td>Godim</td>\n",
       "      <td>540.600386</td>\n",
       "      <td>848.677002</td>\n",
       "      <td>60000.000000</td>\n",
       "      <td>10.313725</td>\n",
       "      <td>308.076616</td>\n",
       "      <td>59151.322998</td>\n",
       "      <td>1708</td>\n",
       "      <td>991.819543</td>\n",
       "      <td>3214.917969</td>\n",
       "      <td>103.960168</td>\n",
       "      <td>802.630890</td>\n",
       "      <td>7119.664968</td>\n",
       "      <td>17826.741089</td>\n",
       "      <td>103.960168</td>\n",
       "      <td>6137.644293</td>\n",
       "    </tr>\n",
       "    <tr>\n",
       "      <th>201080</th>\n",
       "      <td>126465</td>\n",
       "      <td>17080700303</td>\n",
       "      <td>170807</td>\n",
       "      <td>Peso da Régua</td>\n",
       "      <td>348.976500</td>\n",
       "      <td>792.191635</td>\n",
       "      <td>60000.000000</td>\n",
       "      <td>8.791667</td>\n",
       "      <td>443.215136</td>\n",
       "      <td>59207.808365</td>\n",
       "      <td>1708</td>\n",
       "      <td>1099.503093</td>\n",
       "      <td>2852.753784</td>\n",
       "      <td>245.679500</td>\n",
       "      <td>644.810789</td>\n",
       "      <td>7119.664968</td>\n",
       "      <td>17826.741089</td>\n",
       "      <td>103.960168</td>\n",
       "      <td>6137.644293</td>\n",
       "    </tr>\n",
       "    <tr>\n",
       "      <th>201081</th>\n",
       "      <td>126426</td>\n",
       "      <td>17080400505</td>\n",
       "      <td>170804</td>\n",
       "      <td>Godim</td>\n",
       "      <td>554.218239</td>\n",
       "      <td>774.685257</td>\n",
       "      <td>60000.000000</td>\n",
       "      <td>7.400000</td>\n",
       "      <td>220.467018</td>\n",
       "      <td>59225.314743</td>\n",
       "      <td>1708</td>\n",
       "      <td>991.819543</td>\n",
       "      <td>3214.917969</td>\n",
       "      <td>103.960168</td>\n",
       "      <td>802.630890</td>\n",
       "      <td>7119.664968</td>\n",
       "      <td>17826.741089</td>\n",
       "      <td>103.960168</td>\n",
       "      <td>6137.644293</td>\n",
       "    </tr>\n",
       "    <tr>\n",
       "      <th>201082</th>\n",
       "      <td>126424</td>\n",
       "      <td>17080400503</td>\n",
       "      <td>170804</td>\n",
       "      <td>Godim</td>\n",
       "      <td>426.961401</td>\n",
       "      <td>696.877002</td>\n",
       "      <td>60000.000000</td>\n",
       "      <td>8.660870</td>\n",
       "      <td>269.915601</td>\n",
       "      <td>59303.122998</td>\n",
       "      <td>1708</td>\n",
       "      <td>991.819543</td>\n",
       "      <td>3214.917969</td>\n",
       "      <td>103.960168</td>\n",
       "      <td>802.630890</td>\n",
       "      <td>7119.664968</td>\n",
       "      <td>17826.741089</td>\n",
       "      <td>103.960168</td>\n",
       "      <td>6137.644293</td>\n",
       "    </tr>\n",
       "    <tr>\n",
       "      <th>201083</th>\n",
       "      <td>126425</td>\n",
       "      <td>17080400504</td>\n",
       "      <td>170804</td>\n",
       "      <td>Godim</td>\n",
       "      <td>466.400598</td>\n",
       "      <td>638.159412</td>\n",
       "      <td>60000.000000</td>\n",
       "      <td>6.208333</td>\n",
       "      <td>171.758813</td>\n",
       "      <td>59361.840588</td>\n",
       "      <td>1708</td>\n",
       "      <td>991.819543</td>\n",
       "      <td>3214.917969</td>\n",
       "      <td>103.960168</td>\n",
       "      <td>802.630890</td>\n",
       "      <td>7119.664968</td>\n",
       "      <td>17826.741089</td>\n",
       "      <td>103.960168</td>\n",
       "      <td>6137.644293</td>\n",
       "    </tr>\n",
       "  </tbody>\n",
       "</table>\n",
       "<p>201084 rows × 19 columns</p>\n",
       "</div>"
      ],
      "text/plain": [
       "            id        key_0 Code_Freg                Nome_Freg       Dist_1  \\\n",
       "0       152643  15110100101    151101       Sesimbra (Castelo)  4160.160245   \n",
       "1       101852  15070500412    150705  Alto-Estanqueiro-Jardia   754.928680   \n",
       "2       101772  15070500104    150705  Alto-Estanqueiro-Jardia   827.850708   \n",
       "3       101816  15070500303    150705  Alto-Estanqueiro-Jardia  1191.199666   \n",
       "4       183810  03120100112    031201         Abade de Vermoim  2364.897949   \n",
       "...        ...          ...       ...                      ...          ...   \n",
       "201079  126427  17080400601    170804                    Godim   540.600386   \n",
       "201080  126465  17080700303    170807            Peso da Régua   348.976500   \n",
       "201081  126426  17080400505    170804                    Godim   554.218239   \n",
       "201082  126424  17080400503    170804                    Godim   426.961401   \n",
       "201083  126425  17080400504    170804                    Godim   466.400598   \n",
       "\n",
       "             Dist_2        Dist_3         IQ  Diference_1_2  Diference_2_3  \\\n",
       "0       4160.160245   4160.160245   4.480000       0.000000       0.000000   \n",
       "1        754.928680    754.928680   6.413043       0.000000       0.000000   \n",
       "2        854.534563    854.534563   6.863014      26.683855       0.000000   \n",
       "3       1227.836019   1227.836019   4.723404      36.636353       0.000000   \n",
       "4       2417.013916   2417.013916   5.875000      52.115967       0.000000   \n",
       "...             ...           ...        ...            ...            ...   \n",
       "201079   848.677002  60000.000000  10.313725     308.076616   59151.322998   \n",
       "201080   792.191635  60000.000000   8.791667     443.215136   59207.808365   \n",
       "201081   774.685257  60000.000000   7.400000     220.467018   59225.314743   \n",
       "201082   696.877002  60000.000000   8.660870     269.915601   59303.122998   \n",
       "201083   638.159412  60000.000000   6.208333     171.758813   59361.840588   \n",
       "\n",
       "       code_mun  Dist_freguesia_mean  Dist_freguesia_max  Dist_freguesia_min  \\\n",
       "0          1511          2057.577067         6762.897225           57.959999   \n",
       "1          1507           931.820451         2046.949036          125.047666   \n",
       "2          1507           931.820451         2046.949036          125.047666   \n",
       "3          1507           931.820451         2046.949036          125.047666   \n",
       "4          0312          1994.285339         2478.447998         1483.285034   \n",
       "...         ...                  ...                 ...                 ...   \n",
       "201079     1708           991.819543         3214.917969          103.960168   \n",
       "201080     1708          1099.503093         2852.753784          245.679500   \n",
       "201081     1708           991.819543         3214.917969          103.960168   \n",
       "201082     1708           991.819543         3214.917969          103.960168   \n",
       "201083     1708           991.819543         3214.917969          103.960168   \n",
       "\n",
       "        Dist_freguesia_std  Dist_municipio_mean  Dist_municipio_max  \\\n",
       "0              1373.860782          1828.027084         6762.897225   \n",
       "1               461.432369           777.320428         7623.784424   \n",
       "2               461.432369           777.320428         7623.784424   \n",
       "3               461.432369           777.320428         7623.784424   \n",
       "4               358.814155          1031.359615         3594.336442   \n",
       "...                    ...                  ...                 ...   \n",
       "201079          802.630890          7119.664968        17826.741089   \n",
       "201080          644.810789          7119.664968        17826.741089   \n",
       "201081          802.630890          7119.664968        17826.741089   \n",
       "201082          802.630890          7119.664968        17826.741089   \n",
       "201083          802.630890          7119.664968        17826.741089   \n",
       "\n",
       "        Dist_municipio_min  Dist_municipio_std  \n",
       "0                57.959999         1376.635944  \n",
       "1                13.059000          666.705818  \n",
       "2                13.059000          666.705818  \n",
       "3                13.059000          666.705818  \n",
       "4                 0.000000          556.178584  \n",
       "...                    ...                 ...  \n",
       "201079          103.960168         6137.644293  \n",
       "201080          103.960168         6137.644293  \n",
       "201081          103.960168         6137.644293  \n",
       "201082          103.960168         6137.644293  \n",
       "201083          103.960168         6137.644293  \n",
       "\n",
       "[201084 rows x 19 columns]"
      ]
     },
     "execution_count": 30,
     "metadata": {},
     "output_type": "execute_result"
    }
   ],
   "source": [
    "df_Accessibility_BGRI_2 = df_Accessibility_BGRI.copy()\n",
    "methods = ['mean', 'max', 'min', 'std']\n",
    "for i in methods:\n",
    "    df_Accessibility_BGRI_2 ['Dist_freguesia_' + i] = df_Accessibility_BGRI_2.groupby('Code_Freg')['Dist_1'].\\\n",
    "    transform(i)\n",
    "\n",
    "for i in methods:\n",
    "    df_Accessibility_BGRI_2 ['Dist_municipio_' + i] = df_Accessibility_BGRI_2.groupby('code_mun')['Dist_1'].\\\n",
    "    transform(i)\n",
    "\n",
    "df_Accessibility_BGRI_2\n",
    "#df_alunos_subseccao.groupby('Code_Freg')[column_names].transform('sum'))"
   ]
  },
  {
   "cell_type": "code",
   "execution_count": 31,
   "metadata": {},
   "outputs": [],
   "source": [
    "# df_Accessibility_BGRI_2.to_csv('./data/accessibilityAndSocialMetrics.csv')"
   ]
  },
  {
   "cell_type": "code",
   "execution_count": 32,
   "metadata": {},
   "outputs": [],
   "source": [
    "df_Accessibility_BGRI_2 = df_Accessibility_BGRI_2.rename(columns={'key_0':'BGRI'})\n",
    "df_Accessibility_BGRI_2.index = df_Accessibility_BGRI_2.BGRI\n",
    "df_Accessibility_BGRI_2 = df_Accessibility_BGRI_2.drop(columns=['BGRI'])"
   ]
  },
  {
   "cell_type": "code",
   "execution_count": 33,
   "metadata": {},
   "outputs": [
    {
     "data": {
      "text/plain": [
       "Index(['id', 'Code_Freg', 'Nome_Freg', 'Dist_1', 'Dist_2', 'Dist_3', 'IQ',\n",
       "       'Diference_1_2', 'Diference_2_3', 'code_mun', 'Dist_freguesia_mean',\n",
       "       'Dist_freguesia_max', 'Dist_freguesia_min', 'Dist_freguesia_std',\n",
       "       'Dist_municipio_mean', 'Dist_municipio_max', 'Dist_municipio_min',\n",
       "       'Dist_municipio_std'],\n",
       "      dtype='object')"
      ]
     },
     "execution_count": 33,
     "metadata": {},
     "output_type": "execute_result"
    }
   ],
   "source": [
    "df_Accessibility_BGRI_2.columns"
   ]
  },
  {
   "cell_type": "code",
   "execution_count": 34,
   "metadata": {},
   "outputs": [
    {
     "data": {
      "text/plain": [
       "Index(['OBJECTID', 'DTMN11', 'FR11', 'SEC11', 'SS11', 'BGRI11', 'LUG11',\n",
       "       'LUG11DESIG', 'area', 'geometry', 'Code_Freg', 'nome_mun', 'Código',\n",
       "       'TIPAU', 'SUBSECCAO', 'Pop_Total_2011', 'Pop_idade_ativa', 'GEO_COD',\n",
       "       'Pop_desempregada', 'Tx_desemprego', 'N_escolas'],\n",
       "      dtype='object')"
      ]
     },
     "execution_count": 34,
     "metadata": {},
     "output_type": "execute_result"
    }
   ],
   "source": [
    "gdf_BGRI_2011.columns"
   ]
  },
  {
   "cell_type": "code",
   "execution_count": 54,
   "metadata": {},
   "outputs": [],
   "source": [
    "df_Accessibility_BGRI_Final = pd.merge(df_Accessibility_BGRI_2, gdf_BGRI_2011[['nome_mun','LUG11','DTMN11','Code_Freg','Pop_Total_2011','Pop_idade_ativa','Pop_desempregada', 'Tx_desemprego', 'N_escolas', 'TIPAU']], left_on=[df_Accessibility_BGRI_2.index], right_on=[gdf_BGRI_2011.index], how='outer')"
   ]
  },
  {
   "cell_type": "code",
   "execution_count": 55,
   "metadata": {},
   "outputs": [
    {
     "data": {
      "text/plain": [
       "3426.0"
      ]
     },
     "execution_count": 55,
     "metadata": {},
     "output_type": "execute_result"
    }
   ],
   "source": [
    "df_Accessibility_BGRI_Final.N_escolas.sum()"
   ]
  },
  {
   "cell_type": "code",
   "execution_count": 56,
   "metadata": {},
   "outputs": [
    {
     "data": {
      "text/html": [
       "<div>\n",
       "<style scoped>\n",
       "    .dataframe tbody tr th:only-of-type {\n",
       "        vertical-align: middle;\n",
       "    }\n",
       "\n",
       "    .dataframe tbody tr th {\n",
       "        vertical-align: top;\n",
       "    }\n",
       "\n",
       "    .dataframe thead th {\n",
       "        text-align: right;\n",
       "    }\n",
       "</style>\n",
       "<table border=\"1\" class=\"dataframe\">\n",
       "  <thead>\n",
       "    <tr style=\"text-align: right;\">\n",
       "      <th></th>\n",
       "      <th>key_0</th>\n",
       "      <th>id</th>\n",
       "      <th>Code_Freg_x</th>\n",
       "      <th>Nome_Freg</th>\n",
       "      <th>Dist_1</th>\n",
       "      <th>Dist_2</th>\n",
       "      <th>Dist_3</th>\n",
       "      <th>IQ</th>\n",
       "      <th>Diference_1_2</th>\n",
       "      <th>Diference_2_3</th>\n",
       "      <th>...</th>\n",
       "      <th>nome_mun</th>\n",
       "      <th>LUG11</th>\n",
       "      <th>DTMN11</th>\n",
       "      <th>Code_Freg_y</th>\n",
       "      <th>Pop_Total_2011</th>\n",
       "      <th>Pop_idade_ativa</th>\n",
       "      <th>Pop_desempregada</th>\n",
       "      <th>Tx_desemprego</th>\n",
       "      <th>N_escolas</th>\n",
       "      <th>TIPAU</th>\n",
       "    </tr>\n",
       "  </thead>\n",
       "  <tbody>\n",
       "    <tr>\n",
       "      <th>201084</th>\n",
       "      <td>04070200103</td>\n",
       "      <td>NaN</td>\n",
       "      <td>NaN</td>\n",
       "      <td>NaN</td>\n",
       "      <td>NaN</td>\n",
       "      <td>NaN</td>\n",
       "      <td>NaN</td>\n",
       "      <td>NaN</td>\n",
       "      <td>NaN</td>\n",
       "      <td>NaN</td>\n",
       "      <td>...</td>\n",
       "      <td>Mirandela</td>\n",
       "      <td>013810</td>\n",
       "      <td>0407</td>\n",
       "      <td>040702</td>\n",
       "      <td>9.0</td>\n",
       "      <td>2.0</td>\n",
       "      <td>1</td>\n",
       "      <td>50.000000</td>\n",
       "      <td>NaN</td>\n",
       "      <td>APR</td>\n",
       "    </tr>\n",
       "    <tr>\n",
       "      <th>201085</th>\n",
       "      <td>04070200108</td>\n",
       "      <td>NaN</td>\n",
       "      <td>NaN</td>\n",
       "      <td>NaN</td>\n",
       "      <td>NaN</td>\n",
       "      <td>NaN</td>\n",
       "      <td>NaN</td>\n",
       "      <td>NaN</td>\n",
       "      <td>NaN</td>\n",
       "      <td>NaN</td>\n",
       "      <td>...</td>\n",
       "      <td>Mirandela</td>\n",
       "      <td>999999</td>\n",
       "      <td>0407</td>\n",
       "      <td>040702</td>\n",
       "      <td>NaN</td>\n",
       "      <td>NaN</td>\n",
       "      <td>0</td>\n",
       "      <td>NaN</td>\n",
       "      <td>NaN</td>\n",
       "      <td>APR</td>\n",
       "    </tr>\n",
       "    <tr>\n",
       "      <th>201086</th>\n",
       "      <td>04072900103</td>\n",
       "      <td>NaN</td>\n",
       "      <td>NaN</td>\n",
       "      <td>NaN</td>\n",
       "      <td>NaN</td>\n",
       "      <td>NaN</td>\n",
       "      <td>NaN</td>\n",
       "      <td>NaN</td>\n",
       "      <td>NaN</td>\n",
       "      <td>NaN</td>\n",
       "      <td>...</td>\n",
       "      <td>Mirandela</td>\n",
       "      <td>013866</td>\n",
       "      <td>0407</td>\n",
       "      <td>040729</td>\n",
       "      <td>37.0</td>\n",
       "      <td>24.0</td>\n",
       "      <td>1</td>\n",
       "      <td>4.166667</td>\n",
       "      <td>NaN</td>\n",
       "      <td>APR</td>\n",
       "    </tr>\n",
       "    <tr>\n",
       "      <th>201087</th>\n",
       "      <td>04072900104</td>\n",
       "      <td>NaN</td>\n",
       "      <td>NaN</td>\n",
       "      <td>NaN</td>\n",
       "      <td>NaN</td>\n",
       "      <td>NaN</td>\n",
       "      <td>NaN</td>\n",
       "      <td>NaN</td>\n",
       "      <td>NaN</td>\n",
       "      <td>NaN</td>\n",
       "      <td>...</td>\n",
       "      <td>Mirandela</td>\n",
       "      <td>013866</td>\n",
       "      <td>0407</td>\n",
       "      <td>040729</td>\n",
       "      <td>28.0</td>\n",
       "      <td>17.0</td>\n",
       "      <td>0</td>\n",
       "      <td>0.000000</td>\n",
       "      <td>NaN</td>\n",
       "      <td>APR</td>\n",
       "    </tr>\n",
       "    <tr>\n",
       "      <th>201088</th>\n",
       "      <td>04070300103</td>\n",
       "      <td>NaN</td>\n",
       "      <td>NaN</td>\n",
       "      <td>NaN</td>\n",
       "      <td>NaN</td>\n",
       "      <td>NaN</td>\n",
       "      <td>NaN</td>\n",
       "      <td>NaN</td>\n",
       "      <td>NaN</td>\n",
       "      <td>NaN</td>\n",
       "      <td>...</td>\n",
       "      <td>Mirandela</td>\n",
       "      <td>034316</td>\n",
       "      <td>0407</td>\n",
       "      <td>040703</td>\n",
       "      <td>4.0</td>\n",
       "      <td>1.0</td>\n",
       "      <td>0</td>\n",
       "      <td>0.000000</td>\n",
       "      <td>NaN</td>\n",
       "      <td>APR</td>\n",
       "    </tr>\n",
       "    <tr>\n",
       "      <th>...</th>\n",
       "      <td>...</td>\n",
       "      <td>...</td>\n",
       "      <td>...</td>\n",
       "      <td>...</td>\n",
       "      <td>...</td>\n",
       "      <td>...</td>\n",
       "      <td>...</td>\n",
       "      <td>...</td>\n",
       "      <td>...</td>\n",
       "      <td>...</td>\n",
       "      <td>...</td>\n",
       "      <td>...</td>\n",
       "      <td>...</td>\n",
       "      <td>...</td>\n",
       "      <td>...</td>\n",
       "      <td>...</td>\n",
       "      <td>...</td>\n",
       "      <td>...</td>\n",
       "      <td>...</td>\n",
       "      <td>...</td>\n",
       "      <td>...</td>\n",
       "    </tr>\n",
       "    <tr>\n",
       "      <th>255953</th>\n",
       "      <td>01010100112</td>\n",
       "      <td>NaN</td>\n",
       "      <td>NaN</td>\n",
       "      <td>NaN</td>\n",
       "      <td>NaN</td>\n",
       "      <td>NaN</td>\n",
       "      <td>NaN</td>\n",
       "      <td>NaN</td>\n",
       "      <td>NaN</td>\n",
       "      <td>NaN</td>\n",
       "      <td>...</td>\n",
       "      <td>�gueda</td>\n",
       "      <td>014422</td>\n",
       "      <td>0101</td>\n",
       "      <td>010101</td>\n",
       "      <td>11.0</td>\n",
       "      <td>9.0</td>\n",
       "      <td>0</td>\n",
       "      <td>0.000000</td>\n",
       "      <td>NaN</td>\n",
       "      <td>APR</td>\n",
       "    </tr>\n",
       "    <tr>\n",
       "      <th>255954</th>\n",
       "      <td>01010100107</td>\n",
       "      <td>NaN</td>\n",
       "      <td>NaN</td>\n",
       "      <td>NaN</td>\n",
       "      <td>NaN</td>\n",
       "      <td>NaN</td>\n",
       "      <td>NaN</td>\n",
       "      <td>NaN</td>\n",
       "      <td>NaN</td>\n",
       "      <td>NaN</td>\n",
       "      <td>...</td>\n",
       "      <td>�gueda</td>\n",
       "      <td>014427</td>\n",
       "      <td>0101</td>\n",
       "      <td>010101</td>\n",
       "      <td>6.0</td>\n",
       "      <td>6.0</td>\n",
       "      <td>0</td>\n",
       "      <td>0.000000</td>\n",
       "      <td>NaN</td>\n",
       "      <td>APR</td>\n",
       "    </tr>\n",
       "    <tr>\n",
       "      <th>255955</th>\n",
       "      <td>01010100102</td>\n",
       "      <td>NaN</td>\n",
       "      <td>NaN</td>\n",
       "      <td>NaN</td>\n",
       "      <td>NaN</td>\n",
       "      <td>NaN</td>\n",
       "      <td>NaN</td>\n",
       "      <td>NaN</td>\n",
       "      <td>NaN</td>\n",
       "      <td>NaN</td>\n",
       "      <td>...</td>\n",
       "      <td>�gueda</td>\n",
       "      <td>014420</td>\n",
       "      <td>0101</td>\n",
       "      <td>010101</td>\n",
       "      <td>19.0</td>\n",
       "      <td>17.0</td>\n",
       "      <td>0</td>\n",
       "      <td>0.000000</td>\n",
       "      <td>NaN</td>\n",
       "      <td>APR</td>\n",
       "    </tr>\n",
       "    <tr>\n",
       "      <th>255956</th>\n",
       "      <td>01010100101</td>\n",
       "      <td>NaN</td>\n",
       "      <td>NaN</td>\n",
       "      <td>NaN</td>\n",
       "      <td>NaN</td>\n",
       "      <td>NaN</td>\n",
       "      <td>NaN</td>\n",
       "      <td>NaN</td>\n",
       "      <td>NaN</td>\n",
       "      <td>NaN</td>\n",
       "      <td>...</td>\n",
       "      <td>�gueda</td>\n",
       "      <td>014420</td>\n",
       "      <td>0101</td>\n",
       "      <td>010101</td>\n",
       "      <td>9.0</td>\n",
       "      <td>4.0</td>\n",
       "      <td>0</td>\n",
       "      <td>0.000000</td>\n",
       "      <td>NaN</td>\n",
       "      <td>APR</td>\n",
       "    </tr>\n",
       "    <tr>\n",
       "      <th>255957</th>\n",
       "      <td>01010100110</td>\n",
       "      <td>NaN</td>\n",
       "      <td>NaN</td>\n",
       "      <td>NaN</td>\n",
       "      <td>NaN</td>\n",
       "      <td>NaN</td>\n",
       "      <td>NaN</td>\n",
       "      <td>NaN</td>\n",
       "      <td>NaN</td>\n",
       "      <td>NaN</td>\n",
       "      <td>...</td>\n",
       "      <td>�gueda</td>\n",
       "      <td>014422</td>\n",
       "      <td>0101</td>\n",
       "      <td>010101</td>\n",
       "      <td>6.0</td>\n",
       "      <td>3.0</td>\n",
       "      <td>0</td>\n",
       "      <td>0.000000</td>\n",
       "      <td>NaN</td>\n",
       "      <td>APR</td>\n",
       "    </tr>\n",
       "  </tbody>\n",
       "</table>\n",
       "<p>54874 rows × 29 columns</p>\n",
       "</div>"
      ],
      "text/plain": [
       "              key_0  id Code_Freg_x Nome_Freg  Dist_1  Dist_2  Dist_3  IQ  \\\n",
       "201084  04070200103 NaN         NaN       NaN     NaN     NaN     NaN NaN   \n",
       "201085  04070200108 NaN         NaN       NaN     NaN     NaN     NaN NaN   \n",
       "201086  04072900103 NaN         NaN       NaN     NaN     NaN     NaN NaN   \n",
       "201087  04072900104 NaN         NaN       NaN     NaN     NaN     NaN NaN   \n",
       "201088  04070300103 NaN         NaN       NaN     NaN     NaN     NaN NaN   \n",
       "...             ...  ..         ...       ...     ...     ...     ...  ..   \n",
       "255953  01010100112 NaN         NaN       NaN     NaN     NaN     NaN NaN   \n",
       "255954  01010100107 NaN         NaN       NaN     NaN     NaN     NaN NaN   \n",
       "255955  01010100102 NaN         NaN       NaN     NaN     NaN     NaN NaN   \n",
       "255956  01010100101 NaN         NaN       NaN     NaN     NaN     NaN NaN   \n",
       "255957  01010100110 NaN         NaN       NaN     NaN     NaN     NaN NaN   \n",
       "\n",
       "        Diference_1_2  Diference_2_3  ...   nome_mun   LUG11  DTMN11  \\\n",
       "201084            NaN            NaN  ...  Mirandela  013810    0407   \n",
       "201085            NaN            NaN  ...  Mirandela  999999    0407   \n",
       "201086            NaN            NaN  ...  Mirandela  013866    0407   \n",
       "201087            NaN            NaN  ...  Mirandela  013866    0407   \n",
       "201088            NaN            NaN  ...  Mirandela  034316    0407   \n",
       "...               ...            ...  ...        ...     ...     ...   \n",
       "255953            NaN            NaN  ...     �gueda  014422    0101   \n",
       "255954            NaN            NaN  ...     �gueda  014427    0101   \n",
       "255955            NaN            NaN  ...     �gueda  014420    0101   \n",
       "255956            NaN            NaN  ...     �gueda  014420    0101   \n",
       "255957            NaN            NaN  ...     �gueda  014422    0101   \n",
       "\n",
       "        Code_Freg_y  Pop_Total_2011  Pop_idade_ativa  Pop_desempregada  \\\n",
       "201084       040702             9.0              2.0                 1   \n",
       "201085       040702             NaN              NaN                 0   \n",
       "201086       040729            37.0             24.0                 1   \n",
       "201087       040729            28.0             17.0                 0   \n",
       "201088       040703             4.0              1.0                 0   \n",
       "...             ...             ...              ...               ...   \n",
       "255953       010101            11.0              9.0                 0   \n",
       "255954       010101             6.0              6.0                 0   \n",
       "255955       010101            19.0             17.0                 0   \n",
       "255956       010101             9.0              4.0                 0   \n",
       "255957       010101             6.0              3.0                 0   \n",
       "\n",
       "        Tx_desemprego  N_escolas TIPAU  \n",
       "201084      50.000000        NaN   APR  \n",
       "201085            NaN        NaN   APR  \n",
       "201086       4.166667        NaN   APR  \n",
       "201087       0.000000        NaN   APR  \n",
       "201088       0.000000        NaN   APR  \n",
       "...               ...        ...   ...  \n",
       "255953       0.000000        NaN   APR  \n",
       "255954       0.000000        NaN   APR  \n",
       "255955       0.000000        NaN   APR  \n",
       "255956       0.000000        NaN   APR  \n",
       "255957       0.000000        NaN   APR  \n",
       "\n",
       "[54874 rows x 29 columns]"
      ]
     },
     "execution_count": 56,
     "metadata": {},
     "output_type": "execute_result"
    }
   ],
   "source": [
    "df_Accessibility_BGRI_Final[df_Accessibility_BGRI_Final['Dist_1'].isna()]"
   ]
  },
  {
   "cell_type": "code",
   "execution_count": 57,
   "metadata": {},
   "outputs": [],
   "source": [
    "df_Accessibility_BGRI_Final = df_Accessibility_BGRI_Final.drop(columns=['Dist_2', 'Dist_3', 'Diference_1_2', 'Diference_2_3'])\n"
   ]
  },
  {
   "cell_type": "code",
   "execution_count": 59,
   "metadata": {},
   "outputs": [],
   "source": [
    "# é que já tem o Nome_Freg, mas vai buscar só os valores para as BGRI que estão na acessibilidade\n",
    "# e falta também acrescentar o ['mean', 'max', 'min', 'std'], por freguesia e por município em todas as BGRI"
   ]
  },
  {
   "cell_type": "code",
   "execution_count": 60,
   "metadata": {},
   "outputs": [],
   "source": [
    "df_Accessibility_BGRI_Final.to_csv('./data/accessibilityAndSocialMetrics.csv')"
   ]
  },
  {
   "cell_type": "code",
   "execution_count": null,
   "metadata": {},
   "outputs": [],
   "source": []
  }
 ],
 "metadata": {
  "kernelspec": {
   "display_name": "Python 3",
   "language": "python",
   "name": "python3"
  },
  "language_info": {
   "codemirror_mode": {
    "name": "ipython",
    "version": 3
   },
   "file_extension": ".py",
   "mimetype": "text/x-python",
   "name": "python",
   "nbconvert_exporter": "python",
   "pygments_lexer": "ipython3",
   "version": "3.6.7"
  }
 },
 "nbformat": 4,
 "nbformat_minor": 2
}
