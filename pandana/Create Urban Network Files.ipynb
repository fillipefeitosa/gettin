{
 "cells": [
  {
   "cell_type": "code",
   "execution_count": 1,
   "metadata": {},
   "outputs": [],
   "source": [
    "# List of Imports\n",
    "%load_ext autoreload\n",
    "%autoreload 2\n",
    "import pandas as pd\n",
    "import numpy as np\n",
    "import geopandas as gpd\n",
    "import pandana as pdna\n",
    "import scipy.stats as stats\n",
    "import osmnx as ox\n",
    "import shutil\n",
    "\n",
    "from ipynb.fs.full.shpToPandana import generate_pandana_store_from_shp \n",
    "from pandana.loaders import osm\n",
    "from shapely.geometry import Point\n",
    "\n",
    "%matplotlib inline\n",
    "\n",
    "import warnings\n",
    "warnings.filterwarnings('ignore')"
   ]
  },
  {
   "cell_type": "markdown",
   "metadata": {},
   "source": [
    "Load All necessary Data"
   ]
  },
  {
   "cell_type": "code",
   "execution_count": 2,
   "metadata": {},
   "outputs": [],
   "source": [
    "# Load Portugal BGRI11 Polygons - epsg:3763'\n",
    "# polygons_bgri = gpd.read_file('./data/BGRI_2011/CONTINENTE/BGRI11_CONT.shp', dtype={'BGRI11': str})\n",
    "\n",
    "# polygons_bgri = polygons_bgri[polygons_bgri['LUG11DESIG']!='Residual']"
   ]
  },
  {
   "cell_type": "code",
   "execution_count": 18,
   "metadata": {},
   "outputs": [],
   "source": [
    "# Load Portugal Municipalities Polygons - epsg:3763'\n",
    "polygons_freguesias = gpd.read_file('./data/freguesias_portugal/OgrGeoJSON.shp')\n",
    "\n",
    "# Dissolve to get Municipalities over the inumerous polygons\n",
    "dissolveByPreference='Concelho'\n",
    "polygons_freguesias = polygons_freguesias.dissolve(by=dissolveByPreference,as_index=False)"
   ]
  },
  {
   "cell_type": "code",
   "execution_count": 4,
   "metadata": {},
   "outputs": [],
   "source": [
    "# Load Schools Data - 'epsg:3763'\n",
    "# schoolsNetwork = gpd.read_file('./data/escolas_portugal/Escolas_EB1_2019_2.shp')\n",
    "\n",
    "# Select only the schools with primary education\n",
    "# schoolsNetwork = schoolsNetwork[schoolsNetwork['ENSINOS'].str.contains('B')]"
   ]
  },
  {
   "cell_type": "code",
   "execution_count": 5,
   "metadata": {},
   "outputs": [],
   "source": [
    "# polygons_bgri[polygons_bgri['DTMN11']=='0105'].plot() # 2011 - CAOP 2010"
   ]
  },
  {
   "cell_type": "code",
   "execution_count": 6,
   "metadata": {},
   "outputs": [],
   "source": [
    "# polygons_freguesias[polygons_freguesias['Concelho']=='AVEIRO'].plot() # 2018 CAOP "
   ]
  },
  {
   "cell_type": "code",
   "execution_count": 7,
   "metadata": {},
   "outputs": [],
   "source": [
    "# polygons_bgri[polygons_bgri['LUG11DESIG']=='Aveiro'].plot()"
   ]
  },
  {
   "cell_type": "markdown",
   "metadata": {},
   "source": [
    "Get Urban Network for each one of the BGRI"
   ]
  },
  {
   "cell_type": "code",
   "execution_count": 8,
   "metadata": {},
   "outputs": [],
   "source": [
    "def create_network(polygons_dataframe, desired_network, dissolve_column='Concelho'):\n",
    "    \"\"\"Create HDF5 with street network graph from desired polygons from a \n",
    "    large dataframe from different places. A good use case would be a Geopandas dataframe\n",
    "    with polygons from a region, or a district.\n",
    "    Parameters\n",
    "    ----\n",
    "    dissolve_column:The column wicth will be used to fecth the results.\n",
    "    desired_network:The code, name, or whatever is stored in dissolve_column.\n",
    "    polygons_dataframe:Geopandas Dataframe with polygons data.\n",
    "    Returns:\n",
    "    ----\n",
    "    None\n",
    "    \"\"\"\n",
    "    polygonAsSeries = polygons_dataframe[polygons_dataframe[dissolve_column]==desired_network]\n",
    "    if(len(polygonAsSeries)==1):\n",
    "        polygonAsSeries = polygonAsSeries.squeeze()\n",
    "    elif(len(polygonAsSeries)>1):\n",
    "        polygons_dataframe = polygons_dataframe.dissolve(by=dissolve_column, as_index=False)\n",
    "        polygonAsSeries = polygons_dataframe[polygons_dataframe[dissolve_column]==desired_network].squeeze()\n",
    "        \n",
    "    latlng_geom, _ = ox.project_geometry(polygonAsSeries.geometry, crs={'init':'epsg:3763'}, to_latlong=True)\n",
    "    network = ox.graph_from_polygon(latlng_geom, network_type='all_private')\n",
    "    # Save Shapefile\n",
    "    try: \n",
    "        ox.save_graph_shapefile(network, filename=desired_network, folder='./data/temp/')\n",
    "    except:\n",
    "        raise Exception(\"It was not possible to save %s network as shapefile.\")\n",
    "    else:\n",
    "        # Load and Convert Shapefile\n",
    "        save_path = './data/networks/'+desired_network\n",
    "        load_shp_path = './data/temp/'+desired_network+'/edges/edges.shp'\n",
    "        path = generate_pandana_store_from_shp(save_path, load_shp_path, weights=['dist'])\n",
    "        # Removing useless shp Files\n",
    "        shutil.rmtree('./data/temp/'+desired_network, ignore_errors=True)\n",
    "    \n",
    "    "
   ]
  },
  {
   "cell_type": "code",
   "execution_count": 9,
   "metadata": {},
   "outputs": [],
   "source": [
    "# create_network(polygons_freguesias, '100601') # When Using Freguesias as Dissolve"
   ]
  },
  {
   "cell_type": "code",
   "execution_count": 10,
   "metadata": {},
   "outputs": [],
   "source": [
    "# create_network(polygons_freguesias,'MIRANDELA', dissolve_column='Concelho')"
   ]
  },
  {
   "cell_type": "code",
   "execution_count": 22,
   "metadata": {},
   "outputs": [
    {
     "data": {
      "text/html": [
       "<div>\n",
       "<style scoped>\n",
       "    .dataframe tbody tr th:only-of-type {\n",
       "        vertical-align: middle;\n",
       "    }\n",
       "\n",
       "    .dataframe tbody tr th {\n",
       "        vertical-align: top;\n",
       "    }\n",
       "\n",
       "    .dataframe thead th {\n",
       "        text-align: right;\n",
       "    }\n",
       "</style>\n",
       "<table border=\"1\" class=\"dataframe\">\n",
       "  <thead>\n",
       "    <tr style=\"text-align: right;\">\n",
       "      <th></th>\n",
       "      <th>Concelho</th>\n",
       "      <th>geometry</th>\n",
       "      <th>Dicofre</th>\n",
       "      <th>Freguesia</th>\n",
       "      <th>Distrito</th>\n",
       "      <th>TAA</th>\n",
       "      <th>AREA_EA_Ha</th>\n",
       "      <th>AREA_T_Ha</th>\n",
       "      <th>Des_Simpli</th>\n",
       "      <th>code_mun</th>\n",
       "      <th>NUTS3_2016</th>\n",
       "      <th>NUTS_nome</th>\n",
       "    </tr>\n",
       "  </thead>\n",
       "  <tbody>\n",
       "    <tr>\n",
       "      <th>0</th>\n",
       "      <td>ABRANTES</td>\n",
       "      <td>POLYGON ((7439.424 -38619.262, 7433.312 -38623...</td>\n",
       "      <td>140104</td>\n",
       "      <td>Bemposta</td>\n",
       "      <td>SANTARÉM</td>\n",
       "      <td>ÁREA PRINCIPAL</td>\n",
       "      <td>18745.35</td>\n",
       "      <td>18745.35</td>\n",
       "      <td>Bemposta</td>\n",
       "      <td>1401</td>\n",
       "      <td>16I</td>\n",
       "      <td>Médio Tejo</td>\n",
       "    </tr>\n",
       "    <tr>\n",
       "      <th>1</th>\n",
       "      <td>AGUIAR DA BEIRA</td>\n",
       "      <td>POLYGON ((51668.675 114641.367, 51008.903 1141...</td>\n",
       "      <td>090114</td>\n",
       "      <td>União das freguesias de Aguiar da Beira e Coruche</td>\n",
       "      <td>GUARDA</td>\n",
       "      <td>ÁREA PRINCIPAL</td>\n",
       "      <td>4335.72</td>\n",
       "      <td>4335.72</td>\n",
       "      <td>Aguiar da Beira e Coruche</td>\n",
       "      <td>0901</td>\n",
       "      <td>16G</td>\n",
       "      <td>Viseu Dão Lafões</td>\n",
       "    </tr>\n",
       "    <tr>\n",
       "      <th>2</th>\n",
       "      <td>ALANDROAL</td>\n",
       "      <td>POLYGON ((72915.444 -123799.538, 72772.137 -12...</td>\n",
       "      <td>070107</td>\n",
       "      <td>União das freguesias de Alandroal (Nossa Senho...</td>\n",
       "      <td>ÉVORA</td>\n",
       "      <td>ÁREA PRINCIPAL</td>\n",
       "      <td>25957.92</td>\n",
       "      <td>25957.92</td>\n",
       "      <td>N. S. Conceição, S. Brás dos Matos e Juromenha</td>\n",
       "      <td>0701</td>\n",
       "      <td>187</td>\n",
       "      <td>Alentejo Central</td>\n",
       "    </tr>\n",
       "    <tr>\n",
       "      <th>3</th>\n",
       "      <td>ALBERGARIA-A-VELHA</td>\n",
       "      <td>POLYGON ((-29041.318 108973.684, -29040.788 10...</td>\n",
       "      <td>010202</td>\n",
       "      <td>Alquerubim</td>\n",
       "      <td>AVEIRO</td>\n",
       "      <td>ÁREA PRINCIPAL</td>\n",
       "      <td>1535.86</td>\n",
       "      <td>1535.86</td>\n",
       "      <td>Alquerubim</td>\n",
       "      <td>0102</td>\n",
       "      <td>16D</td>\n",
       "      <td>Região de Aveiro</td>\n",
       "    </tr>\n",
       "    <tr>\n",
       "      <th>4</th>\n",
       "      <td>ALBUFEIRA</td>\n",
       "      <td>MULTIPOLYGON (((-7416.080 -286724.227, -7416.6...</td>\n",
       "      <td>080106</td>\n",
       "      <td>Albufeira e Olhos de Água</td>\n",
       "      <td>FARO</td>\n",
       "      <td>ÁREA SECUNDÁRIA</td>\n",
       "      <td>0.10</td>\n",
       "      <td>4117.69</td>\n",
       "      <td>Albufeira e Olhos de Água</td>\n",
       "      <td>0801</td>\n",
       "      <td>150</td>\n",
       "      <td>Algarve</td>\n",
       "    </tr>\n",
       "  </tbody>\n",
       "</table>\n",
       "</div>"
      ],
      "text/plain": [
       "             Concelho                                           geometry  \\\n",
       "0            ABRANTES  POLYGON ((7439.424 -38619.262, 7433.312 -38623...   \n",
       "1     AGUIAR DA BEIRA  POLYGON ((51668.675 114641.367, 51008.903 1141...   \n",
       "2           ALANDROAL  POLYGON ((72915.444 -123799.538, 72772.137 -12...   \n",
       "3  ALBERGARIA-A-VELHA  POLYGON ((-29041.318 108973.684, -29040.788 10...   \n",
       "4           ALBUFEIRA  MULTIPOLYGON (((-7416.080 -286724.227, -7416.6...   \n",
       "\n",
       "  Dicofre                                          Freguesia  Distrito  \\\n",
       "0  140104                                           Bemposta  SANTARÉM   \n",
       "1  090114  União das freguesias de Aguiar da Beira e Coruche    GUARDA   \n",
       "2  070107  União das freguesias de Alandroal (Nossa Senho...     ÉVORA   \n",
       "3  010202                                         Alquerubim    AVEIRO   \n",
       "4  080106                          Albufeira e Olhos de Água      FARO   \n",
       "\n",
       "               TAA  AREA_EA_Ha  AREA_T_Ha  \\\n",
       "0   ÁREA PRINCIPAL    18745.35   18745.35   \n",
       "1   ÁREA PRINCIPAL     4335.72    4335.72   \n",
       "2   ÁREA PRINCIPAL    25957.92   25957.92   \n",
       "3   ÁREA PRINCIPAL     1535.86    1535.86   \n",
       "4  ÁREA SECUNDÁRIA        0.10    4117.69   \n",
       "\n",
       "                                       Des_Simpli code_mun NUTS3_2016  \\\n",
       "0                                        Bemposta     1401        16I   \n",
       "1                       Aguiar da Beira e Coruche     0901        16G   \n",
       "2  N. S. Conceição, S. Brás dos Matos e Juromenha     0701        187   \n",
       "3                                      Alquerubim     0102        16D   \n",
       "4                       Albufeira e Olhos de Água     0801        150   \n",
       "\n",
       "          NUTS_nome  \n",
       "0        Médio Tejo  \n",
       "1  Viseu Dão Lafões  \n",
       "2  Alentejo Central  \n",
       "3  Região de Aveiro  \n",
       "4           Algarve  "
      ]
     },
     "execution_count": 22,
     "metadata": {},
     "output_type": "execute_result"
    }
   ],
   "source": [
    "polygons_freguesias.head()"
   ]
  },
  {
   "cell_type": "code",
   "execution_count": 23,
   "metadata": {},
   "outputs": [],
   "source": [
    "teste = polygons_freguesias[polygons_freguesias['Concelho']=='AGUIAR DA BEIRA']"
   ]
  },
  {
   "cell_type": "code",
   "execution_count": 26,
   "metadata": {},
   "outputs": [],
   "source": [
    "from multiprocessing import Pool\n",
    "from functools import partial\n",
    "\n",
    "def main():\n",
    "    iterable = polygons_freguesias.Concelho.tolist()\n",
    "    dataframe = polygons_freguesias.head(12)\n",
    "    func = partial(create_network, dataframe)\n",
    "    agents = 6\n",
    "    chunksize = 2\n",
    "    with Pool(processes=agents) as pool:\n",
    "        pool.map(func, iterable, chunksize=chunksize)\n",
    "        pool.close()\n",
    "        pool.join()"
   ]
  },
  {
   "cell_type": "code",
   "execution_count": 27,
   "metadata": {
    "scrolled": true
   },
   "outputs": [
    {
     "name": "stdout",
     "output_type": "stream",
     "text": [
      "Overwriting existing store...\n",
      "Reading shapefile with geopandas: ./data/temp/ALANDROAL/edges/edges.shp...\n",
      "Converting to PT-TM06 for Portugal Projection\n",
      "Calculating length to Edges\n",
      "Establishing node store...\n",
      "Establishing edge store for 1473 edges...\n",
      "Transferring nodeids to edges...\n",
      "Note: Edges are duplicated in this step, do not use the 'twoway' setting in the pandana network if using this \n",
      "             function\n",
      "Graph store construction complete...\n",
      "Overwriting existing store...\n",
      "Reading shapefile with geopandas: ./data/temp/ALENQUER/edges/edges.shp...\n",
      "Converting to PT-TM06 for Portugal Projection\n",
      "Calculating length to Edges\n",
      "Establishing node store...\n",
      "Establishing edge store for 5755 edges...\n",
      "Transferring nodeids to edges...\n",
      "Note: Edges are duplicated in this step, do not use the 'twoway' setting in the pandana network if using this \n",
      "             function\n",
      "Graph store construction complete...\n",
      "Overwriting existing store...\n",
      "Reading shapefile with geopandas: ./data/temp/ABRANTES/edges/edges.shp...\n",
      "Converting to PT-TM06 for Portugal Projection\n",
      "Calculating length to Edges\n",
      "Establishing node store...\n",
      "Establishing edge store for 8611 edges...\n",
      "Transferring nodeids to edges...\n",
      "Note: Edges are duplicated in this step, do not use the 'twoway' setting in the pandana network if using this \n",
      "             function\n",
      "Graph store construction complete...\n",
      "Overwriting existing store...\n",
      "Reading shapefile with geopandas: ./data/temp/ALBUFEIRA/edges/edges.shp...\n",
      "Converting to PT-TM06 for Portugal Projection\n",
      "Calculating length to Edges\n",
      "Establishing node store...\n",
      "Establishing edge store for 13300 edges...\n",
      "Transferring nodeids to edges...\n",
      "Note: Edges are duplicated in this step, do not use the 'twoway' setting in the pandana network if using this \n",
      "             function\n",
      "Graph store construction complete...\n",
      "Overwriting existing store...\n",
      "Reading shapefile with geopandas: ./data/temp/AGUIAR DA BEIRA/edges/edges.shp...\n",
      "Converting to PT-TM06 for Portugal Projection\n",
      "Calculating length to Edges\n",
      "Establishing node store...\n",
      "Establishing edge store for 2416 edges...\n",
      "Transferring nodeids to edges...\n",
      "Note: Edges are duplicated in this step, do not use the 'twoway' setting in the pandana network if using this \n",
      "             function\n",
      "Graph store construction complete...\n",
      "Overwriting existing store...\n",
      "Reading shapefile with geopandas: ./data/temp/ALCANENA/edges/edges.shp...\n",
      "Converting to PT-TM06 for Portugal Projection\n",
      "Calculating length to Edges\n",
      "Establishing node store...\n",
      "Establishing edge store for 3431 edges...\n",
      "Transferring nodeids to edges...\n",
      "Note: Edges are duplicated in this step, do not use the 'twoway' setting in the pandana network if using this \n",
      "             function\n",
      "Graph store construction complete...\n",
      "Overwriting existing store...\n",
      "Reading shapefile with geopandas: ./data/temp/ALBERGARIA-A-VELHA/edges/edges.shp...\n",
      "Converting to PT-TM06 for Portugal Projection\n",
      "Calculating length to Edges\n",
      "Establishing node store...\n",
      "Establishing edge store for 4544 edges...\n",
      "Transferring nodeids to edges...\n",
      "Note: Edges are duplicated in this step, do not use the 'twoway' setting in the pandana network if using this \n",
      "             function\n",
      "Graph store construction complete...\n",
      "Overwriting existing store...\n",
      "Reading shapefile with geopandas: ./data/temp/ALCOUTIM/edges/edges.shp...\n",
      "Converting to PT-TM06 for Portugal Projection\n",
      "Calculating length to Edges\n",
      "Establishing node store...\n",
      "Establishing edge store for 3701 edges...\n",
      "Transferring nodeids to edges...\n",
      "Note: Edges are duplicated in this step, do not use the 'twoway' setting in the pandana network if using this \n",
      "             function\n",
      "Graph store construction complete...\n",
      "Overwriting existing store...\n",
      "Reading shapefile with geopandas: ./data/temp/ALFÂNDEGA DA FÉ/edges/edges.shp...\n",
      "Converting to PT-TM06 for Portugal Projection\n",
      "Calculating length to Edges\n",
      "Establishing node store...\n",
      "Establishing edge store for 1142 edges...\n",
      "Transferring nodeids to edges...\n",
      "Note: Edges are duplicated in this step, do not use the 'twoway' setting in the pandana network if using this \n",
      "             function\n",
      "Graph store construction complete...\n",
      "Overwriting existing store...\n",
      "Reading shapefile with geopandas: ./data/temp/ALCOBAÇA/edges/edges.shp...\n",
      "Converting to PT-TM06 for Portugal Projection\n",
      "Calculating length to Edges\n",
      "Establishing node store...\n",
      "Establishing edge store for 12208 edges...\n",
      "Transferring nodeids to edges...\n",
      "Note: Edges are duplicated in this step, do not use the 'twoway' setting in the pandana network if using this \n",
      "             function\n",
      "Graph store construction complete...\n",
      "Overwriting existing store...\n",
      "Reading shapefile with geopandas: ./data/temp/ALCÁCER DO SAL/edges/edges.shp...\n",
      "Converting to PT-TM06 for Portugal Projection\n",
      "Calculating length to Edges\n",
      "Establishing node store...\n",
      "Establishing edge store for 5218 edges...\n",
      "Transferring nodeids to edges...\n",
      "Note: Edges are duplicated in this step, do not use the 'twoway' setting in the pandana network if using this \n",
      "             function\n",
      "Graph store construction complete...\n",
      "Overwriting existing store...\n",
      "Reading shapefile with geopandas: ./data/temp/ALCOCHETE/edges/edges.shp...\n",
      "Converting to PT-TM06 for Portugal Projection\n",
      "Calculating length to Edges\n",
      "Establishing node store...\n",
      "Establishing edge store for 2465 edges...\n",
      "Transferring nodeids to edges...\n",
      "Note: Edges are duplicated in this step, do not use the 'twoway' setting in the pandana network if using this \n",
      "             function\n",
      "Graph store construction complete...\n"
     ]
    },
    {
     "ename": "ValueError",
     "evalue": "Incompatible indexer with Series",
     "output_type": "error",
     "traceback": [
      "\u001b[0;31m---------------------------------------------------------------------------\u001b[0m",
      "\u001b[0;31mRemoteTraceback\u001b[0m                           Traceback (most recent call last)",
      "\u001b[0;31mRemoteTraceback\u001b[0m: \n\"\"\"\nTraceback (most recent call last):\n  File \"/home/fillipe/anaconda3/envs/pandana/lib/python3.6/multiprocessing/pool.py\", line 119, in worker\n    result = (True, func(*args, **kwds))\n  File \"/home/fillipe/anaconda3/envs/pandana/lib/python3.6/multiprocessing/pool.py\", line 44, in mapstar\n    return list(map(*args))\n  File \"<ipython-input-8-47a8cab47936>\", line 21, in create_network\n    latlng_geom, _ = ox.project_geometry(polygonAsSeries.geometry, crs={'init':'epsg:3763'}, to_latlong=True)\n  File \"/home/fillipe/anaconda3/envs/pandana/lib/python3.6/site-packages/osmnx/projection.py\", line 52, in project_geometry\n    gdf.loc[0, 'geometry'] = geometry\n  File \"/home/fillipe/anaconda3/envs/pandana/lib/python3.6/site-packages/pandas/core/indexing.py\", line 205, in __setitem__\n    self._setitem_with_indexer(indexer, value)\n  File \"/home/fillipe/anaconda3/envs/pandana/lib/python3.6/site-packages/pandas/core/indexing.py\", line 583, in _setitem_with_indexer\n    value = self._align_series(indexer, Series(value))\n  File \"/home/fillipe/anaconda3/envs/pandana/lib/python3.6/site-packages/pandas/core/indexing.py\", line 749, in _align_series\n    raise ValueError(\"Incompatible indexer with Series\")\nValueError: Incompatible indexer with Series\n\"\"\"",
      "\nThe above exception was the direct cause of the following exception:\n",
      "\u001b[0;31mValueError\u001b[0m                                Traceback (most recent call last)",
      "\u001b[0;32m<ipython-input-27-972361fa1b80>\u001b[0m in \u001b[0;36m<module>\u001b[0;34m\u001b[0m\n\u001b[1;32m      1\u001b[0m \u001b[0;32mif\u001b[0m \u001b[0m__name__\u001b[0m \u001b[0;34m==\u001b[0m \u001b[0;34m\"__main__\"\u001b[0m\u001b[0;34m:\u001b[0m\u001b[0;34m\u001b[0m\u001b[0;34m\u001b[0m\u001b[0m\n\u001b[0;32m----> 2\u001b[0;31m     \u001b[0mmain\u001b[0m\u001b[0;34m(\u001b[0m\u001b[0;34m)\u001b[0m\u001b[0;34m\u001b[0m\u001b[0;34m\u001b[0m\u001b[0m\n\u001b[0m",
      "\u001b[0;32m<ipython-input-26-0524426c8a29>\u001b[0m in \u001b[0;36mmain\u001b[0;34m()\u001b[0m\n\u001b[1;32m      9\u001b[0m     \u001b[0mchunksize\u001b[0m \u001b[0;34m=\u001b[0m \u001b[0;36m2\u001b[0m\u001b[0;34m\u001b[0m\u001b[0;34m\u001b[0m\u001b[0m\n\u001b[1;32m     10\u001b[0m     \u001b[0;32mwith\u001b[0m \u001b[0mPool\u001b[0m\u001b[0;34m(\u001b[0m\u001b[0mprocesses\u001b[0m\u001b[0;34m=\u001b[0m\u001b[0magents\u001b[0m\u001b[0;34m)\u001b[0m \u001b[0;32mas\u001b[0m \u001b[0mpool\u001b[0m\u001b[0;34m:\u001b[0m\u001b[0;34m\u001b[0m\u001b[0;34m\u001b[0m\u001b[0m\n\u001b[0;32m---> 11\u001b[0;31m         \u001b[0mpool\u001b[0m\u001b[0;34m.\u001b[0m\u001b[0mmap\u001b[0m\u001b[0;34m(\u001b[0m\u001b[0mfunc\u001b[0m\u001b[0;34m,\u001b[0m \u001b[0miterable\u001b[0m\u001b[0;34m,\u001b[0m \u001b[0mchunksize\u001b[0m\u001b[0;34m=\u001b[0m\u001b[0mchunksize\u001b[0m\u001b[0;34m)\u001b[0m\u001b[0;34m\u001b[0m\u001b[0;34m\u001b[0m\u001b[0m\n\u001b[0m\u001b[1;32m     12\u001b[0m         \u001b[0mpool\u001b[0m\u001b[0;34m.\u001b[0m\u001b[0mclose\u001b[0m\u001b[0;34m(\u001b[0m\u001b[0;34m)\u001b[0m\u001b[0;34m\u001b[0m\u001b[0;34m\u001b[0m\u001b[0m\n\u001b[1;32m     13\u001b[0m         \u001b[0mpool\u001b[0m\u001b[0;34m.\u001b[0m\u001b[0mjoin\u001b[0m\u001b[0;34m(\u001b[0m\u001b[0;34m)\u001b[0m\u001b[0;34m\u001b[0m\u001b[0;34m\u001b[0m\u001b[0m\n",
      "\u001b[0;32m~/anaconda3/envs/pandana/lib/python3.6/multiprocessing/pool.py\u001b[0m in \u001b[0;36mmap\u001b[0;34m(self, func, iterable, chunksize)\u001b[0m\n\u001b[1;32m    286\u001b[0m         \u001b[0;32min\u001b[0m \u001b[0ma\u001b[0m \u001b[0mlist\u001b[0m \u001b[0mthat\u001b[0m \u001b[0;32mis\u001b[0m \u001b[0mreturned\u001b[0m\u001b[0;34m.\u001b[0m\u001b[0;34m\u001b[0m\u001b[0;34m\u001b[0m\u001b[0m\n\u001b[1;32m    287\u001b[0m         '''\n\u001b[0;32m--> 288\u001b[0;31m         \u001b[0;32mreturn\u001b[0m \u001b[0mself\u001b[0m\u001b[0;34m.\u001b[0m\u001b[0m_map_async\u001b[0m\u001b[0;34m(\u001b[0m\u001b[0mfunc\u001b[0m\u001b[0;34m,\u001b[0m \u001b[0miterable\u001b[0m\u001b[0;34m,\u001b[0m \u001b[0mmapstar\u001b[0m\u001b[0;34m,\u001b[0m \u001b[0mchunksize\u001b[0m\u001b[0;34m)\u001b[0m\u001b[0;34m.\u001b[0m\u001b[0mget\u001b[0m\u001b[0;34m(\u001b[0m\u001b[0;34m)\u001b[0m\u001b[0;34m\u001b[0m\u001b[0;34m\u001b[0m\u001b[0m\n\u001b[0m\u001b[1;32m    289\u001b[0m \u001b[0;34m\u001b[0m\u001b[0m\n\u001b[1;32m    290\u001b[0m     \u001b[0;32mdef\u001b[0m \u001b[0mstarmap\u001b[0m\u001b[0;34m(\u001b[0m\u001b[0mself\u001b[0m\u001b[0;34m,\u001b[0m \u001b[0mfunc\u001b[0m\u001b[0;34m,\u001b[0m \u001b[0miterable\u001b[0m\u001b[0;34m,\u001b[0m \u001b[0mchunksize\u001b[0m\u001b[0;34m=\u001b[0m\u001b[0;32mNone\u001b[0m\u001b[0;34m)\u001b[0m\u001b[0;34m:\u001b[0m\u001b[0;34m\u001b[0m\u001b[0;34m\u001b[0m\u001b[0m\n",
      "\u001b[0;32m~/anaconda3/envs/pandana/lib/python3.6/multiprocessing/pool.py\u001b[0m in \u001b[0;36mget\u001b[0;34m(self, timeout)\u001b[0m\n\u001b[1;32m    668\u001b[0m             \u001b[0;32mreturn\u001b[0m \u001b[0mself\u001b[0m\u001b[0;34m.\u001b[0m\u001b[0m_value\u001b[0m\u001b[0;34m\u001b[0m\u001b[0;34m\u001b[0m\u001b[0m\n\u001b[1;32m    669\u001b[0m         \u001b[0;32melse\u001b[0m\u001b[0;34m:\u001b[0m\u001b[0;34m\u001b[0m\u001b[0;34m\u001b[0m\u001b[0m\n\u001b[0;32m--> 670\u001b[0;31m             \u001b[0;32mraise\u001b[0m \u001b[0mself\u001b[0m\u001b[0;34m.\u001b[0m\u001b[0m_value\u001b[0m\u001b[0;34m\u001b[0m\u001b[0;34m\u001b[0m\u001b[0m\n\u001b[0m\u001b[1;32m    671\u001b[0m \u001b[0;34m\u001b[0m\u001b[0m\n\u001b[1;32m    672\u001b[0m     \u001b[0;32mdef\u001b[0m \u001b[0m_set\u001b[0m\u001b[0;34m(\u001b[0m\u001b[0mself\u001b[0m\u001b[0;34m,\u001b[0m \u001b[0mi\u001b[0m\u001b[0;34m,\u001b[0m \u001b[0mobj\u001b[0m\u001b[0;34m)\u001b[0m\u001b[0;34m:\u001b[0m\u001b[0;34m\u001b[0m\u001b[0;34m\u001b[0m\u001b[0m\n",
      "\u001b[0;31mValueError\u001b[0m: Incompatible indexer with Series"
     ]
    }
   ],
   "source": [
    "if __name__ == \"__main__\":\n",
    "    main()"
   ]
  },
  {
   "cell_type": "code",
   "execution_count": 3,
   "metadata": {},
   "outputs": [],
   "source": [
    "pool = Pool(processes=7)"
   ]
  },
  {
   "cell_type": "code",
   "execution_count": 4,
   "metadata": {},
   "outputs": [
    {
     "data": {
      "text/plain": [
       "<multiprocessing.pool.Pool at 0x7f3ac375a940>"
      ]
     },
     "execution_count": 4,
     "metadata": {},
     "output_type": "execute_result"
    }
   ],
   "source": [
    "pool.map()"
   ]
  },
  {
   "cell_type": "code",
   "execution_count": null,
   "metadata": {},
   "outputs": [],
   "source": []
  }
 ],
 "metadata": {
  "kernelspec": {
   "display_name": "Python 3",
   "language": "python",
   "name": "python3"
  },
  "language_info": {
   "codemirror_mode": {
    "name": "ipython",
    "version": 3
   },
   "file_extension": ".py",
   "mimetype": "text/x-python",
   "name": "python",
   "nbconvert_exporter": "python",
   "pygments_lexer": "ipython3",
   "version": "3.6.7"
  }
 },
 "nbformat": 4,
 "nbformat_minor": 2
}
