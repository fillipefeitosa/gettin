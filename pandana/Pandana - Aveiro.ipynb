{
 "cells": [
  {
   "cell_type": "markdown",
   "metadata": {
    "slideshow": {
     "slide_type": "skip"
    }
   },
   "source": [
    "## Output has been removed from this notebook to reduce file sizes in the repo"
   ]
  },
  {
   "cell_type": "code",
   "execution_count": 1,
   "metadata": {
    "slideshow": {
     "slide_type": "skip"
    }
   },
   "outputs": [],
   "source": [
    "%load_ext autoreload\n",
    "%autoreload 2\n",
    "import pandas as pd\n",
    "import numpy as np\n",
    "import pandana as pdna\n",
    "from pandana.loaders import osm\n",
    "%matplotlib inline\n",
    "\n",
    "import warnings\n",
    "warnings.filterwarnings('ignore')"
   ]
  },
  {
   "cell_type": "markdown",
   "metadata": {
    "slideshow": {
     "slide_type": "slide"
    }
   },
   "source": [
    "## Download OpenStreetMap restaurants for a good part of the Bay Area"
   ]
  },
  {
   "cell_type": "markdown",
   "metadata": {
    "slideshow": {
     "slide_type": "fragment"
    }
   },
   "source": [
    "###### Note: used http://boundingbox.klokantech.com/ to get the bounding box"
   ]
  },
  {
   "cell_type": "code",
   "execution_count": 2,
   "metadata": {},
   "outputs": [
    {
     "name": "stdout",
     "output_type": "stream",
     "text": [
      "Requesting network data within bounding box from Overpass API in 1 request(s)\n",
      "Posting to http://www.overpass-api.de/api/interpreter with timeout=180, \"{'data': '[out:json][timeout:180];(way[\"highway\"][\"highway\"!~\"motor|proposed|construction|abandoned|platform|raceway\"][\"foot\"!~\"no\"][\"pedestrians\"!~\"no\"](40.54645200,-8.77307600,40.67711400,-8.59361700);>;);out;'}\"\n",
      "Downloaded 5,571.6KB from www.overpass-api.de in 0.83 seconds\n",
      "Downloaded OSM network data within bounding box from Overpass API in 1 request(s) and 0.91 seconds\n",
      "Returning OSM data with 40,647 nodes and 6,988 ways...\n",
      "Edge node pairs completed. Took 11.20 seconds\n",
      "Returning processed graph with 8,940 nodes and 12,807 edges...\n",
      "Completed OSM data download and Pandana node and edge table creation in 13.60 seconds\n"
     ]
    }
   ],
   "source": [
    "# Bounding box from link above\n",
    "\n",
    "# CSV for Aveiro\n",
    "tmp = [-8.773076,40.546452,-8.593617,40.677114]\n",
    "\n",
    "# Reordered for Pandana functions\n",
    "bbox = [tmp[1], tmp[0], tmp[3], tmp[2]]\n",
    "\n",
    "network = osm.pdna_network_from_bbox(*bbox)\n",
    "poi_df = osm.node_query(*bbox, tags='amenity=school')\n",
    "x, y = poi_df['lon'], poi_df['lat']\n",
    "# store = poi_df.\n"
   ]
  },
  {
   "cell_type": "code",
   "execution_count": 3,
   "metadata": {},
   "outputs": [],
   "source": [
    "\n",
    "network.set_pois('schools', 2000, 10, x,y)\n",
    "network.save_hdf5('data/aveiro2.h5')\n",
    "# x, y = poi_df['lon'], poi_df['lat']\n"
   ]
  },
  {
   "cell_type": "markdown",
   "metadata": {
    "slideshow": {
     "slide_type": "slide"
    }
   },
   "source": [
    "## Get previously stored OpenStreetMap networks for Bay Area\n",
    "\n",
    "Download the data here: https://s3-us-west-1.amazonaws.com/synthpop-data2/pandana/osm_bayarea.h5"
   ]
  },
  {
   "cell_type": "code",
   "execution_count": 4,
   "metadata": {
    "slideshow": {
     "slide_type": "fragment"
    }
   },
   "outputs": [
    {
     "name": "stdout",
     "output_type": "stream",
     "text": [
      "                  x          y\n",
      "id                            \n",
      "26019656  -8.684921  40.632523\n",
      "132887998 -8.725343  40.639438\n",
      "267983421 -8.746970  40.633751\n",
      "                           from          to    distance\n",
      "26019656  1650473977   26019656  1650473977  202.986370\n",
      "132887998 624272810   132887998   624272810  101.755323\n",
      "          1650269783  132887998  1650269783    9.057816\n"
     ]
    },
    {
     "data": {
      "text/html": [
       "<div>\n",
       "<style scoped>\n",
       "    .dataframe tbody tr th:only-of-type {\n",
       "        vertical-align: middle;\n",
       "    }\n",
       "\n",
       "    .dataframe tbody tr th {\n",
       "        vertical-align: top;\n",
       "    }\n",
       "\n",
       "    .dataframe thead th {\n",
       "        text-align: right;\n",
       "    }\n",
       "</style>\n",
       "<table border=\"1\" class=\"dataframe\">\n",
       "  <thead>\n",
       "    <tr style=\"text-align: right;\">\n",
       "      <th></th>\n",
       "      <th></th>\n",
       "      <th>from</th>\n",
       "      <th>to</th>\n",
       "      <th>distance</th>\n",
       "    </tr>\n",
       "  </thead>\n",
       "  <tbody>\n",
       "    <tr>\n",
       "      <th>26019656</th>\n",
       "      <th>1650473977</th>\n",
       "      <td>26019656</td>\n",
       "      <td>1650473977</td>\n",
       "      <td>202.986370</td>\n",
       "    </tr>\n",
       "    <tr>\n",
       "      <th rowspan=\"2\" valign=\"top\">132887998</th>\n",
       "      <th>624272810</th>\n",
       "      <td>132887998</td>\n",
       "      <td>624272810</td>\n",
       "      <td>101.755323</td>\n",
       "    </tr>\n",
       "    <tr>\n",
       "      <th>1650269783</th>\n",
       "      <td>132887998</td>\n",
       "      <td>1650269783</td>\n",
       "      <td>9.057816</td>\n",
       "    </tr>\n",
       "    <tr>\n",
       "      <th rowspan=\"2\" valign=\"top\">267983421</th>\n",
       "      <th>3603994746</th>\n",
       "      <td>267983421</td>\n",
       "      <td>3603994746</td>\n",
       "      <td>2.749155</td>\n",
       "    </tr>\n",
       "    <tr>\n",
       "      <th>3603994747</th>\n",
       "      <td>267983421</td>\n",
       "      <td>3603994747</td>\n",
       "      <td>2.784190</td>\n",
       "    </tr>\n",
       "    <tr>\n",
       "      <th>267983422</th>\n",
       "      <th>3603994769</th>\n",
       "      <td>267983422</td>\n",
       "      <td>3603994769</td>\n",
       "      <td>2.825462</td>\n",
       "    </tr>\n",
       "    <tr>\n",
       "      <th rowspan=\"2\" valign=\"top\">267983429</th>\n",
       "      <th>1214724417</th>\n",
       "      <td>267983429</td>\n",
       "      <td>1214724417</td>\n",
       "      <td>40.890244</td>\n",
       "    </tr>\n",
       "    <tr>\n",
       "      <th>1214724466</th>\n",
       "      <td>267983429</td>\n",
       "      <td>1214724466</td>\n",
       "      <td>6.775382</td>\n",
       "    </tr>\n",
       "    <tr>\n",
       "      <th>267983444</th>\n",
       "      <th>3596762941</th>\n",
       "      <td>267983444</td>\n",
       "      <td>3596762941</td>\n",
       "      <td>39.123814</td>\n",
       "    </tr>\n",
       "    <tr>\n",
       "      <th>330341298</th>\n",
       "      <th>1484655928</th>\n",
       "      <td>330341298</td>\n",
       "      <td>1484655928</td>\n",
       "      <td>151.385838</td>\n",
       "    </tr>\n",
       "    <tr>\n",
       "      <th rowspan=\"2\" valign=\"top\">330341301</th>\n",
       "      <th>330341302</th>\n",
       "      <td>330341301</td>\n",
       "      <td>330341302</td>\n",
       "      <td>115.117222</td>\n",
       "    </tr>\n",
       "    <tr>\n",
       "      <th>1484930831</th>\n",
       "      <td>330341301</td>\n",
       "      <td>1484930831</td>\n",
       "      <td>72.416663</td>\n",
       "    </tr>\n",
       "    <tr>\n",
       "      <th rowspan=\"2\" valign=\"top\">330341302</th>\n",
       "      <th>698090406</th>\n",
       "      <td>330341302</td>\n",
       "      <td>698090406</td>\n",
       "      <td>72.958899</td>\n",
       "    </tr>\n",
       "    <tr>\n",
       "      <th>5217907851</th>\n",
       "      <td>330341302</td>\n",
       "      <td>5217907851</td>\n",
       "      <td>15.840054</td>\n",
       "    </tr>\n",
       "    <tr>\n",
       "      <th rowspan=\"2\" valign=\"top\">330341303</th>\n",
       "      <th>1406433057</th>\n",
       "      <td>330341303</td>\n",
       "      <td>1406433057</td>\n",
       "      <td>9.879029</td>\n",
       "    </tr>\n",
       "    <tr>\n",
       "      <th>1650941224</th>\n",
       "      <td>330341303</td>\n",
       "      <td>1650941224</td>\n",
       "      <td>29.699161</td>\n",
       "    </tr>\n",
       "    <tr>\n",
       "      <th rowspan=\"2\" valign=\"top\">330341306</th>\n",
       "      <th>390280425</th>\n",
       "      <td>330341306</td>\n",
       "      <td>390280425</td>\n",
       "      <td>32.642863</td>\n",
       "    </tr>\n",
       "    <tr>\n",
       "      <th>1489699007</th>\n",
       "      <td>330341306</td>\n",
       "      <td>1489699007</td>\n",
       "      <td>22.144065</td>\n",
       "    </tr>\n",
       "    <tr>\n",
       "      <th>330341308</th>\n",
       "      <th>330341607</th>\n",
       "      <td>330341308</td>\n",
       "      <td>330341607</td>\n",
       "      <td>19.187207</td>\n",
       "    </tr>\n",
       "    <tr>\n",
       "      <th>330341455</th>\n",
       "      <th>1110673533</th>\n",
       "      <td>330341455</td>\n",
       "      <td>1110673533</td>\n",
       "      <td>250.459604</td>\n",
       "    </tr>\n",
       "    <tr>\n",
       "      <th rowspan=\"2\" valign=\"top\">330341607</th>\n",
       "      <th>385009969</th>\n",
       "      <td>330341607</td>\n",
       "      <td>385009969</td>\n",
       "      <td>36.551098</td>\n",
       "    </tr>\n",
       "    <tr>\n",
       "      <th>1650541330</th>\n",
       "      <td>330341607</td>\n",
       "      <td>1650541330</td>\n",
       "      <td>28.511832</td>\n",
       "    </tr>\n",
       "    <tr>\n",
       "      <th>336969591</th>\n",
       "      <th>5291528487</th>\n",
       "      <td>336969591</td>\n",
       "      <td>5291528487</td>\n",
       "      <td>13.345122</td>\n",
       "    </tr>\n",
       "    <tr>\n",
       "      <th rowspan=\"2\" valign=\"top\">336969608</th>\n",
       "      <th>1650513889</th>\n",
       "      <td>336969608</td>\n",
       "      <td>1650513889</td>\n",
       "      <td>55.861982</td>\n",
       "    </tr>\n",
       "    <tr>\n",
       "      <th>1678492657</th>\n",
       "      <td>336969608</td>\n",
       "      <td>1678492657</td>\n",
       "      <td>49.306300</td>\n",
       "    </tr>\n",
       "    <tr>\n",
       "      <th>336969639</th>\n",
       "      <th>339535442</th>\n",
       "      <td>336969639</td>\n",
       "      <td>339535442</td>\n",
       "      <td>16.304483</td>\n",
       "    </tr>\n",
       "    <tr>\n",
       "      <th>336969645</th>\n",
       "      <th>1650513801</th>\n",
       "      <td>336969645</td>\n",
       "      <td>1650513801</td>\n",
       "      <td>25.369618</td>\n",
       "    </tr>\n",
       "    <tr>\n",
       "      <th rowspan=\"3\" valign=\"top\">336969728</th>\n",
       "      <th>1315886924</th>\n",
       "      <td>336969728</td>\n",
       "      <td>1315886924</td>\n",
       "      <td>145.879812</td>\n",
       "    </tr>\n",
       "    <tr>\n",
       "      <th>1384272475</th>\n",
       "      <td>336969728</td>\n",
       "      <td>1384272475</td>\n",
       "      <td>156.193826</td>\n",
       "    </tr>\n",
       "    <tr>\n",
       "      <th>4705756479</th>\n",
       "      <td>336969728</td>\n",
       "      <td>4705756479</td>\n",
       "      <td>212.884611</td>\n",
       "    </tr>\n",
       "    <tr>\n",
       "      <th>...</th>\n",
       "      <th>...</th>\n",
       "      <td>...</td>\n",
       "      <td>...</td>\n",
       "      <td>...</td>\n",
       "    </tr>\n",
       "    <tr>\n",
       "      <th>5802437568</th>\n",
       "      <th>5802437576</th>\n",
       "      <td>5802437568</td>\n",
       "      <td>5802437576</td>\n",
       "      <td>270.688925</td>\n",
       "    </tr>\n",
       "    <tr>\n",
       "      <th>5802437576</th>\n",
       "      <th>5802437617</th>\n",
       "      <td>5802437576</td>\n",
       "      <td>5802437617</td>\n",
       "      <td>166.279103</td>\n",
       "    </tr>\n",
       "    <tr>\n",
       "      <th>5802437617</th>\n",
       "      <th>1650475114</th>\n",
       "      <td>5802437617</td>\n",
       "      <td>1650475114</td>\n",
       "      <td>201.852541</td>\n",
       "    </tr>\n",
       "    <tr>\n",
       "      <th>5802437631</th>\n",
       "      <th>1650475114</th>\n",
       "      <td>5802437631</td>\n",
       "      <td>1650475114</td>\n",
       "      <td>142.164016</td>\n",
       "    </tr>\n",
       "    <tr>\n",
       "      <th>5802554517</th>\n",
       "      <th>5802554568</th>\n",
       "      <td>5802554517</td>\n",
       "      <td>5802554568</td>\n",
       "      <td>87.988790</td>\n",
       "    </tr>\n",
       "    <tr>\n",
       "      <th rowspan=\"2\" valign=\"top\">5802554534</th>\n",
       "      <th>1604822241</th>\n",
       "      <td>5802554534</td>\n",
       "      <td>1604822241</td>\n",
       "      <td>93.529969</td>\n",
       "    </tr>\n",
       "    <tr>\n",
       "      <th>5802554517</th>\n",
       "      <td>5802554534</td>\n",
       "      <td>5802554517</td>\n",
       "      <td>292.430259</td>\n",
       "    </tr>\n",
       "    <tr>\n",
       "      <th rowspan=\"2\" valign=\"top\">5802554549</th>\n",
       "      <th>5802554550</th>\n",
       "      <td>5802554549</td>\n",
       "      <td>5802554550</td>\n",
       "      <td>4.797055</td>\n",
       "    </tr>\n",
       "    <tr>\n",
       "      <th>5802554568</th>\n",
       "      <td>5802554549</td>\n",
       "      <td>5802554568</td>\n",
       "      <td>205.679834</td>\n",
       "    </tr>\n",
       "    <tr>\n",
       "      <th>5802554550</th>\n",
       "      <th>1604822042</th>\n",
       "      <td>5802554550</td>\n",
       "      <td>1604822042</td>\n",
       "      <td>32.484978</td>\n",
       "    </tr>\n",
       "    <tr>\n",
       "      <th>5802554568</th>\n",
       "      <th>5802554550</th>\n",
       "      <td>5802554568</td>\n",
       "      <td>5802554550</td>\n",
       "      <td>203.164214</td>\n",
       "    </tr>\n",
       "    <tr>\n",
       "      <th>5818226229</th>\n",
       "      <th>5818226232</th>\n",
       "      <td>5818226229</td>\n",
       "      <td>5818226232</td>\n",
       "      <td>6.973640</td>\n",
       "    </tr>\n",
       "    <tr>\n",
       "      <th>5818226230</th>\n",
       "      <th>5818226233</th>\n",
       "      <td>5818226230</td>\n",
       "      <td>5818226233</td>\n",
       "      <td>1.481994</td>\n",
       "    </tr>\n",
       "    <tr>\n",
       "      <th>5818226232</th>\n",
       "      <th>5818226230</th>\n",
       "      <td>5818226232</td>\n",
       "      <td>5818226230</td>\n",
       "      <td>7.109531</td>\n",
       "    </tr>\n",
       "    <tr>\n",
       "      <th>5818226233</th>\n",
       "      <th>5818226236</th>\n",
       "      <td>5818226233</td>\n",
       "      <td>5818226236</td>\n",
       "      <td>13.487368</td>\n",
       "    </tr>\n",
       "    <tr>\n",
       "      <th>5818226236</th>\n",
       "      <th>5818226229</th>\n",
       "      <td>5818226236</td>\n",
       "      <td>5818226229</td>\n",
       "      <td>1.706476</td>\n",
       "    </tr>\n",
       "    <tr>\n",
       "      <th rowspan=\"2\" valign=\"top\">5860772648</th>\n",
       "      <th>1950917587</th>\n",
       "      <td>5860772648</td>\n",
       "      <td>1950917587</td>\n",
       "      <td>319.740422</td>\n",
       "    </tr>\n",
       "    <tr>\n",
       "      <th>1950917641</th>\n",
       "      <td>5860772648</td>\n",
       "      <td>1950917641</td>\n",
       "      <td>329.353733</td>\n",
       "    </tr>\n",
       "    <tr>\n",
       "      <th rowspan=\"2\" valign=\"top\">5860772787</th>\n",
       "      <th>1650688017</th>\n",
       "      <td>5860772787</td>\n",
       "      <td>1650688017</td>\n",
       "      <td>44.981868</td>\n",
       "    </tr>\n",
       "    <tr>\n",
       "      <th>1950916965</th>\n",
       "      <td>5860772787</td>\n",
       "      <td>1950916965</td>\n",
       "      <td>63.199860</td>\n",
       "    </tr>\n",
       "    <tr>\n",
       "      <th>6024660632</th>\n",
       "      <th>6024660648</th>\n",
       "      <td>6024660632</td>\n",
       "      <td>6024660648</td>\n",
       "      <td>3.759485</td>\n",
       "    </tr>\n",
       "    <tr>\n",
       "      <th rowspan=\"2\" valign=\"top\">6024660636</th>\n",
       "      <th>2882692732</th>\n",
       "      <td>6024660636</td>\n",
       "      <td>2882692732</td>\n",
       "      <td>53.442290</td>\n",
       "    </tr>\n",
       "    <tr>\n",
       "      <th>6024660632</th>\n",
       "      <td>6024660636</td>\n",
       "      <td>6024660632</td>\n",
       "      <td>49.795512</td>\n",
       "    </tr>\n",
       "    <tr>\n",
       "      <th>6024660643</th>\n",
       "      <th>2882693752</th>\n",
       "      <td>6024660643</td>\n",
       "      <td>2882693752</td>\n",
       "      <td>49.310749</td>\n",
       "    </tr>\n",
       "    <tr>\n",
       "      <th rowspan=\"2\" valign=\"top\">6024660648</th>\n",
       "      <th>2882692749</th>\n",
       "      <td>6024660648</td>\n",
       "      <td>2882692749</td>\n",
       "      <td>18.011419</td>\n",
       "    </tr>\n",
       "    <tr>\n",
       "      <th>6024660643</th>\n",
       "      <td>6024660648</td>\n",
       "      <td>6024660643</td>\n",
       "      <td>54.549154</td>\n",
       "    </tr>\n",
       "    <tr>\n",
       "      <th>6041871529</th>\n",
       "      <th>4568439461</th>\n",
       "      <td>6041871529</td>\n",
       "      <td>4568439461</td>\n",
       "      <td>112.483959</td>\n",
       "    </tr>\n",
       "    <tr>\n",
       "      <th rowspan=\"2\" valign=\"top\">6041874980</th>\n",
       "      <th>3414343744</th>\n",
       "      <td>6041874980</td>\n",
       "      <td>3414343744</td>\n",
       "      <td>50.726923</td>\n",
       "    </tr>\n",
       "    <tr>\n",
       "      <th>6041871529</th>\n",
       "      <td>6041874980</td>\n",
       "      <td>6041871529</td>\n",
       "      <td>57.963103</td>\n",
       "    </tr>\n",
       "    <tr>\n",
       "      <th>6041878083</th>\n",
       "      <th>6041874980</th>\n",
       "      <td>6041878083</td>\n",
       "      <td>6041874980</td>\n",
       "      <td>57.363835</td>\n",
       "    </tr>\n",
       "  </tbody>\n",
       "</table>\n",
       "<p>9858 rows × 3 columns</p>\n",
       "</div>"
      ],
      "text/plain": [
       "                             from          to    distance\n",
       "26019656   1650473977    26019656  1650473977  202.986370\n",
       "132887998  624272810    132887998   624272810  101.755323\n",
       "           1650269783   132887998  1650269783    9.057816\n",
       "267983421  3603994746   267983421  3603994746    2.749155\n",
       "           3603994747   267983421  3603994747    2.784190\n",
       "267983422  3603994769   267983422  3603994769    2.825462\n",
       "267983429  1214724417   267983429  1214724417   40.890244\n",
       "           1214724466   267983429  1214724466    6.775382\n",
       "267983444  3596762941   267983444  3596762941   39.123814\n",
       "330341298  1484655928   330341298  1484655928  151.385838\n",
       "330341301  330341302    330341301   330341302  115.117222\n",
       "           1484930831   330341301  1484930831   72.416663\n",
       "330341302  698090406    330341302   698090406   72.958899\n",
       "           5217907851   330341302  5217907851   15.840054\n",
       "330341303  1406433057   330341303  1406433057    9.879029\n",
       "           1650941224   330341303  1650941224   29.699161\n",
       "330341306  390280425    330341306   390280425   32.642863\n",
       "           1489699007   330341306  1489699007   22.144065\n",
       "330341308  330341607    330341308   330341607   19.187207\n",
       "330341455  1110673533   330341455  1110673533  250.459604\n",
       "330341607  385009969    330341607   385009969   36.551098\n",
       "           1650541330   330341607  1650541330   28.511832\n",
       "336969591  5291528487   336969591  5291528487   13.345122\n",
       "336969608  1650513889   336969608  1650513889   55.861982\n",
       "           1678492657   336969608  1678492657   49.306300\n",
       "336969639  339535442    336969639   339535442   16.304483\n",
       "336969645  1650513801   336969645  1650513801   25.369618\n",
       "336969728  1315886924   336969728  1315886924  145.879812\n",
       "           1384272475   336969728  1384272475  156.193826\n",
       "           4705756479   336969728  4705756479  212.884611\n",
       "...                           ...         ...         ...\n",
       "5802437568 5802437576  5802437568  5802437576  270.688925\n",
       "5802437576 5802437617  5802437576  5802437617  166.279103\n",
       "5802437617 1650475114  5802437617  1650475114  201.852541\n",
       "5802437631 1650475114  5802437631  1650475114  142.164016\n",
       "5802554517 5802554568  5802554517  5802554568   87.988790\n",
       "5802554534 1604822241  5802554534  1604822241   93.529969\n",
       "           5802554517  5802554534  5802554517  292.430259\n",
       "5802554549 5802554550  5802554549  5802554550    4.797055\n",
       "           5802554568  5802554549  5802554568  205.679834\n",
       "5802554550 1604822042  5802554550  1604822042   32.484978\n",
       "5802554568 5802554550  5802554568  5802554550  203.164214\n",
       "5818226229 5818226232  5818226229  5818226232    6.973640\n",
       "5818226230 5818226233  5818226230  5818226233    1.481994\n",
       "5818226232 5818226230  5818226232  5818226230    7.109531\n",
       "5818226233 5818226236  5818226233  5818226236   13.487368\n",
       "5818226236 5818226229  5818226236  5818226229    1.706476\n",
       "5860772648 1950917587  5860772648  1950917587  319.740422\n",
       "           1950917641  5860772648  1950917641  329.353733\n",
       "5860772787 1650688017  5860772787  1650688017   44.981868\n",
       "           1950916965  5860772787  1950916965   63.199860\n",
       "6024660632 6024660648  6024660632  6024660648    3.759485\n",
       "6024660636 2882692732  6024660636  2882692732   53.442290\n",
       "           6024660632  6024660636  6024660632   49.795512\n",
       "6024660643 2882693752  6024660643  2882693752   49.310749\n",
       "6024660648 2882692749  6024660648  2882692749   18.011419\n",
       "           6024660643  6024660648  6024660643   54.549154\n",
       "6041871529 4568439461  6041871529  4568439461  112.483959\n",
       "6041874980 3414343744  6041874980  3414343744   50.726923\n",
       "           6041871529  6041874980  6041871529   57.963103\n",
       "6041878083 6041874980  6041878083  6041874980   57.363835\n",
       "\n",
       "[9858 rows x 3 columns]"
      ]
     },
     "execution_count": 4,
     "metadata": {},
     "output_type": "execute_result"
    }
   ],
   "source": [
    "store = pd.HDFStore('data/aveiro.h5', \"r\")\n",
    "# store = network\n",
    "nodes = store.nodes\n",
    "edges = store.edges\n",
    "print(nodes.head(3))\n",
    "print(edges.head(3))\n",
    "edges"
   ]
  },
  {
   "cell_type": "markdown",
   "metadata": {
    "slideshow": {
     "slide_type": "slide"
    }
   },
   "source": [
    "## Initialize and preprocess the network"
   ]
  },
  {
   "cell_type": "code",
   "execution_count": 5,
   "metadata": {
    "slideshow": {
     "slide_type": "fragment"
    }
   },
   "outputs": [],
   "source": [
    "net=pdna.Network(nodes.x, \n",
    "                 nodes.y, \n",
    "                 edges[\"from\"], \n",
    "                 edges[\"to\"],\n",
    "                 edges[[\"distance\"]])\n",
    "net.precompute(3000)"
   ]
  },
  {
   "cell_type": "markdown",
   "metadata": {
    "slideshow": {
     "slide_type": "slide"
    }
   },
   "source": [
    "## Nearest *point-of-interest* queries"
   ]
  },
  {
   "cell_type": "code",
   "execution_count": 6,
   "metadata": {
    "slideshow": {
     "slide_type": "fragment"
    }
   },
   "outputs": [],
   "source": [
    "\n",
    "net.set_pois(\"schools\", 2000, 10, x, y)"
   ]
  },
  {
   "cell_type": "code",
   "execution_count": 7,
   "metadata": {
    "slideshow": {
     "slide_type": "fragment"
    }
   },
   "outputs": [
    {
     "name": "stdout",
     "output_type": "stream",
     "text": [
      "              1       2       3       4       5       6       7       8   \\\n",
      "id                                                                         \n",
      "26019656  2000.0  2000.0  2000.0  2000.0  2000.0  2000.0  2000.0  2000.0   \n",
      "\n",
      "              9       10  \n",
      "id                        \n",
      "26019656  2000.0  2000.0  \n"
     ]
    }
   ],
   "source": [
    "a = net.nearest_pois(2000, \"schools\", num_pois=10)\n",
    "print(a.head(1))"
   ]
  },
  {
   "cell_type": "markdown",
   "metadata": {
    "slideshow": {
     "slide_type": "slide"
    }
   },
   "source": [
    "## Here's a map of the distance to the nearest restaurant"
   ]
  },
  {
   "cell_type": "code",
   "execution_count": 8,
   "metadata": {
    "scrolled": true,
    "slideshow": {
     "slide_type": "fragment"
    }
   },
   "outputs": [
    {
     "ename": "OSError",
     "evalue": "Unable to open boundary dataset file. Only the 'crude' and  'low',\nresolution datasets are installed by default.\nIf you are requesting an, 'intermediate', 'high' or 'full'\nresolution dataset, you may need to download and install those\nfiles separately with\n`conda install -c conda-forge basemap-data-hires`.",
     "output_type": "error",
     "traceback": [
      "\u001b[0;31m---------------------------------------------------------------------------\u001b[0m",
      "\u001b[0;31mFileNotFoundError\u001b[0m                         Traceback (most recent call last)",
      "\u001b[0;32m~/miniconda3/envs/pandana/lib/python3.6/site-packages/mpl_toolkits/basemap/__init__.py\u001b[0m in \u001b[0;36m_readboundarydata\u001b[0;34m(self, name, as_polygons)\u001b[0m\n\u001b[1;32m   1232\u001b[0m         \u001b[0;32mtry\u001b[0m\u001b[0;34m:\u001b[0m\u001b[0;34m\u001b[0m\u001b[0;34m\u001b[0m\u001b[0m\n\u001b[0;32m-> 1233\u001b[0;31m             \u001b[0mbdatfile\u001b[0m \u001b[0;34m=\u001b[0m \u001b[0mopen\u001b[0m\u001b[0;34m(\u001b[0m\u001b[0mos\u001b[0m\u001b[0;34m.\u001b[0m\u001b[0mpath\u001b[0m\u001b[0;34m.\u001b[0m\u001b[0mjoin\u001b[0m\u001b[0;34m(\u001b[0m\u001b[0mbasemap_datadir\u001b[0m\u001b[0;34m,\u001b[0m\u001b[0mname\u001b[0m\u001b[0;34m+\u001b[0m\u001b[0;34m'_'\u001b[0m\u001b[0;34m+\u001b[0m\u001b[0mself\u001b[0m\u001b[0;34m.\u001b[0m\u001b[0mresolution\u001b[0m\u001b[0;34m+\u001b[0m\u001b[0;34m'.dat'\u001b[0m\u001b[0;34m)\u001b[0m\u001b[0;34m,\u001b[0m\u001b[0;34m'rb'\u001b[0m\u001b[0;34m)\u001b[0m\u001b[0;34m\u001b[0m\u001b[0;34m\u001b[0m\u001b[0m\n\u001b[0m\u001b[1;32m   1234\u001b[0m             \u001b[0mbdatmetafile\u001b[0m \u001b[0;34m=\u001b[0m \u001b[0mopen\u001b[0m\u001b[0;34m(\u001b[0m\u001b[0mos\u001b[0m\u001b[0;34m.\u001b[0m\u001b[0mpath\u001b[0m\u001b[0;34m.\u001b[0m\u001b[0mjoin\u001b[0m\u001b[0;34m(\u001b[0m\u001b[0mbasemap_datadir\u001b[0m\u001b[0;34m,\u001b[0m\u001b[0mname\u001b[0m\u001b[0;34m+\u001b[0m\u001b[0;34m'meta_'\u001b[0m\u001b[0;34m+\u001b[0m\u001b[0mself\u001b[0m\u001b[0;34m.\u001b[0m\u001b[0mresolution\u001b[0m\u001b[0;34m+\u001b[0m\u001b[0;34m'.dat'\u001b[0m\u001b[0;34m)\u001b[0m\u001b[0;34m,\u001b[0m\u001b[0;34m'r'\u001b[0m\u001b[0;34m)\u001b[0m\u001b[0;34m\u001b[0m\u001b[0;34m\u001b[0m\u001b[0m\n",
      "\u001b[0;31mFileNotFoundError\u001b[0m: [Errno 2] No such file or directory: '/home/fillipe/miniconda3/envs/pandana/share/basemap/gshhs_h.dat'",
      "\nDuring handling of the above exception, another exception occurred:\n",
      "\u001b[0;31mOSError\u001b[0m                                   Traceback (most recent call last)",
      "\u001b[0;32m<ipython-input-8-56d53ef8d6d4>\u001b[0m in \u001b[0;36m<module>\u001b[0;34m\u001b[0m\n\u001b[1;32m      7\u001b[0m \u001b[0;34m\u001b[0m\u001b[0m\n\u001b[1;32m      8\u001b[0m net.plot(a[1], bbox=sf_bbox, \n\u001b[0;32m----> 9\u001b[0;31m          fig_kwargs=fig_kwargs, bmap_kwargs=bmap_kwargs, plot_kwargs=plot_kwargs)\n\u001b[0m",
      "\u001b[0;32m~/miniconda3/envs/pandana/lib/python3.6/site-packages/pandana/network.py\u001b[0m in \u001b[0;36mplot\u001b[0;34m(self, data, bbox, plot_type, fig_kwargs, bmap_kwargs, plot_kwargs, cbar_kwargs)\u001b[0m\n\u001b[1;32m    439\u001b[0m \u001b[0;34m\u001b[0m\u001b[0m\n\u001b[1;32m    440\u001b[0m         bmap = Basemap(\n\u001b[0;32m--> 441\u001b[0;31m             bbox[1], bbox[0], bbox[3], bbox[2], ax=ax, **bmap_kwargs)\n\u001b[0m\u001b[1;32m    442\u001b[0m         \u001b[0mbmap\u001b[0m\u001b[0;34m.\u001b[0m\u001b[0mdrawcoastlines\u001b[0m\u001b[0;34m(\u001b[0m\u001b[0;34m)\u001b[0m\u001b[0;34m\u001b[0m\u001b[0;34m\u001b[0m\u001b[0m\n\u001b[1;32m    443\u001b[0m         \u001b[0mbmap\u001b[0m\u001b[0;34m.\u001b[0m\u001b[0mdrawmapboundary\u001b[0m\u001b[0;34m(\u001b[0m\u001b[0;34m)\u001b[0m\u001b[0;34m\u001b[0m\u001b[0;34m\u001b[0m\u001b[0m\n",
      "\u001b[0;32m~/miniconda3/envs/pandana/lib/python3.6/site-packages/mpl_toolkits/basemap/__init__.py\u001b[0m in \u001b[0;36m__init__\u001b[0;34m(self, llcrnrlon, llcrnrlat, urcrnrlon, urcrnrlat, llcrnrx, llcrnry, urcrnrx, urcrnry, width, height, projection, resolution, area_thresh, rsphere, ellps, lat_ts, lat_1, lat_2, lat_0, lon_0, lon_1, lon_2, o_lon_p, o_lat_p, k_0, no_rot, suppress_ticks, satellite_height, boundinglat, fix_aspect, anchor, celestial, round, epsg, ax)\u001b[0m\n\u001b[1;32m   1120\u001b[0m         \u001b[0;32mif\u001b[0m \u001b[0mself\u001b[0m\u001b[0;34m.\u001b[0m\u001b[0mresolution\u001b[0m \u001b[0;32mis\u001b[0m \u001b[0;32mnot\u001b[0m \u001b[0;32mNone\u001b[0m\u001b[0;34m:\u001b[0m\u001b[0;34m\u001b[0m\u001b[0;34m\u001b[0m\u001b[0m\n\u001b[1;32m   1121\u001b[0m             \u001b[0mself\u001b[0m\u001b[0;34m.\u001b[0m\u001b[0mcoastsegs\u001b[0m\u001b[0;34m,\u001b[0m \u001b[0mself\u001b[0m\u001b[0;34m.\u001b[0m\u001b[0mcoastpolygontypes\u001b[0m \u001b[0;34m=\u001b[0m\u001b[0;31m\\\u001b[0m\u001b[0;34m\u001b[0m\u001b[0;34m\u001b[0m\u001b[0m\n\u001b[0;32m-> 1122\u001b[0;31m             \u001b[0mself\u001b[0m\u001b[0;34m.\u001b[0m\u001b[0m_readboundarydata\u001b[0m\u001b[0;34m(\u001b[0m\u001b[0;34m'gshhs'\u001b[0m\u001b[0;34m,\u001b[0m\u001b[0mas_polygons\u001b[0m\u001b[0;34m=\u001b[0m\u001b[0;32mTrue\u001b[0m\u001b[0;34m)\u001b[0m\u001b[0;34m\u001b[0m\u001b[0;34m\u001b[0m\u001b[0m\n\u001b[0m\u001b[1;32m   1123\u001b[0m             \u001b[0;31m# reformat for use in matplotlib.patches.Polygon.\u001b[0m\u001b[0;34m\u001b[0m\u001b[0;34m\u001b[0m\u001b[0;34m\u001b[0m\u001b[0m\n\u001b[1;32m   1124\u001b[0m             \u001b[0mself\u001b[0m\u001b[0;34m.\u001b[0m\u001b[0mcoastpolygons\u001b[0m \u001b[0;34m=\u001b[0m \u001b[0;34m[\u001b[0m\u001b[0;34m]\u001b[0m\u001b[0;34m\u001b[0m\u001b[0;34m\u001b[0m\u001b[0m\n",
      "\u001b[0;32m~/miniconda3/envs/pandana/lib/python3.6/site-packages/mpl_toolkits/basemap/__init__.py\u001b[0m in \u001b[0;36m_readboundarydata\u001b[0;34m(self, name, as_polygons)\u001b[0m\n\u001b[1;32m   1234\u001b[0m             \u001b[0mbdatmetafile\u001b[0m \u001b[0;34m=\u001b[0m \u001b[0mopen\u001b[0m\u001b[0;34m(\u001b[0m\u001b[0mos\u001b[0m\u001b[0;34m.\u001b[0m\u001b[0mpath\u001b[0m\u001b[0;34m.\u001b[0m\u001b[0mjoin\u001b[0m\u001b[0;34m(\u001b[0m\u001b[0mbasemap_datadir\u001b[0m\u001b[0;34m,\u001b[0m\u001b[0mname\u001b[0m\u001b[0;34m+\u001b[0m\u001b[0;34m'meta_'\u001b[0m\u001b[0;34m+\u001b[0m\u001b[0mself\u001b[0m\u001b[0;34m.\u001b[0m\u001b[0mresolution\u001b[0m\u001b[0;34m+\u001b[0m\u001b[0;34m'.dat'\u001b[0m\u001b[0;34m)\u001b[0m\u001b[0;34m,\u001b[0m\u001b[0;34m'r'\u001b[0m\u001b[0;34m)\u001b[0m\u001b[0;34m\u001b[0m\u001b[0;34m\u001b[0m\u001b[0m\n\u001b[1;32m   1235\u001b[0m         \u001b[0;32mexcept\u001b[0m\u001b[0;34m:\u001b[0m\u001b[0;34m\u001b[0m\u001b[0;34m\u001b[0m\u001b[0m\n\u001b[0;32m-> 1236\u001b[0;31m             \u001b[0;32mraise\u001b[0m \u001b[0mIOError\u001b[0m\u001b[0;34m(\u001b[0m\u001b[0mmsg\u001b[0m\u001b[0;34m)\u001b[0m\u001b[0;34m\u001b[0m\u001b[0;34m\u001b[0m\u001b[0m\n\u001b[0m\u001b[1;32m   1237\u001b[0m         \u001b[0mpolygons\u001b[0m \u001b[0;34m=\u001b[0m \u001b[0;34m[\u001b[0m\u001b[0;34m]\u001b[0m\u001b[0;34m\u001b[0m\u001b[0;34m\u001b[0m\u001b[0m\n\u001b[1;32m   1238\u001b[0m         \u001b[0mpolygon_types\u001b[0m \u001b[0;34m=\u001b[0m \u001b[0;34m[\u001b[0m\u001b[0;34m]\u001b[0m\u001b[0;34m\u001b[0m\u001b[0;34m\u001b[0m\u001b[0m\n",
      "\u001b[0;31mOSError\u001b[0m: Unable to open boundary dataset file. Only the 'crude' and  'low',\nresolution datasets are installed by default.\nIf you are requesting an, 'intermediate', 'high' or 'full'\nresolution dataset, you may need to download and install those\nfiles separately with\n`conda install -c conda-forge basemap-data-hires`."
     ]
    },
    {
     "data": {
      "image/png": "[encoded data removed]",
      "text/plain": [
       "<Figure size 2880x2160 with 1 Axes>"
      ]
     },
     "metadata": {
      "needs_background": "light"
     },
     "output_type": "display_data"
    }
   ],
   "source": [
    "fig_kwargs = {'figsize': [40, 30]}\n",
    "bmap_kwargs = {'suppress_ticks': False, 'resolution': 'h', 'epsg': '26943'}\n",
    "plot_kwargs = {'cmap': 'BrBG', 's': 8, 'edgecolor': 'none'}\n",
    "\n",
    "sf_tmp = [-8.800068,40.533581,-8.571186,40.68614]\n",
    "sf_bbox = [sf_tmp[1], sf_tmp[0], sf_tmp[3], sf_tmp[2]]\n",
    "\n",
    "net.plot(a[1], bbox=sf_bbox, \n",
    "         fig_kwargs=fig_kwargs, bmap_kwargs=bmap_kwargs, plot_kwargs=plot_kwargs)"
   ]
  },
  {
   "cell_type": "markdown",
   "metadata": {
    "slideshow": {
     "slide_type": "slide"
    }
   },
   "source": [
    "## Here's a map of the distance to the 5th nearest restaurant"
   ]
  },
  {
   "cell_type": "code",
   "execution_count": null,
   "metadata": {
    "slideshow": {
     "slide_type": "fragment"
    }
   },
   "outputs": [],
   "source": [
    "net.plot(a[0], bbox=sf_bbox, \n",
    "         fig_kwargs=fig_kwargs, bmap_kwargs=bmap_kwargs, plot_kwargs=plot_kwargs)"
   ]
  },
  {
   "cell_type": "markdown",
   "metadata": {
    "slideshow": {
     "slide_type": "slide"
    }
   },
   "source": [
    "## Here's a map of the distance to the 10th nearest restaurant"
   ]
  },
  {
   "cell_type": "code",
   "execution_count": null,
   "metadata": {
    "slideshow": {
     "slide_type": "fragment"
    }
   },
   "outputs": [],
   "source": [
    "net.plot(a[10], bbox=sf_bbox, \n",
    "         fig_kwargs=fig_kwargs, bmap_kwargs=bmap_kwargs, plot_kwargs=plot_kwargs)"
   ]
  },
  {
   "cell_type": "markdown",
   "metadata": {
    "slideshow": {
     "slide_type": "slide"
    }
   },
   "source": [
    "# A similar workflow is used to do general network aggregations"
   ]
  },
  {
   "cell_type": "markdown",
   "metadata": {
    "slideshow": {
     "slide_type": "slide"
    }
   },
   "source": [
    "## Relate the x-ys to nodes"
   ]
  },
  {
   "cell_type": "code",
   "execution_count": null,
   "metadata": {
    "slideshow": {
     "slide_type": "fragment"
    }
   },
   "outputs": [],
   "source": [
    "node_ids = net.get_node_ids(x, y)"
   ]
  },
  {
   "cell_type": "markdown",
   "metadata": {
    "slideshow": {
     "slide_type": "subslide"
    }
   },
   "source": [
    "## Assign the variable (in this case just location) to the network"
   ]
  },
  {
   "cell_type": "code",
   "execution_count": null,
   "metadata": {
    "slideshow": {
     "slide_type": "fragment"
    }
   },
   "outputs": [],
   "source": [
    "net.set(node_ids)"
   ]
  },
  {
   "cell_type": "markdown",
   "metadata": {
    "slideshow": {
     "slide_type": "subslide"
    }
   },
   "source": [
    "## This is it - run the queries!"
   ]
  },
  {
   "cell_type": "code",
   "execution_count": null,
   "metadata": {
    "slideshow": {
     "slide_type": "fragment"
    }
   },
   "outputs": [],
   "source": [
    "%time s = net.aggregate(500, type=\"sum\", decay=\"linear\")\n",
    "%time t = net.aggregate(1000, type=\"sum\", decay=\"linear\")\n",
    "%time u = net.aggregate(2000, type=\"sum\", decay=\"linear\")\n",
    "%time v = net.aggregate(3000, type=\"sum\", decay=\"linear\")\n",
    "%time w = net.aggregate(3000, type=\"count\", decay=\"flat\")"
   ]
  },
  {
   "cell_type": "markdown",
   "metadata": {
    "slideshow": {
     "slide_type": "slide"
    }
   },
   "source": [
    "## Here's a map of access to restaurants with a 500m radius"
   ]
  },
  {
   "cell_type": "code",
   "execution_count": null,
   "metadata": {
    "slideshow": {
     "slide_type": "fragment"
    }
   },
   "outputs": [],
   "source": [
    "net.plot(s, bbox=sf_bbox, \n",
    "         fig_kwargs=fig_kwargs, bmap_kwargs=bmap_kwargs, plot_kwargs=plot_kwargs)"
   ]
  },
  {
   "cell_type": "markdown",
   "metadata": {
    "slideshow": {
     "slide_type": "slide"
    }
   },
   "source": [
    "## Or 1000 meters"
   ]
  },
  {
   "cell_type": "code",
   "execution_count": null,
   "metadata": {
    "slideshow": {
     "slide_type": "fragment"
    }
   },
   "outputs": [],
   "source": [
    "net.plot(t, bbox=sf_bbox, \n",
    "         fig_kwargs=fig_kwargs, bmap_kwargs=bmap_kwargs, plot_kwargs=plot_kwargs)"
   ]
  },
  {
   "cell_type": "markdown",
   "metadata": {
    "slideshow": {
     "slide_type": "slide"
    }
   },
   "source": [
    "## Or 2000 meters radius"
   ]
  },
  {
   "cell_type": "code",
   "execution_count": null,
   "metadata": {
    "slideshow": {
     "slide_type": "fragment"
    }
   },
   "outputs": [],
   "source": [
    "net.plot(u, bbox=sf_bbox, \n",
    "         fig_kwargs=fig_kwargs, bmap_kwargs=bmap_kwargs, plot_kwargs=plot_kwargs)"
   ]
  },
  {
   "cell_type": "markdown",
   "metadata": {
    "slideshow": {
     "slide_type": "slide"
    }
   },
   "source": [
    "## Or 3000m radius"
   ]
  },
  {
   "cell_type": "code",
   "execution_count": null,
   "metadata": {
    "slideshow": {
     "slide_type": "fragment"
    }
   },
   "outputs": [],
   "source": [
    "net.plot(v, bbox=sf_bbox, \n",
    "         fig_kwargs=fig_kwargs, bmap_kwargs=bmap_kwargs, plot_kwargs=plot_kwargs)"
   ]
  },
  {
   "cell_type": "markdown",
   "metadata": {
    "slideshow": {
     "slide_type": "slide"
    }
   },
   "source": [
    "## Or the whole Bay Area region"
   ]
  },
  {
   "cell_type": "code",
   "execution_count": null,
   "metadata": {
    "slideshow": {
     "slide_type": "fragment"
    }
   },
   "outputs": [],
   "source": [
    "net.plot(w, bbox=bbox, \n",
    "         fig_kwargs=fig_kwargs, bmap_kwargs=bmap_kwargs, plot_kwargs=plot_kwargs)"
   ]
  },
  {
   "cell_type": "code",
   "execution_count": null,
   "metadata": {},
   "outputs": [],
   "source": []
  },
  {
   "cell_type": "code",
   "execution_count": null,
   "metadata": {},
   "outputs": [],
   "source": []
  }
 ],
 "metadata": {
  "kernelspec": {
   "display_name": "Python 3",
   "language": "python",
   "name": "python3"
  },
  "language_info": {
   "codemirror_mode": {
    "name": "ipython",
    "version": 3
   },
   "file_extension": ".py",
   "mimetype": "text/x-python",
   "name": "python",
   "nbconvert_exporter": "python",
   "pygments_lexer": "ipython3",
   "version": "3.6.7"
  }
 },
 "nbformat": 4,
 "nbformat_minor": 1
}
