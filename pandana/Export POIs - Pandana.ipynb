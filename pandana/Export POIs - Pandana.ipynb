{
 "cells": [
  {
   "cell_type": "code",
   "execution_count": 37,
   "metadata": {},
   "outputs": [],
   "source": [
    "# List of Imports\n",
    "%load_ext autoreload\n",
    "%autoreload 2\n",
    "import os\n",
    "import pandas as pd\n",
    "import numpy as np\n",
    "import geopandas as gpd\n",
    "import pandana as pdna\n",
    "from pandana.loaders import osm\n",
    "from shapely.geometry import Point\n",
    "import scipy.stats as stats\n",
    "import matplotlib.pyplot as plt\n",
    "\n",
    "%matplotlib inline\n",
    "\n",
    "import warnings\n",
    "warnings.filterwarnings('ignore')"
   ]
  },
  {
   "cell_type": "code",
   "execution_count": 13,
   "metadata": {},
   "outputs": [],
   "source": [
    "# Load data Polygons - Gargalo 1\n",
    "# polygons = gpd.read_file('./data/BGRI_2011/CONTINENTE/BGRI11_CONT.shp', dtype={'BGRI11': str})\n",
    "polygons = gpd.read_file('./data/poligon_portugal/Continente_dissolve.shp')\n",
    "\n",
    "# Add a column with all centroids\n",
    "polygons = polygons.to_crs({'init': 'epsg:4326'})\n",
    "# polygons['sCentroid'] = polygons.centroid"
   ]
  },
  {
   "cell_type": "code",
   "execution_count": 25,
   "metadata": {},
   "outputs": [],
   "source": [
    "# BBOX definition for PORTUGAL - Continental\n",
    "bbox = polygons.bounds.iloc[0].tolist()\n",
    "bbox = [bbox[1], bbox[0], bbox[3], bbox[2]]"
   ]
  },
  {
   "cell_type": "code",
   "execution_count": 29,
   "metadata": {},
   "outputs": [],
   "source": []
  },
  {
   "cell_type": "code",
   "execution_count": 54,
   "metadata": {},
   "outputs": [],
   "source": [
    "def poi_df_to_gdf(poi_df):\n",
    "    poi_df['geometry'] = poi_df.apply(lambda row: generate_points(row), axis=1)\n",
    "    poi_gdf = gpd.GeoDataFrame(poi_df)\n",
    "    return poi_gdf\n",
    "    \n",
    "def generate_points(row):\n",
    "    point = Point(row.lon, row.lat)\n",
    "    return point"
   ]
  },
  {
   "cell_type": "code",
   "execution_count": 80,
   "metadata": {},
   "outputs": [],
   "source": [
    "# Get POIS Based on tags\n",
    "poi_df = osm.node_query(*bbox, tags='shop')\n",
    "poi_gdf = poi_df_to_gdf(poi_df)"
   ]
  },
  {
   "cell_type": "code",
   "execution_count": 81,
   "metadata": {},
   "outputs": [
    {
     "data": {
      "text/plain": [
       "(24091, 360)"
      ]
     },
     "execution_count": 81,
     "metadata": {},
     "output_type": "execute_result"
    }
   ],
   "source": [
    "poi_gdf.shape"
   ]
  },
  {
   "cell_type": "code",
   "execution_count": 79,
   "metadata": {},
   "outputs": [],
   "source": [
    "# poi_gdf.plot(figsize=(15,15))"
   ]
  },
  {
   "cell_type": "code",
   "execution_count": 76,
   "metadata": {},
   "outputs": [],
   "source": [
    "# Save Poi as File\n",
    "poi_gdf.to_csv('./data/poi-shop.csv')"
   ]
  },
  {
   "cell_type": "code",
   "execution_count": null,
   "metadata": {},
   "outputs": [],
   "source": []
  }
 ],
 "metadata": {
  "kernelspec": {
   "display_name": "Python 3",
   "language": "python",
   "name": "python3"
  },
  "language_info": {
   "codemirror_mode": {
    "name": "ipython",
    "version": 3
   },
   "file_extension": ".py",
   "mimetype": "text/x-python",
   "name": "python",
   "nbconvert_exporter": "python",
   "pygments_lexer": "ipython3",
   "version": "3.6.7"
  }
 },
 "nbformat": 4,
 "nbformat_minor": 2
}
