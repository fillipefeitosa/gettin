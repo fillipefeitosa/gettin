{
 "cells": [
  {
   "cell_type": "code",
   "execution_count": 6,
   "metadata": {},
   "outputs": [],
   "source": [
    "import osrm\n",
    "import pandas as pd\n",
    "import geopandas as gpd\n",
    "\n",
    "list_coord = [[21.0566163803209, 42.004088575972],\n",
    "                   [21.3856064050746, 42.0094518118189],\n",
    "                   [20.9574645547597, 41.5286973392856],\n",
    "                   [21.1477394809847, 41.0691482795275],\n",
    "                   [21.5506463080973, 41.3532256406286]]\n",
    "list_id = ['name1', 'name2', 'name3', 'name4', 'name5']\n",
    "\n",
    "time_matrix, snapped_coords, test = osrm.table(list_coord,   ids_origin=list_id,output='dataframe')\n"
   ]
  },
  {
   "cell_type": "code",
   "execution_count": 8,
   "metadata": {},
   "outputs": [],
   "source": [
    "# Load data Polygons - Gargalo 1\n",
    "polygons = gpd.read_file('./data/BGRI_2011/CONTINENTE/BGRI11_CONT.shp', dtype={'BGRI11': str})\n",
    "\n",
    "# Add a column with all centroids\n",
    "polygons = polygons.to_crs({'init': 'epsg:4326'})"
   ]
  },
  {
   "cell_type": "code",
   "execution_count": 9,
   "metadata": {},
   "outputs": [],
   "source": [
    "# Load Schools\n",
    "schoolsNetworkTotal = gpd.read_file('./data/escolas_portugal_corrigido/gdf_escolas_publicas_1CEB.shp', dtype={'BGRI11':str})\n",
    "schoolsNetworkTotal = schoolsNetworkTotal.to_crs({'init': 'epsg:4326'})"
   ]
  },
  {
   "cell_type": "code",
   "execution_count": 11,
   "metadata": {},
   "outputs": [],
   "source": [
    "# Load Required Data\n",
    "data = pd.read_excel('./data/gdf_BGRI_V02_Jan.xlsx')\n",
    "data = data[data['Distancia_esc'].isna()]\n",
    "data.BGRI11 = data.BGRI11.apply(lambda x:str(x).zfill(11))"
   ]
  },
  {
   "cell_type": "code",
   "execution_count": 20,
   "metadata": {},
   "outputs": [],
   "source": [
    "data = pd.merge(data, polygons[['BGRI11', 'geometry']], how='left', left_on=[data.BGRI11], right_on=[polygons.BGRI11])"
   ]
  },
  {
   "cell_type": "code",
   "execution_count": 22,
   "metadata": {},
   "outputs": [],
   "source": [
    "data = gpd.GeoDataFrame(data)"
   ]
  },
  {
   "cell_type": "code",
   "execution_count": 28,
   "metadata": {},
   "outputs": [],
   "source": [
    "data.geometry = data.centroid"
   ]
  },
  {
   "cell_type": "code",
   "execution_count": 79,
   "metadata": {},
   "outputs": [],
   "source": [
    "sample = data.head(5)"
   ]
  },
  {
   "cell_type": "code",
   "execution_count": 89,
   "metadata": {},
   "outputs": [],
   "source": [
    "originsList = list(zip(data.geometry.x.to_list(),data.geometry.y.to_list()))\n",
    "originsIds = data.BGRI11_x.to_list()"
   ]
  },
  {
   "cell_type": "code",
   "execution_count": 90,
   "metadata": {},
   "outputs": [],
   "source": [
    "destinationsList = list(zip(schoolsNetworkTotal.geometry.x.to_list(),schoolsNetworkTotal.geometry.y.to_list()))\n",
    "destinationsIds = schoolsNetworkTotal.ESCOLA.to_list()"
   ]
  },
  {
   "cell_type": "code",
   "execution_count": 91,
   "metadata": {},
   "outputs": [
    {
     "ename": "HTTPError",
     "evalue": "HTTP Error 400: Bad Request",
     "output_type": "error",
     "traceback": [
      "\u001b[0;31m---------------------------------------------------------------------------\u001b[0m",
      "\u001b[0;31mHTTPError\u001b[0m                                 Traceback (most recent call last)",
      "\u001b[0;32m<ipython-input-91-c526cb120e53>\u001b[0m in \u001b[0;36m<module>\u001b[0;34m\u001b[0m\n\u001b[0;32m----> 1\u001b[0;31m \u001b[0mtime_matrix\u001b[0m\u001b[0;34m,\u001b[0m \u001b[0msnapped_coords\u001b[0m\u001b[0;34m,\u001b[0m \u001b[0mtest\u001b[0m \u001b[0;34m=\u001b[0m \u001b[0mosrm\u001b[0m\u001b[0;34m.\u001b[0m\u001b[0mtable\u001b[0m\u001b[0;34m(\u001b[0m\u001b[0moriginsList\u001b[0m\u001b[0;34m,\u001b[0m\u001b[0mcoords_dest\u001b[0m\u001b[0;34m=\u001b[0m\u001b[0mdestinationsList\u001b[0m\u001b[0;34m,\u001b[0m\u001b[0mids_origin\u001b[0m\u001b[0;34m=\u001b[0m\u001b[0moriginsIds\u001b[0m\u001b[0;34m,\u001b[0m\u001b[0mids_dest\u001b[0m\u001b[0;34m=\u001b[0m\u001b[0mdestinationsIds\u001b[0m\u001b[0;34m,\u001b[0m\u001b[0moutput\u001b[0m\u001b[0;34m=\u001b[0m\u001b[0;34m'pandas'\u001b[0m\u001b[0;34m)\u001b[0m\u001b[0;34m\u001b[0m\u001b[0;34m\u001b[0m\u001b[0m\n\u001b[0m",
      "\u001b[0;32m~/anaconda3/envs/pandana/lib/python3.6/site-packages/osrm/core.py\u001b[0m in \u001b[0;36mtable\u001b[0;34m(coords_src, coords_dest, ids_origin, ids_dest, output, minutes, annotations, url_config, send_as_polyline)\u001b[0m\n\u001b[1;32m    346\u001b[0m     \u001b[0;32mif\u001b[0m \u001b[0murl_config\u001b[0m\u001b[0;34m.\u001b[0m\u001b[0mauth\u001b[0m\u001b[0;34m:\u001b[0m\u001b[0;34m\u001b[0m\u001b[0;34m\u001b[0m\u001b[0m\n\u001b[1;32m    347\u001b[0m         \u001b[0mreq\u001b[0m\u001b[0;34m.\u001b[0m\u001b[0madd_header\u001b[0m\u001b[0;34m(\u001b[0m\u001b[0;34m\"Authorization\"\u001b[0m\u001b[0;34m,\u001b[0m \u001b[0murl_config\u001b[0m\u001b[0;34m.\u001b[0m\u001b[0mauth\u001b[0m\u001b[0;34m)\u001b[0m\u001b[0;34m\u001b[0m\u001b[0;34m\u001b[0m\u001b[0m\n\u001b[0;32m--> 348\u001b[0;31m     \u001b[0mrep\u001b[0m \u001b[0;34m=\u001b[0m \u001b[0murlopen\u001b[0m\u001b[0;34m(\u001b[0m\u001b[0mreq\u001b[0m\u001b[0;34m)\u001b[0m\u001b[0;34m\u001b[0m\u001b[0;34m\u001b[0m\u001b[0m\n\u001b[0m\u001b[1;32m    349\u001b[0m     \u001b[0mparsed_json\u001b[0m \u001b[0;34m=\u001b[0m \u001b[0mjson\u001b[0m\u001b[0;34m.\u001b[0m\u001b[0mloads\u001b[0m\u001b[0;34m(\u001b[0m\u001b[0mrep\u001b[0m\u001b[0;34m.\u001b[0m\u001b[0mread\u001b[0m\u001b[0;34m(\u001b[0m\u001b[0;34m)\u001b[0m\u001b[0;34m.\u001b[0m\u001b[0mdecode\u001b[0m\u001b[0;34m(\u001b[0m\u001b[0;34m'utf-8'\u001b[0m\u001b[0;34m)\u001b[0m\u001b[0;34m)\u001b[0m\u001b[0;34m\u001b[0m\u001b[0;34m\u001b[0m\u001b[0m\n\u001b[1;32m    350\u001b[0m \u001b[0;34m\u001b[0m\u001b[0m\n",
      "\u001b[0;32m~/anaconda3/envs/pandana/lib/python3.6/urllib/request.py\u001b[0m in \u001b[0;36murlopen\u001b[0;34m(url, data, timeout, cafile, capath, cadefault, context)\u001b[0m\n\u001b[1;32m    221\u001b[0m     \u001b[0;32melse\u001b[0m\u001b[0;34m:\u001b[0m\u001b[0;34m\u001b[0m\u001b[0;34m\u001b[0m\u001b[0m\n\u001b[1;32m    222\u001b[0m         \u001b[0mopener\u001b[0m \u001b[0;34m=\u001b[0m \u001b[0m_opener\u001b[0m\u001b[0;34m\u001b[0m\u001b[0;34m\u001b[0m\u001b[0m\n\u001b[0;32m--> 223\u001b[0;31m     \u001b[0;32mreturn\u001b[0m \u001b[0mopener\u001b[0m\u001b[0;34m.\u001b[0m\u001b[0mopen\u001b[0m\u001b[0;34m(\u001b[0m\u001b[0murl\u001b[0m\u001b[0;34m,\u001b[0m \u001b[0mdata\u001b[0m\u001b[0;34m,\u001b[0m \u001b[0mtimeout\u001b[0m\u001b[0;34m)\u001b[0m\u001b[0;34m\u001b[0m\u001b[0;34m\u001b[0m\u001b[0m\n\u001b[0m\u001b[1;32m    224\u001b[0m \u001b[0;34m\u001b[0m\u001b[0m\n\u001b[1;32m    225\u001b[0m \u001b[0;32mdef\u001b[0m \u001b[0minstall_opener\u001b[0m\u001b[0;34m(\u001b[0m\u001b[0mopener\u001b[0m\u001b[0;34m)\u001b[0m\u001b[0;34m:\u001b[0m\u001b[0;34m\u001b[0m\u001b[0;34m\u001b[0m\u001b[0m\n",
      "\u001b[0;32m~/anaconda3/envs/pandana/lib/python3.6/urllib/request.py\u001b[0m in \u001b[0;36mopen\u001b[0;34m(self, fullurl, data, timeout)\u001b[0m\n\u001b[1;32m    530\u001b[0m         \u001b[0;32mfor\u001b[0m \u001b[0mprocessor\u001b[0m \u001b[0;32min\u001b[0m \u001b[0mself\u001b[0m\u001b[0;34m.\u001b[0m\u001b[0mprocess_response\u001b[0m\u001b[0;34m.\u001b[0m\u001b[0mget\u001b[0m\u001b[0;34m(\u001b[0m\u001b[0mprotocol\u001b[0m\u001b[0;34m,\u001b[0m \u001b[0;34m[\u001b[0m\u001b[0;34m]\u001b[0m\u001b[0;34m)\u001b[0m\u001b[0;34m:\u001b[0m\u001b[0;34m\u001b[0m\u001b[0;34m\u001b[0m\u001b[0m\n\u001b[1;32m    531\u001b[0m             \u001b[0mmeth\u001b[0m \u001b[0;34m=\u001b[0m \u001b[0mgetattr\u001b[0m\u001b[0;34m(\u001b[0m\u001b[0mprocessor\u001b[0m\u001b[0;34m,\u001b[0m \u001b[0mmeth_name\u001b[0m\u001b[0;34m)\u001b[0m\u001b[0;34m\u001b[0m\u001b[0;34m\u001b[0m\u001b[0m\n\u001b[0;32m--> 532\u001b[0;31m             \u001b[0mresponse\u001b[0m \u001b[0;34m=\u001b[0m \u001b[0mmeth\u001b[0m\u001b[0;34m(\u001b[0m\u001b[0mreq\u001b[0m\u001b[0;34m,\u001b[0m \u001b[0mresponse\u001b[0m\u001b[0;34m)\u001b[0m\u001b[0;34m\u001b[0m\u001b[0;34m\u001b[0m\u001b[0m\n\u001b[0m\u001b[1;32m    533\u001b[0m \u001b[0;34m\u001b[0m\u001b[0m\n\u001b[1;32m    534\u001b[0m         \u001b[0;32mreturn\u001b[0m \u001b[0mresponse\u001b[0m\u001b[0;34m\u001b[0m\u001b[0;34m\u001b[0m\u001b[0m\n",
      "\u001b[0;32m~/anaconda3/envs/pandana/lib/python3.6/urllib/request.py\u001b[0m in \u001b[0;36mhttp_response\u001b[0;34m(self, request, response)\u001b[0m\n\u001b[1;32m    640\u001b[0m         \u001b[0;32mif\u001b[0m \u001b[0;32mnot\u001b[0m \u001b[0;34m(\u001b[0m\u001b[0;36m200\u001b[0m \u001b[0;34m<=\u001b[0m \u001b[0mcode\u001b[0m \u001b[0;34m<\u001b[0m \u001b[0;36m300\u001b[0m\u001b[0;34m)\u001b[0m\u001b[0;34m:\u001b[0m\u001b[0;34m\u001b[0m\u001b[0;34m\u001b[0m\u001b[0m\n\u001b[1;32m    641\u001b[0m             response = self.parent.error(\n\u001b[0;32m--> 642\u001b[0;31m                 'http', request, response, code, msg, hdrs)\n\u001b[0m\u001b[1;32m    643\u001b[0m \u001b[0;34m\u001b[0m\u001b[0m\n\u001b[1;32m    644\u001b[0m         \u001b[0;32mreturn\u001b[0m \u001b[0mresponse\u001b[0m\u001b[0;34m\u001b[0m\u001b[0;34m\u001b[0m\u001b[0m\n",
      "\u001b[0;32m~/anaconda3/envs/pandana/lib/python3.6/urllib/request.py\u001b[0m in \u001b[0;36merror\u001b[0;34m(self, proto, *args)\u001b[0m\n\u001b[1;32m    568\u001b[0m         \u001b[0;32mif\u001b[0m \u001b[0mhttp_err\u001b[0m\u001b[0;34m:\u001b[0m\u001b[0;34m\u001b[0m\u001b[0;34m\u001b[0m\u001b[0m\n\u001b[1;32m    569\u001b[0m             \u001b[0margs\u001b[0m \u001b[0;34m=\u001b[0m \u001b[0;34m(\u001b[0m\u001b[0mdict\u001b[0m\u001b[0;34m,\u001b[0m \u001b[0;34m'default'\u001b[0m\u001b[0;34m,\u001b[0m \u001b[0;34m'http_error_default'\u001b[0m\u001b[0;34m)\u001b[0m \u001b[0;34m+\u001b[0m \u001b[0morig_args\u001b[0m\u001b[0;34m\u001b[0m\u001b[0;34m\u001b[0m\u001b[0m\n\u001b[0;32m--> 570\u001b[0;31m             \u001b[0;32mreturn\u001b[0m \u001b[0mself\u001b[0m\u001b[0;34m.\u001b[0m\u001b[0m_call_chain\u001b[0m\u001b[0;34m(\u001b[0m\u001b[0;34m*\u001b[0m\u001b[0margs\u001b[0m\u001b[0;34m)\u001b[0m\u001b[0;34m\u001b[0m\u001b[0;34m\u001b[0m\u001b[0m\n\u001b[0m\u001b[1;32m    571\u001b[0m \u001b[0;34m\u001b[0m\u001b[0m\n\u001b[1;32m    572\u001b[0m \u001b[0;31m# XXX probably also want an abstract factory that knows when it makes\u001b[0m\u001b[0;34m\u001b[0m\u001b[0;34m\u001b[0m\u001b[0;34m\u001b[0m\u001b[0m\n",
      "\u001b[0;32m~/anaconda3/envs/pandana/lib/python3.6/urllib/request.py\u001b[0m in \u001b[0;36m_call_chain\u001b[0;34m(self, chain, kind, meth_name, *args)\u001b[0m\n\u001b[1;32m    502\u001b[0m         \u001b[0;32mfor\u001b[0m \u001b[0mhandler\u001b[0m \u001b[0;32min\u001b[0m \u001b[0mhandlers\u001b[0m\u001b[0;34m:\u001b[0m\u001b[0;34m\u001b[0m\u001b[0;34m\u001b[0m\u001b[0m\n\u001b[1;32m    503\u001b[0m             \u001b[0mfunc\u001b[0m \u001b[0;34m=\u001b[0m \u001b[0mgetattr\u001b[0m\u001b[0;34m(\u001b[0m\u001b[0mhandler\u001b[0m\u001b[0;34m,\u001b[0m \u001b[0mmeth_name\u001b[0m\u001b[0;34m)\u001b[0m\u001b[0;34m\u001b[0m\u001b[0;34m\u001b[0m\u001b[0m\n\u001b[0;32m--> 504\u001b[0;31m             \u001b[0mresult\u001b[0m \u001b[0;34m=\u001b[0m \u001b[0mfunc\u001b[0m\u001b[0;34m(\u001b[0m\u001b[0;34m*\u001b[0m\u001b[0margs\u001b[0m\u001b[0;34m)\u001b[0m\u001b[0;34m\u001b[0m\u001b[0;34m\u001b[0m\u001b[0m\n\u001b[0m\u001b[1;32m    505\u001b[0m             \u001b[0;32mif\u001b[0m \u001b[0mresult\u001b[0m \u001b[0;32mis\u001b[0m \u001b[0;32mnot\u001b[0m \u001b[0;32mNone\u001b[0m\u001b[0;34m:\u001b[0m\u001b[0;34m\u001b[0m\u001b[0;34m\u001b[0m\u001b[0m\n\u001b[1;32m    506\u001b[0m                 \u001b[0;32mreturn\u001b[0m \u001b[0mresult\u001b[0m\u001b[0;34m\u001b[0m\u001b[0;34m\u001b[0m\u001b[0m\n",
      "\u001b[0;32m~/anaconda3/envs/pandana/lib/python3.6/urllib/request.py\u001b[0m in \u001b[0;36mhttp_error_default\u001b[0;34m(self, req, fp, code, msg, hdrs)\u001b[0m\n\u001b[1;32m    648\u001b[0m \u001b[0;32mclass\u001b[0m \u001b[0mHTTPDefaultErrorHandler\u001b[0m\u001b[0;34m(\u001b[0m\u001b[0mBaseHandler\u001b[0m\u001b[0;34m)\u001b[0m\u001b[0;34m:\u001b[0m\u001b[0;34m\u001b[0m\u001b[0;34m\u001b[0m\u001b[0m\n\u001b[1;32m    649\u001b[0m     \u001b[0;32mdef\u001b[0m \u001b[0mhttp_error_default\u001b[0m\u001b[0;34m(\u001b[0m\u001b[0mself\u001b[0m\u001b[0;34m,\u001b[0m \u001b[0mreq\u001b[0m\u001b[0;34m,\u001b[0m \u001b[0mfp\u001b[0m\u001b[0;34m,\u001b[0m \u001b[0mcode\u001b[0m\u001b[0;34m,\u001b[0m \u001b[0mmsg\u001b[0m\u001b[0;34m,\u001b[0m \u001b[0mhdrs\u001b[0m\u001b[0;34m)\u001b[0m\u001b[0;34m:\u001b[0m\u001b[0;34m\u001b[0m\u001b[0;34m\u001b[0m\u001b[0m\n\u001b[0;32m--> 650\u001b[0;31m         \u001b[0;32mraise\u001b[0m \u001b[0mHTTPError\u001b[0m\u001b[0;34m(\u001b[0m\u001b[0mreq\u001b[0m\u001b[0;34m.\u001b[0m\u001b[0mfull_url\u001b[0m\u001b[0;34m,\u001b[0m \u001b[0mcode\u001b[0m\u001b[0;34m,\u001b[0m \u001b[0mmsg\u001b[0m\u001b[0;34m,\u001b[0m \u001b[0mhdrs\u001b[0m\u001b[0;34m,\u001b[0m \u001b[0mfp\u001b[0m\u001b[0;34m)\u001b[0m\u001b[0;34m\u001b[0m\u001b[0;34m\u001b[0m\u001b[0m\n\u001b[0m\u001b[1;32m    651\u001b[0m \u001b[0;34m\u001b[0m\u001b[0m\n\u001b[1;32m    652\u001b[0m \u001b[0;32mclass\u001b[0m \u001b[0mHTTPRedirectHandler\u001b[0m\u001b[0;34m(\u001b[0m\u001b[0mBaseHandler\u001b[0m\u001b[0;34m)\u001b[0m\u001b[0;34m:\u001b[0m\u001b[0;34m\u001b[0m\u001b[0;34m\u001b[0m\u001b[0m\n",
      "\u001b[0;31mHTTPError\u001b[0m: HTTP Error 400: Bad Request"
     ]
    }
   ],
   "source": [
    "time_matrix, snapped_coords, test = osrm.table(originsList,coords_dest=destinationsList,ids_origin=originsIds,ids_dest=destinationsIds,output='pandas')\n"
   ]
  },
  {
   "cell_type": "code",
   "execution_count": 111,
   "metadata": {},
   "outputs": [],
   "source": [
    "size=100"
   ]
  },
  {
   "cell_type": "code",
   "execution_count": 137,
   "metadata": {},
   "outputs": [],
   "source": [
    "sample = data.head(2)\n",
    "originsList = list(zip(sample.geometry.x.to_list(),sample.geometry.y.to_list()))\n",
    "originsIds = sample.BGRI11_x.to_list()"
   ]
  },
  {
   "cell_type": "code",
   "execution_count": 138,
   "metadata": {},
   "outputs": [],
   "source": [
    "sampleSchools = schoolsNetworkTotal\n",
    "destinationsList = list(zip(sampleSchools.geometry.x.to_list(),sampleSchools.geometry.y.to_list()))\n",
    "destinationsIds = sampleSchools.ESCOLA.to_list()"
   ]
  },
  {
   "cell_type": "code",
   "execution_count": 139,
   "metadata": {},
   "outputs": [],
   "source": [
    "time_matrix, snapped_coords, test = osrm.table(originsList,coords_dest=destinationsList,ids_origin=originsIds,ids_dest=destinationsIds,annotations='distance',output='pandas')\n"
   ]
  },
  {
   "cell_type": "code",
   "execution_count": 140,
   "metadata": {},
   "outputs": [
    {
     "data": {
      "text/html": [
       "<div>\n",
       "<style scoped>\n",
       "    .dataframe tbody tr th:only-of-type {\n",
       "        vertical-align: middle;\n",
       "    }\n",
       "\n",
       "    .dataframe tbody tr th {\n",
       "        vertical-align: top;\n",
       "    }\n",
       "\n",
       "    .dataframe thead th {\n",
       "        text-align: right;\n",
       "    }\n",
       "</style>\n",
       "<table border=\"1\" class=\"dataframe\">\n",
       "  <thead>\n",
       "    <tr style=\"text-align: right;\">\n",
       "      <th></th>\n",
       "      <th>Escola Básica de Melgaço</th>\n",
       "      <th>Escola Básica José Pinheiro Gonçalves, Monção</th>\n",
       "      <th>Escola Básica de Pomares, Melgaço</th>\n",
       "      <th>Escola Básica de Estrada, Monção</th>\n",
       "      <th>Escola Básica de Friestas, Valença</th>\n",
       "      <th>Escola Básica de Pedreira, Valença</th>\n",
       "      <th>Escola Básica de Valença</th>\n",
       "      <th>Escola Básica de Vale do Mouro, Tangil, Monção</th>\n",
       "      <th>Escola Básica de Pias, Monção</th>\n",
       "      <th>Escola Básica de Vilar de Lamas, Arão, Valença</th>\n",
       "      <th>...</th>\n",
       "      <th>Escola Básica n.º 1 de Olhão</th>\n",
       "      <th>Escola Básica n.º 4 de Faro</th>\n",
       "      <th>Escola Básica D. Afonso III, Faro</th>\n",
       "      <th>Escola Básica de Alto de Rodes, Faro</th>\n",
       "      <th>Escola Básica do Carmo, Faro</th>\n",
       "      <th>Escola Básica de S. Luís, Faro</th>\n",
       "      <th>Escola Básica do Bom João, Faro</th>\n",
       "      <th>Escola Básica n.º 2 de Sagres, Vila do Bispo</th>\n",
       "      <th>Escola Básica de Ilha do Ancão, Faro</th>\n",
       "      <th>Escola Básica de Ilha da Culatra, Faro</th>\n",
       "    </tr>\n",
       "  </thead>\n",
       "  <tbody>\n",
       "    <tr>\n",
       "      <th>04070200103</th>\n",
       "      <td>262444.0</td>\n",
       "      <td>241488.2</td>\n",
       "      <td>260554.6</td>\n",
       "      <td>241609.8</td>\n",
       "      <td>231254.6</td>\n",
       "      <td>227344.4</td>\n",
       "      <td>224159.4</td>\n",
       "      <td>241476.5</td>\n",
       "      <td>236541.6</td>\n",
       "      <td>222622.7</td>\n",
       "      <td>...</td>\n",
       "      <td>696496.2</td>\n",
       "      <td>689205.3</td>\n",
       "      <td>688070.3</td>\n",
       "      <td>688630.8</td>\n",
       "      <td>688535.0</td>\n",
       "      <td>689611.4</td>\n",
       "      <td>690105.8</td>\n",
       "      <td>729738.3</td>\n",
       "      <td>691935.6</td>\n",
       "      <td>697417.3</td>\n",
       "    </tr>\n",
       "    <tr>\n",
       "      <th>04070200108</th>\n",
       "      <td>259361.6</td>\n",
       "      <td>238405.7</td>\n",
       "      <td>257472.2</td>\n",
       "      <td>238527.4</td>\n",
       "      <td>228172.1</td>\n",
       "      <td>224261.9</td>\n",
       "      <td>221077.0</td>\n",
       "      <td>238394.0</td>\n",
       "      <td>233459.2</td>\n",
       "      <td>219540.2</td>\n",
       "      <td>...</td>\n",
       "      <td>693413.8</td>\n",
       "      <td>686122.8</td>\n",
       "      <td>684987.8</td>\n",
       "      <td>685548.3</td>\n",
       "      <td>685452.6</td>\n",
       "      <td>686529.0</td>\n",
       "      <td>687023.3</td>\n",
       "      <td>726655.8</td>\n",
       "      <td>688853.1</td>\n",
       "      <td>694334.8</td>\n",
       "    </tr>\n",
       "  </tbody>\n",
       "</table>\n",
       "<p>2 rows × 3426 columns</p>\n",
       "</div>"
      ],
      "text/plain": [
       "             Escola Básica de Melgaço  \\\n",
       "04070200103                  262444.0   \n",
       "04070200108                  259361.6   \n",
       "\n",
       "             Escola Básica José Pinheiro Gonçalves, Monção  \\\n",
       "04070200103                                       241488.2   \n",
       "04070200108                                       238405.7   \n",
       "\n",
       "             Escola Básica de Pomares, Melgaço  \\\n",
       "04070200103                           260554.6   \n",
       "04070200108                           257472.2   \n",
       "\n",
       "             Escola Básica de Estrada, Monção  \\\n",
       "04070200103                          241609.8   \n",
       "04070200108                          238527.4   \n",
       "\n",
       "             Escola Básica de Friestas, Valença  \\\n",
       "04070200103                            231254.6   \n",
       "04070200108                            228172.1   \n",
       "\n",
       "             Escola Básica de Pedreira, Valença  Escola Básica de Valença  \\\n",
       "04070200103                            227344.4                  224159.4   \n",
       "04070200108                            224261.9                  221077.0   \n",
       "\n",
       "             Escola Básica de Vale do Mouro, Tangil, Monção  \\\n",
       "04070200103                                        241476.5   \n",
       "04070200108                                        238394.0   \n",
       "\n",
       "             Escola Básica de Pias, Monção  \\\n",
       "04070200103                       236541.6   \n",
       "04070200108                       233459.2   \n",
       "\n",
       "             Escola Básica de Vilar de Lamas, Arão, Valença  ...  \\\n",
       "04070200103                                        222622.7  ...   \n",
       "04070200108                                        219540.2  ...   \n",
       "\n",
       "             Escola Básica n.º 1 de Olhão  Escola Básica n.º 4 de Faro  \\\n",
       "04070200103                      696496.2                     689205.3   \n",
       "04070200108                      693413.8                     686122.8   \n",
       "\n",
       "             Escola Básica D. Afonso III, Faro  \\\n",
       "04070200103                           688070.3   \n",
       "04070200108                           684987.8   \n",
       "\n",
       "             Escola Básica de Alto de Rodes, Faro  \\\n",
       "04070200103                              688630.8   \n",
       "04070200108                              685548.3   \n",
       "\n",
       "             Escola Básica do Carmo, Faro  Escola Básica de S. Luís, Faro  \\\n",
       "04070200103                      688535.0                        689611.4   \n",
       "04070200108                      685452.6                        686529.0   \n",
       "\n",
       "             Escola Básica do Bom João, Faro  \\\n",
       "04070200103                         690105.8   \n",
       "04070200108                         687023.3   \n",
       "\n",
       "             Escola Básica n.º 2 de Sagres, Vila do Bispo  \\\n",
       "04070200103                                      729738.3   \n",
       "04070200108                                      726655.8   \n",
       "\n",
       "             Escola Básica de Ilha do Ancão, Faro  \\\n",
       "04070200103                              691935.6   \n",
       "04070200108                              688853.1   \n",
       "\n",
       "             Escola Básica de Ilha da Culatra, Faro  \n",
       "04070200103                                697417.3  \n",
       "04070200108                                694334.8  \n",
       "\n",
       "[2 rows x 3426 columns]"
      ]
     },
     "execution_count": 140,
     "metadata": {},
     "output_type": "execute_result"
    }
   ],
   "source": [
    "time_matrix"
   ]
  },
  {
   "cell_type": "code",
   "execution_count": null,
   "metadata": {},
   "outputs": [],
   "source": []
  }
 ],
 "metadata": {
  "kernelspec": {
   "display_name": "Python 3",
   "language": "python",
   "name": "python3"
  },
  "language_info": {
   "codemirror_mode": {
    "name": "ipython",
    "version": 3
   },
   "file_extension": ".py",
   "mimetype": "text/x-python",
   "name": "python",
   "nbconvert_exporter": "python",
   "pygments_lexer": "ipython3",
   "version": "3.6.7"
  }
 },
 "nbformat": 4,
 "nbformat_minor": 2
}
