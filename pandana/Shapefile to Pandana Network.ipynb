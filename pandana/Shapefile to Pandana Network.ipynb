{
 "cells": [
  {
   "cell_type": "code",
   "execution_count": 14,
   "metadata": {},
   "outputs": [],
   "source": [
    "# List of imports\n",
    "import geopandas as gpd\n",
    "import pandas as pd\n",
    "import os\n",
    "import pandana as pnd\n",
    "\n",
    "import matplotlib.pyplot as plt"
   ]
  },
  {
   "cell_type": "code",
   "execution_count": 15,
   "metadata": {},
   "outputs": [],
   "source": [
    "# This GIST provides a template for conveting shapefiles into pandana networks. \n",
    "# Under a MIT Open Source License. https://opensource.org/licenses/MIT\n",
    "# Researchers cite as Wasserman, D. Geopandas to Pandana Network Converter. (2019) GitHub repository, https://gist.github.com/d-wasserman/2d50671b37ee46b088e155293399a90c\n",
    "\n",
    "def get_nodes_and_edges(shp_file,rounding=5):\n",
    "    \"\"\"Use geopandas to read line shapefile and compile all paths and nodes in a line file based on a rounding tolerance.\n",
    "    shp_file:path to polyline file with end to end connectivity\n",
    "    rounding: tolerance parameter for coordinate precision\"\"\"\n",
    "    edges = gpd.read_file(shp_file)\n",
    "    if(edges.crs['init'] != 'epsg:4326'):\n",
    "        edges = edges.to_crs({'init': 'epsg:4326'})\n",
    "    edges[\"from_x\"]=edges[\"geometry\"].apply(lambda x:round(x.coords[0][0],rounding))\n",
    "    edges[\"from_y\"]=edges[\"geometry\"].apply(lambda x:round(x.coords[0][1],rounding))\n",
    "    edges[\"to_x\"]=edges[\"geometry\"].apply(lambda x:round(x.coords[-1][0],rounding))\n",
    "    edges[\"to_y\"]=edges[\"geometry\"].apply(lambda x:round(x.coords[-1][1],rounding))\n",
    "    nodes_from = edges[[\"from_x\",\"from_y\"]].rename(index=str,columns={\"from_x\":\"x\",\"from_y\":\"y\"})\n",
    "    nodes_to = edges[[\"to_x\",\"to_y\"]].rename(index=str,columns={\"to_x\":\"x\",\"to_y\":\"y\"})\n",
    "    nodes = pd.concat([nodes_from,nodes_to],axis=0)\n",
    "    nodes[\"xy\"] = list(zip(nodes[\"x\"], nodes[\"y\"]))\n",
    "    nodes = pd.DataFrame(nodes[\"xy\"].unique(),columns=[\"xy\"])\n",
    "    nodes[\"x\"] = nodes[\"xy\"].apply(lambda x: x[0])\n",
    "    nodes[\"y\"] = nodes[\"xy\"].apply(lambda x: x[1])\n",
    "    nodes = nodes[[\"x\",\"y\"]].copy()\n",
    "    return nodes , edges\n",
    "\n",
    "def generate_pandana_store_from_shp(hdf5_path,shp_file,weights=[\"weight\"],oneway=None,overwrite_existing=True,rounding=6):\n",
    "    \"\"\"Generate a pandana ready HDF5 store using geopandas (gdal required) and pandas. Python 3.5.\n",
    "    hdf5_path(str): output path of HDF5 store holding two dataframes [\"nodes\",\"edges\"]\n",
    "    shp_file(str): input file that geopandas reads to make a graph based on end to end connectivity\n",
    "    weights(list): weights columns transfered to the store edges. Name is maintained.\n",
    "    oneway(str): series name where oneway streets (edges) are denoted with a 1, 0 denotes twoway. None, assumes\n",
    "    twoway edge.\n",
    "    overwrite_existing(bool): if true, the existing store is overwritten.\n",
    "    rounding(int): the number of digits to round line coordinates to get unique nodes (precision)\n",
    "    returns hdf5_path(str)\"\"\"\n",
    "    if os.path.exists(hdf5_path):\n",
    "        if overwrite_existing:\n",
    "            print(\"Overwriting existing store...\")\n",
    "            os.remove(hdf5_path)\n",
    "        else:\n",
    "            print(\"Existing store at path: {0}\".format(hdf5_path))\n",
    "            return hdf5_path\n",
    "    all_edges_twoway = True\n",
    "    oneway_field_list = []\n",
    "    if oneway is not None:\n",
    "        all_edges_twoway = False\n",
    "        oneway_field_list.append(oneway)\n",
    "    print(\"Reading shapefile with geopandas: {0}...\".format(shp_file))\n",
    "    nodes, edges =get_nodes_and_edges(shp_file,rounding)\n",
    "    h5store = pd.HDFStore(hdf5_path)\n",
    "    print(\"Establishing node store...\")\n",
    "    df_nodes = nodes\n",
    "    df_nodes[\"id\"] = df_nodes.index.values\n",
    "    df_nodes.index.rename(\"id\",True)\n",
    "    h5store['nodes'] = df_nodes\n",
    "    edge_cnt = len(edges)\n",
    "    print(\"Establishing edge store for {0} edges...\".format(edge_cnt))\n",
    "    df_edges= edges[['from_x','from_y','to_x','to_y'] + weights + oneway_field_list].copy()\n",
    "    print(\"Transferring nodeids to edges...\")\n",
    "    df_edges=pd.merge(df_edges, df_nodes, how='left', left_on=['from_x','from_y'], right_on=['x','y'])\n",
    "    df_edges=pd.merge(df_edges, df_nodes, how='left', left_on=['to_x','to_y'], right_on=['x','y'], suffixes=('_from', '_to'))\n",
    "    #nodeids are duplicated on from the joined nodes, joined first to from, suffix to on next set\n",
    "    df_edges.rename(columns= {'id_from': 'from', 'id_to': 'to'}, inplace=True)\n",
    "    df_edges=df_edges[['from','to'] + weights + oneway_field_list]\n",
    "    if all_edges_twoway:\n",
    "        print(\"\"\"Note: Edges are duplicated in this step, do not use the 'twoway' setting in the pandana network if using this \n",
    "             function\"\"\")\n",
    "        twoway_edges = df_edges.copy()\n",
    "        twoway_to = twoway_edges[\"to\"].copy()\n",
    "        twoway_edges[\"to\"] = twoway_edges[\"from\"]\n",
    "        twoway_edges[\"from\"] = twoway_to\n",
    "        df_edges = pd.concat([df_edges,twoway_edges])\n",
    "    else:\n",
    "        print(\"Setting up edges based on oneway field...\")\n",
    "        twoway_edges = df_edges[df_edges[oneway]==0].copy()\n",
    "        twoway_to = twoway_edges[\"to\"].copy()\n",
    "        twoway_edges[\"to\"] = twoway_edges[\"from\"]\n",
    "        twoway_edges[\"from\"] = twoway_to\n",
    "        df_edges = pd.concat([df_edges,twoway_edges])\n",
    "    h5store['edges']=df_edges\n",
    "    h5store.close()\n",
    "    print(\"Graph store construction complete...\")\n",
    "    return hdf5_path"
   ]
  },
  {
   "cell_type": "code",
   "execution_count": 3,
   "metadata": {},
   "outputs": [],
   "source": [
    "# Load Shp to import\n",
    "nodes, edges = get_nodes_and_edges('./data/Novo/Proj_Estradas.shp')"
   ]
  },
  {
   "cell_type": "code",
   "execution_count": 16,
   "metadata": {},
   "outputs": [
    {
     "name": "stdout",
     "output_type": "stream",
     "text": [
      "Overwriting existing store...\n",
      "Reading shapefile with geopandas: ./data/Novo/Proj_Estradas.shp...\n",
      "Establishing node store...\n",
      "Establishing edge store for 898234 edges...\n",
      "Transferring nodeids to edges...\n",
      "Note: Edges are duplicated in this step, do not use the 'twoway' setting in the pandana network if using this \n",
      "             function\n",
      "Graph store construction complete...\n"
     ]
    }
   ],
   "source": [
    "path = generate_pandana_store_from_shp('./data/portugal', './data/Novo/Proj_Estradas.shp', weights=['dist'])"
   ]
  },
  {
   "cell_type": "code",
   "execution_count": null,
   "metadata": {},
   "outputs": [],
   "source": []
  }
 ],
 "metadata": {
  "kernelspec": {
   "display_name": "Python 3",
   "language": "python",
   "name": "python3"
  },
  "language_info": {
   "codemirror_mode": {
    "name": "ipython",
    "version": 3
   },
   "file_extension": ".py",
   "mimetype": "text/x-python",
   "name": "python",
   "nbconvert_exporter": "python",
   "pygments_lexer": "ipython3",
   "version": "3.6.7"
  }
 },
 "nbformat": 4,
 "nbformat_minor": 2
}
