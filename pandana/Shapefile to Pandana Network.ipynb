{
 "cells": [
  {
   "cell_type": "code",
   "execution_count": 12,
   "metadata": {},
   "outputs": [],
   "source": [
    "# List of imports\n",
    "import geopandas as gpd\n",
    "import pandas as pd\n",
    "import os\n",
    "import pandana as pnd\n",
    "\n",
    "import matplotlib.pyplot as plt"
   ]
  },
  {
   "cell_type": "code",
   "execution_count": 13,
   "metadata": {},
   "outputs": [],
   "source": [
    "# This GIST provides a template for conveting shapefiles into pandana networks. \n",
    "# Under a MIT Open Source License. https://opensource.org/licenses/MIT\n",
    "# Researchers cite as Wasserman, D. Geopandas to Pandana Network Converter. (2019) GitHub repository, https://gist.github.com/d-wasserman/2d50671b37ee46b088e155293399a90c\n",
    "\n",
    "def get_nodes_and_edges(shp_file,rounding=5):\n",
    "    \"\"\"Use geopandas to read line shapefile and compile all paths and nodes in a line file based on a rounding tolerance.\n",
    "    shp_file:path to polyline file with end to end connectivity\n",
    "    rounding: tolerance parameter for coordinate precision\"\"\"\n",
    "    edges = gpd.read_file(shp_file)\n",
    "    edges[\"from_x\"]=edges[\"geometry\"].apply(lambda x:round(x.coords[0][0],rounding))\n",
    "    edges[\"from_y\"]=edges[\"geometry\"].apply(lambda x:round(x.coords[0][1],rounding))\n",
    "    edges[\"to_x\"]=edges[\"geometry\"].apply(lambda x:round(x.coords[-1][0],rounding))\n",
    "    edges[\"to_y\"]=edges[\"geometry\"].apply(lambda x:round(x.coords[-1][1],rounding))\n",
    "    nodes_from = edges[[\"from_x\",\"from_y\"]].rename(index=str,columns={\"from_x\":\"x\",\"from_y\":\"y\"})\n",
    "    nodes_to = edges[[\"to_x\",\"to_y\"]].rename(index=str,columns={\"to_x\":\"x\",\"to_y\":\"y\"})\n",
    "    nodes = pd.concat([nodes_from,nodes_to],axis=0)\n",
    "    nodes[\"xy\"] = list(zip(nodes[\"x\"], nodes[\"y\"]))\n",
    "    nodes = pd.DataFrame(nodes[\"xy\"].unique(),columns=[\"xy\"])\n",
    "    nodes[\"x\"] = nodes[\"xy\"].apply(lambda x: x[0])\n",
    "    nodes[\"y\"] = nodes[\"xy\"].apply(lambda x: x[1])\n",
    "    nodes = nodes[[\"x\",\"y\"]].copy()\n",
    "    return nodes , edges\n",
    "\n",
    "def generate_pandana_store_from_shp(hdf5_path,shp_file,weights=[\"weight\"],oneway=None,overwrite_existing=True,rounding=6):\n",
    "    \"\"\"Generate a pandana ready HDF5 store using geopandas (gdal required) and pandas. Python 3.5.\n",
    "    hdf5_path(str): output path of HDF5 store holding two dataframes [\"nodes\",\"edges\"]\n",
    "    shp_file(str): input file that geopandas reads to make a graph based on end to end connectivity\n",
    "    weights(list): weights columns transfered to the store edges. Name is maintained.\n",
    "    oneway(str): series name where oneway streets (edges) are denoted with a 1, 0 denotes twoway. None, assumes\n",
    "    twoway edge.\n",
    "    overwrite_existing(bool): if true, the existing store is overwritten.\n",
    "    rounding(int): the number of digits to round line coordinates to get unique nodes (precision)\n",
    "    returns hdf5_path(str)\"\"\"\n",
    "    if os.path.exists(hdf5_path):\n",
    "        if overwrite_existing:\n",
    "            print(\"Overwriting existing store...\")\n",
    "            os.remove(hdf5_path)\n",
    "        else:\n",
    "            print(\"Existing store at path: {0}\".format(hdf5_path))\n",
    "            return hdf5_path\n",
    "    all_edges_twoway = True\n",
    "    oneway_field_list = []\n",
    "    if oneway is not None:\n",
    "        all_edges_twoway = False\n",
    "        oneway_field_list.append(oneway)\n",
    "    print(\"Reading shapefile with geopandas: {0}...\".format(shp_file))\n",
    "    nodes, edges =get_nodes_and_edges(shp_file,rounding)\n",
    "    h5store = pd.HDFStore(hdf5_path)\n",
    "    print(\"Establishing node store...\")\n",
    "    df_nodes = nodes\n",
    "    df_nodes[\"id\"] = df_nodes.index.values\n",
    "    df_nodes.index.rename(\"id\",True)\n",
    "    h5store['nodes'] = df_nodes\n",
    "    edge_cnt = len(edges)\n",
    "    print(\"Establishing edge store for {0} edges...\".format(edge_cnt))\n",
    "    df_edges= edges[['from_x','from_y','to_x','to_y'] + weights + oneway_field_list].copy()\n",
    "    print(\"Transferring nodeids to edges...\")\n",
    "    df_edges=pd.merge(df_edges, df_nodes, how='left', left_on=['from_x','from_y'], right_on=['x','y'])\n",
    "    df_edges=pd.merge(df_edges, df_nodes, how='left', left_on=['to_x','to_y'], right_on=['x','y'], suffixes=('_from', '_to'))\n",
    "    #nodeids are duplicated on from the joined nodes, joined first to from, suffix to on next set\n",
    "    df_edges.rename(columns= {'id_from': 'from', 'id_to': 'to'}, inplace=True)\n",
    "    df_edges=df_edges[['from','to'] + weights + oneway_field_list]\n",
    "    if all_edges_twoway:\n",
    "        print(\"\"\"Note: Edges are duplicated in this step, do not use the 'twoway' setting in the pandana network if using this \n",
    "             function\"\"\")\n",
    "        twoway_edges = df_edges.copy()\n",
    "        twoway_to = twoway_edges[\"to\"].copy()\n",
    "        twoway_edges[\"to\"] = twoway_edges[\"from\"]\n",
    "        twoway_edges[\"from\"] = twoway_to\n",
    "        df_edges = pd.concat([df_edges,twoway_edges])\n",
    "    else:\n",
    "        print(\"Setting up edges based on oneway field...\")\n",
    "        twoway_edges = df_edges[df_edges[oneway]==0].copy()\n",
    "        twoway_to = twoway_edges[\"to\"].copy()\n",
    "        twoway_edges[\"to\"] = twoway_edges[\"from\"]\n",
    "        twoway_edges[\"from\"] = twoway_to\n",
    "        df_edges = pd.concat([df_edges,twoway_edges])\n",
    "    h5store['edges']=df_edges\n",
    "    h5store.close()\n",
    "    print(\"Graph store construction complete...\")\n",
    "    return hdf5_path"
   ]
  },
  {
   "cell_type": "code",
   "execution_count": 14,
   "metadata": {},
   "outputs": [],
   "source": [
    "# Load Shp to import\n",
    "nodes, edges = get_nodes_and_edges('./portugal/gis_osm_roads_free_1.shp')"
   ]
  },
  {
   "cell_type": "code",
   "execution_count": 15,
   "metadata": {},
   "outputs": [
    {
     "data": {
      "text/html": [
       "<div>\n",
       "<style scoped>\n",
       "    .dataframe tbody tr th:only-of-type {\n",
       "        vertical-align: middle;\n",
       "    }\n",
       "\n",
       "    .dataframe tbody tr th {\n",
       "        vertical-align: top;\n",
       "    }\n",
       "\n",
       "    .dataframe thead th {\n",
       "        text-align: right;\n",
       "    }\n",
       "</style>\n",
       "<table border=\"1\" class=\"dataframe\">\n",
       "  <thead>\n",
       "    <tr style=\"text-align: right;\">\n",
       "      <th></th>\n",
       "      <th>x</th>\n",
       "      <th>y</th>\n",
       "    </tr>\n",
       "  </thead>\n",
       "  <tbody>\n",
       "    <tr>\n",
       "      <th>0</th>\n",
       "      <td>-9.39792</td>\n",
       "      <td>38.95443</td>\n",
       "    </tr>\n",
       "    <tr>\n",
       "      <th>1</th>\n",
       "      <td>-9.39593</td>\n",
       "      <td>38.95662</td>\n",
       "    </tr>\n",
       "    <tr>\n",
       "      <th>2</th>\n",
       "      <td>-9.41948</td>\n",
       "      <td>38.97215</td>\n",
       "    </tr>\n",
       "    <tr>\n",
       "      <th>3</th>\n",
       "      <td>-9.39941</td>\n",
       "      <td>38.95519</td>\n",
       "    </tr>\n",
       "    <tr>\n",
       "      <th>4</th>\n",
       "      <td>-9.39858</td>\n",
       "      <td>38.95692</td>\n",
       "    </tr>\n",
       "  </tbody>\n",
       "</table>\n",
       "</div>"
      ],
      "text/plain": [
       "         x         y\n",
       "0 -9.39792  38.95443\n",
       "1 -9.39593  38.95662\n",
       "2 -9.41948  38.97215\n",
       "3 -9.39941  38.95519\n",
       "4 -9.39858  38.95692"
      ]
     },
     "execution_count": 15,
     "metadata": {},
     "output_type": "execute_result"
    }
   ],
   "source": [
    "nodes.head()"
   ]
  },
  {
   "cell_type": "code",
   "execution_count": 28,
   "metadata": {},
   "outputs": [
    {
     "data": {
      "image/svg+xml": [
       "<svg xmlns=\"http://www.w3.org/2000/svg\" xmlns:xlink=\"http://www.w3.org/1999/xlink\" width=\"100.0\" height=\"100.0\" viewBox=\"-9.401086507999999 38.954305291999994 0.0032888159999977518 0.0017212160000070753\" preserveAspectRatio=\"xMinYMin meet\"><g transform=\"matrix(1,0,0,-1,0,77.9103318)\"><polyline fill=\"none\" stroke=\"#66cc99\" stroke-width=\"6.577631999995503e-05\" points=\"-9.3979195,38.9544271 -9.398452,38.9547048 -9.3987325,38.9548398 -9.39917,38.9549998 -9.3994056,38.9551873 -9.3995345,38.9553642 -9.3996782,38.9555336 -9.3998681,38.9556979 -9.4000578,38.9558397 -9.400196,38.9559047 -9.4004874,38.9559007 -9.4007248,38.9558474 -9.4009647,38.9557448\" opacity=\"0.8\" /></g></svg>"
      ],
      "text/plain": [
       "<shapely.geometry.linestring.LineString at 0x7f4d9b75f8d0>"
      ]
     },
     "execution_count": 28,
     "metadata": {},
     "output_type": "execute_result"
    }
   ],
   "source": [
    "edges.geometry[0]"
   ]
  },
  {
   "cell_type": "code",
   "execution_count": 29,
   "metadata": {},
   "outputs": [
    {
     "data": {
      "text/plain": [
       "0.0035561508421502516"
      ]
     },
     "execution_count": 29,
     "metadata": {},
     "output_type": "execute_result"
    }
   ],
   "source": [
    "edges.geometry[0].length"
   ]
  },
  {
   "cell_type": "code",
   "execution_count": 18,
   "metadata": {},
   "outputs": [
    {
     "data": {
      "text/html": [
       "<div>\n",
       "<style scoped>\n",
       "    .dataframe tbody tr th:only-of-type {\n",
       "        vertical-align: middle;\n",
       "    }\n",
       "\n",
       "    .dataframe tbody tr th {\n",
       "        vertical-align: top;\n",
       "    }\n",
       "\n",
       "    .dataframe thead th {\n",
       "        text-align: right;\n",
       "    }\n",
       "</style>\n",
       "<table border=\"1\" class=\"dataframe\">\n",
       "  <thead>\n",
       "    <tr style=\"text-align: right;\">\n",
       "      <th></th>\n",
       "      <th>osm_id</th>\n",
       "      <th>code</th>\n",
       "      <th>fclass</th>\n",
       "      <th>name</th>\n",
       "      <th>ref</th>\n",
       "      <th>oneway</th>\n",
       "      <th>maxspeed</th>\n",
       "      <th>layer</th>\n",
       "      <th>bridge</th>\n",
       "      <th>tunnel</th>\n",
       "      <th>geometry</th>\n",
       "      <th>from_x</th>\n",
       "      <th>from_y</th>\n",
       "      <th>to_x</th>\n",
       "      <th>to_y</th>\n",
       "    </tr>\n",
       "  </thead>\n",
       "  <tbody>\n",
       "    <tr>\n",
       "      <th>0</th>\n",
       "      <td>2954258</td>\n",
       "      <td>5122</td>\n",
       "      <td>residential</td>\n",
       "      <td>Rua da Lapa</td>\n",
       "      <td>None</td>\n",
       "      <td>B</td>\n",
       "      <td>0</td>\n",
       "      <td>0</td>\n",
       "      <td>F</td>\n",
       "      <td>F</td>\n",
       "      <td>LINESTRING (-9.3979195 38.9544271, -9.39845200...</td>\n",
       "      <td>-9.39792</td>\n",
       "      <td>38.95443</td>\n",
       "      <td>-9.40096</td>\n",
       "      <td>38.95574</td>\n",
       "    </tr>\n",
       "    <tr>\n",
       "      <th>1</th>\n",
       "      <td>3979151</td>\n",
       "      <td>5122</td>\n",
       "      <td>residential</td>\n",
       "      <td>Rua dos Pardais</td>\n",
       "      <td>None</td>\n",
       "      <td>B</td>\n",
       "      <td>0</td>\n",
       "      <td>0</td>\n",
       "      <td>F</td>\n",
       "      <td>F</td>\n",
       "      <td>LINESTRING (-9.395928700000001 38.9566218, -9....</td>\n",
       "      <td>-9.39593</td>\n",
       "      <td>38.95662</td>\n",
       "      <td>-9.39375</td>\n",
       "      <td>38.95415</td>\n",
       "    </tr>\n",
       "    <tr>\n",
       "      <th>2</th>\n",
       "      <td>3979152</td>\n",
       "      <td>5113</td>\n",
       "      <td>primary</td>\n",
       "      <td>None</td>\n",
       "      <td>EN 247</td>\n",
       "      <td>B</td>\n",
       "      <td>50</td>\n",
       "      <td>0</td>\n",
       "      <td>F</td>\n",
       "      <td>F</td>\n",
       "      <td>LINESTRING (-9.419475500000001 38.9721483, -9....</td>\n",
       "      <td>-9.41948</td>\n",
       "      <td>38.97215</td>\n",
       "      <td>-9.41951</td>\n",
       "      <td>38.97013</td>\n",
       "    </tr>\n",
       "    <tr>\n",
       "      <th>3</th>\n",
       "      <td>3979153</td>\n",
       "      <td>5122</td>\n",
       "      <td>residential</td>\n",
       "      <td>Travessa da Escola</td>\n",
       "      <td>None</td>\n",
       "      <td>B</td>\n",
       "      <td>0</td>\n",
       "      <td>0</td>\n",
       "      <td>F</td>\n",
       "      <td>F</td>\n",
       "      <td>LINESTRING (-9.3994056 38.9551873, -9.39906080...</td>\n",
       "      <td>-9.39941</td>\n",
       "      <td>38.95519</td>\n",
       "      <td>-9.39880</td>\n",
       "      <td>38.95560</td>\n",
       "    </tr>\n",
       "    <tr>\n",
       "      <th>4</th>\n",
       "      <td>3979154</td>\n",
       "      <td>5122</td>\n",
       "      <td>residential</td>\n",
       "      <td>Rua de Baixo</td>\n",
       "      <td>None</td>\n",
       "      <td>B</td>\n",
       "      <td>0</td>\n",
       "      <td>0</td>\n",
       "      <td>F</td>\n",
       "      <td>F</td>\n",
       "      <td>LINESTRING (-9.3985764 38.9569177, -9.3985141 ...</td>\n",
       "      <td>-9.39858</td>\n",
       "      <td>38.95692</td>\n",
       "      <td>-9.39873</td>\n",
       "      <td>38.95484</td>\n",
       "    </tr>\n",
       "  </tbody>\n",
       "</table>\n",
       "</div>"
      ],
      "text/plain": [
       "    osm_id  code       fclass                name     ref oneway  maxspeed  \\\n",
       "0  2954258  5122  residential         Rua da Lapa    None      B         0   \n",
       "1  3979151  5122  residential     Rua dos Pardais    None      B         0   \n",
       "2  3979152  5113      primary                None  EN 247      B        50   \n",
       "3  3979153  5122  residential  Travessa da Escola    None      B         0   \n",
       "4  3979154  5122  residential        Rua de Baixo    None      B         0   \n",
       "\n",
       "   layer bridge tunnel                                           geometry  \\\n",
       "0      0      F      F  LINESTRING (-9.3979195 38.9544271, -9.39845200...   \n",
       "1      0      F      F  LINESTRING (-9.395928700000001 38.9566218, -9....   \n",
       "2      0      F      F  LINESTRING (-9.419475500000001 38.9721483, -9....   \n",
       "3      0      F      F  LINESTRING (-9.3994056 38.9551873, -9.39906080...   \n",
       "4      0      F      F  LINESTRING (-9.3985764 38.9569177, -9.3985141 ...   \n",
       "\n",
       "    from_x    from_y     to_x      to_y  \n",
       "0 -9.39792  38.95443 -9.40096  38.95574  \n",
       "1 -9.39593  38.95662 -9.39375  38.95415  \n",
       "2 -9.41948  38.97215 -9.41951  38.97013  \n",
       "3 -9.39941  38.95519 -9.39880  38.95560  \n",
       "4 -9.39858  38.95692 -9.39873  38.95484  "
      ]
     },
     "execution_count": 18,
     "metadata": {},
     "output_type": "execute_result"
    }
   ],
   "source": [
    "edges.head()"
   ]
  },
  {
   "cell_type": "code",
   "execution_count": 19,
   "metadata": {},
   "outputs": [
    {
     "name": "stdout",
     "output_type": "stream",
     "text": [
      "Overwriting existing store...\n",
      "Reading shapefile with geopandas: ./portugal/gis_osm_roads_free_1.shp...\n",
      "Establishing node store...\n",
      "Establishing edge store for 895693 edges...\n"
     ]
    },
    {
     "ename": "KeyError",
     "evalue": "\"['weight'] not in index\"",
     "output_type": "error",
     "traceback": [
      "\u001b[0;31m---------------------------------------------------------------------------\u001b[0m",
      "\u001b[0;31mKeyError\u001b[0m                                  Traceback (most recent call last)",
      "\u001b[0;32m<ipython-input-19-a68fba9b17a2>\u001b[0m in \u001b[0;36m<module>\u001b[0;34m\u001b[0m\n\u001b[0;32m----> 1\u001b[0;31m \u001b[0mpath\u001b[0m \u001b[0;34m=\u001b[0m \u001b[0mgenerate_pandana_store_from_shp\u001b[0m\u001b[0;34m(\u001b[0m\u001b[0;34m'./data/portugal'\u001b[0m\u001b[0;34m,\u001b[0m \u001b[0;34m'./portugal/gis_osm_roads_free_1.shp'\u001b[0m\u001b[0;34m)\u001b[0m\u001b[0;34m\u001b[0m\u001b[0;34m\u001b[0m\u001b[0m\n\u001b[0m",
      "\u001b[0;32m<ipython-input-13-c510c853cc38>\u001b[0m in \u001b[0;36mgenerate_pandana_store_from_shp\u001b[0;34m(hdf5_path, shp_file, weights, oneway, overwrite_existing, rounding)\u001b[0m\n\u001b[1;32m     54\u001b[0m     \u001b[0medge_cnt\u001b[0m \u001b[0;34m=\u001b[0m \u001b[0mlen\u001b[0m\u001b[0;34m(\u001b[0m\u001b[0medges\u001b[0m\u001b[0;34m)\u001b[0m\u001b[0;34m\u001b[0m\u001b[0;34m\u001b[0m\u001b[0m\n\u001b[1;32m     55\u001b[0m     \u001b[0mprint\u001b[0m\u001b[0;34m(\u001b[0m\u001b[0;34m\"Establishing edge store for {0} edges...\"\u001b[0m\u001b[0;34m.\u001b[0m\u001b[0mformat\u001b[0m\u001b[0;34m(\u001b[0m\u001b[0medge_cnt\u001b[0m\u001b[0;34m)\u001b[0m\u001b[0;34m)\u001b[0m\u001b[0;34m\u001b[0m\u001b[0;34m\u001b[0m\u001b[0m\n\u001b[0;32m---> 56\u001b[0;31m     \u001b[0mdf_edges\u001b[0m\u001b[0;34m=\u001b[0m \u001b[0medges\u001b[0m\u001b[0;34m[\u001b[0m\u001b[0;34m[\u001b[0m\u001b[0;34m'from_x'\u001b[0m\u001b[0;34m,\u001b[0m\u001b[0;34m'from_y'\u001b[0m\u001b[0;34m,\u001b[0m\u001b[0;34m'to_x'\u001b[0m\u001b[0;34m,\u001b[0m\u001b[0;34m'to_y'\u001b[0m\u001b[0;34m]\u001b[0m \u001b[0;34m+\u001b[0m \u001b[0mweights\u001b[0m \u001b[0;34m+\u001b[0m \u001b[0moneway_field_list\u001b[0m\u001b[0;34m]\u001b[0m\u001b[0;34m.\u001b[0m\u001b[0mcopy\u001b[0m\u001b[0;34m(\u001b[0m\u001b[0;34m)\u001b[0m\u001b[0;34m\u001b[0m\u001b[0;34m\u001b[0m\u001b[0m\n\u001b[0m\u001b[1;32m     57\u001b[0m     \u001b[0mprint\u001b[0m\u001b[0;34m(\u001b[0m\u001b[0;34m\"Transferring nodeids to edges...\"\u001b[0m\u001b[0;34m)\u001b[0m\u001b[0;34m\u001b[0m\u001b[0;34m\u001b[0m\u001b[0m\n\u001b[1;32m     58\u001b[0m     \u001b[0mdf_edges\u001b[0m\u001b[0;34m=\u001b[0m\u001b[0mpd\u001b[0m\u001b[0;34m.\u001b[0m\u001b[0mmerge\u001b[0m\u001b[0;34m(\u001b[0m\u001b[0mdf_edges\u001b[0m\u001b[0;34m,\u001b[0m \u001b[0mdf_nodes\u001b[0m\u001b[0;34m,\u001b[0m \u001b[0mhow\u001b[0m\u001b[0;34m=\u001b[0m\u001b[0;34m'left'\u001b[0m\u001b[0;34m,\u001b[0m \u001b[0mleft_on\u001b[0m\u001b[0;34m=\u001b[0m\u001b[0;34m[\u001b[0m\u001b[0;34m'from_x'\u001b[0m\u001b[0;34m,\u001b[0m\u001b[0;34m'from_y'\u001b[0m\u001b[0;34m]\u001b[0m\u001b[0;34m,\u001b[0m \u001b[0mright_on\u001b[0m\u001b[0;34m=\u001b[0m\u001b[0;34m[\u001b[0m\u001b[0;34m'x'\u001b[0m\u001b[0;34m,\u001b[0m\u001b[0;34m'y'\u001b[0m\u001b[0;34m]\u001b[0m\u001b[0;34m)\u001b[0m\u001b[0;34m\u001b[0m\u001b[0;34m\u001b[0m\u001b[0m\n",
      "\u001b[0;32m~/anaconda3/envs/pandana/lib/python3.6/site-packages/geopandas/geodataframe.py\u001b[0m in \u001b[0;36m__getitem__\u001b[0;34m(self, key)\u001b[0m\n\u001b[1;32m    469\u001b[0m         \u001b[0mGeoDataFrame\u001b[0m\u001b[0;34m.\u001b[0m\u001b[0;34m\u001b[0m\u001b[0;34m\u001b[0m\u001b[0m\n\u001b[1;32m    470\u001b[0m         \"\"\"\n\u001b[0;32m--> 471\u001b[0;31m         \u001b[0mresult\u001b[0m \u001b[0;34m=\u001b[0m \u001b[0msuper\u001b[0m\u001b[0;34m(\u001b[0m\u001b[0mGeoDataFrame\u001b[0m\u001b[0;34m,\u001b[0m \u001b[0mself\u001b[0m\u001b[0;34m)\u001b[0m\u001b[0;34m.\u001b[0m\u001b[0m__getitem__\u001b[0m\u001b[0;34m(\u001b[0m\u001b[0mkey\u001b[0m\u001b[0;34m)\u001b[0m\u001b[0;34m\u001b[0m\u001b[0;34m\u001b[0m\u001b[0m\n\u001b[0m\u001b[1;32m    472\u001b[0m         \u001b[0mgeo_col\u001b[0m \u001b[0;34m=\u001b[0m \u001b[0mself\u001b[0m\u001b[0;34m.\u001b[0m\u001b[0m_geometry_column_name\u001b[0m\u001b[0;34m\u001b[0m\u001b[0;34m\u001b[0m\u001b[0m\n\u001b[1;32m    473\u001b[0m         \u001b[0;32mif\u001b[0m \u001b[0misinstance\u001b[0m\u001b[0;34m(\u001b[0m\u001b[0mkey\u001b[0m\u001b[0;34m,\u001b[0m \u001b[0mstring_types\u001b[0m\u001b[0;34m)\u001b[0m \u001b[0;32mand\u001b[0m \u001b[0mkey\u001b[0m \u001b[0;34m==\u001b[0m \u001b[0mgeo_col\u001b[0m\u001b[0;34m:\u001b[0m\u001b[0;34m\u001b[0m\u001b[0;34m\u001b[0m\u001b[0m\n",
      "\u001b[0;32m~/anaconda3/envs/pandana/lib/python3.6/site-packages/pandas/core/frame.py\u001b[0m in \u001b[0;36m__getitem__\u001b[0;34m(self, key)\u001b[0m\n\u001b[1;32m   2979\u001b[0m             \u001b[0;32mif\u001b[0m \u001b[0mis_iterator\u001b[0m\u001b[0;34m(\u001b[0m\u001b[0mkey\u001b[0m\u001b[0;34m)\u001b[0m\u001b[0;34m:\u001b[0m\u001b[0;34m\u001b[0m\u001b[0;34m\u001b[0m\u001b[0m\n\u001b[1;32m   2980\u001b[0m                 \u001b[0mkey\u001b[0m \u001b[0;34m=\u001b[0m \u001b[0mlist\u001b[0m\u001b[0;34m(\u001b[0m\u001b[0mkey\u001b[0m\u001b[0;34m)\u001b[0m\u001b[0;34m\u001b[0m\u001b[0;34m\u001b[0m\u001b[0m\n\u001b[0;32m-> 2981\u001b[0;31m             \u001b[0mindexer\u001b[0m \u001b[0;34m=\u001b[0m \u001b[0mself\u001b[0m\u001b[0;34m.\u001b[0m\u001b[0mloc\u001b[0m\u001b[0;34m.\u001b[0m\u001b[0m_convert_to_indexer\u001b[0m\u001b[0;34m(\u001b[0m\u001b[0mkey\u001b[0m\u001b[0;34m,\u001b[0m \u001b[0maxis\u001b[0m\u001b[0;34m=\u001b[0m\u001b[0;36m1\u001b[0m\u001b[0;34m,\u001b[0m \u001b[0mraise_missing\u001b[0m\u001b[0;34m=\u001b[0m\u001b[0;32mTrue\u001b[0m\u001b[0;34m)\u001b[0m\u001b[0;34m\u001b[0m\u001b[0;34m\u001b[0m\u001b[0m\n\u001b[0m\u001b[1;32m   2982\u001b[0m \u001b[0;34m\u001b[0m\u001b[0m\n\u001b[1;32m   2983\u001b[0m         \u001b[0;31m# take() does not accept boolean indexers\u001b[0m\u001b[0;34m\u001b[0m\u001b[0;34m\u001b[0m\u001b[0;34m\u001b[0m\u001b[0m\n",
      "\u001b[0;32m~/anaconda3/envs/pandana/lib/python3.6/site-packages/pandas/core/indexing.py\u001b[0m in \u001b[0;36m_convert_to_indexer\u001b[0;34m(self, obj, axis, is_setter, raise_missing)\u001b[0m\n\u001b[1;32m   1269\u001b[0m                 \u001b[0;31m# When setting, missing keys are not allowed, even with .loc:\u001b[0m\u001b[0;34m\u001b[0m\u001b[0;34m\u001b[0m\u001b[0;34m\u001b[0m\u001b[0m\n\u001b[1;32m   1270\u001b[0m                 \u001b[0mkwargs\u001b[0m \u001b[0;34m=\u001b[0m \u001b[0;34m{\u001b[0m\u001b[0;34m\"raise_missing\"\u001b[0m\u001b[0;34m:\u001b[0m \u001b[0;32mTrue\u001b[0m \u001b[0;32mif\u001b[0m \u001b[0mis_setter\u001b[0m \u001b[0;32melse\u001b[0m \u001b[0mraise_missing\u001b[0m\u001b[0;34m}\u001b[0m\u001b[0;34m\u001b[0m\u001b[0;34m\u001b[0m\u001b[0m\n\u001b[0;32m-> 1271\u001b[0;31m                 \u001b[0;32mreturn\u001b[0m \u001b[0mself\u001b[0m\u001b[0;34m.\u001b[0m\u001b[0m_get_listlike_indexer\u001b[0m\u001b[0;34m(\u001b[0m\u001b[0mobj\u001b[0m\u001b[0;34m,\u001b[0m \u001b[0maxis\u001b[0m\u001b[0;34m,\u001b[0m \u001b[0;34m**\u001b[0m\u001b[0mkwargs\u001b[0m\u001b[0;34m)\u001b[0m\u001b[0;34m[\u001b[0m\u001b[0;36m1\u001b[0m\u001b[0;34m]\u001b[0m\u001b[0;34m\u001b[0m\u001b[0;34m\u001b[0m\u001b[0m\n\u001b[0m\u001b[1;32m   1272\u001b[0m         \u001b[0;32melse\u001b[0m\u001b[0;34m:\u001b[0m\u001b[0;34m\u001b[0m\u001b[0;34m\u001b[0m\u001b[0m\n\u001b[1;32m   1273\u001b[0m             \u001b[0;32mtry\u001b[0m\u001b[0;34m:\u001b[0m\u001b[0;34m\u001b[0m\u001b[0;34m\u001b[0m\u001b[0m\n",
      "\u001b[0;32m~/anaconda3/envs/pandana/lib/python3.6/site-packages/pandas/core/indexing.py\u001b[0m in \u001b[0;36m_get_listlike_indexer\u001b[0;34m(self, key, axis, raise_missing)\u001b[0m\n\u001b[1;32m   1076\u001b[0m \u001b[0;34m\u001b[0m\u001b[0m\n\u001b[1;32m   1077\u001b[0m         self._validate_read_indexer(\n\u001b[0;32m-> 1078\u001b[0;31m             \u001b[0mkeyarr\u001b[0m\u001b[0;34m,\u001b[0m \u001b[0mindexer\u001b[0m\u001b[0;34m,\u001b[0m \u001b[0mo\u001b[0m\u001b[0;34m.\u001b[0m\u001b[0m_get_axis_number\u001b[0m\u001b[0;34m(\u001b[0m\u001b[0maxis\u001b[0m\u001b[0;34m)\u001b[0m\u001b[0;34m,\u001b[0m \u001b[0mraise_missing\u001b[0m\u001b[0;34m=\u001b[0m\u001b[0mraise_missing\u001b[0m\u001b[0;34m\u001b[0m\u001b[0;34m\u001b[0m\u001b[0m\n\u001b[0m\u001b[1;32m   1079\u001b[0m         )\n\u001b[1;32m   1080\u001b[0m         \u001b[0;32mreturn\u001b[0m \u001b[0mkeyarr\u001b[0m\u001b[0;34m,\u001b[0m \u001b[0mindexer\u001b[0m\u001b[0;34m\u001b[0m\u001b[0;34m\u001b[0m\u001b[0m\n",
      "\u001b[0;32m~/anaconda3/envs/pandana/lib/python3.6/site-packages/pandas/core/indexing.py\u001b[0m in \u001b[0;36m_validate_read_indexer\u001b[0;34m(self, key, indexer, axis, raise_missing)\u001b[0m\n\u001b[1;32m   1169\u001b[0m             \u001b[0;32mif\u001b[0m \u001b[0;32mnot\u001b[0m \u001b[0;34m(\u001b[0m\u001b[0mself\u001b[0m\u001b[0;34m.\u001b[0m\u001b[0mname\u001b[0m \u001b[0;34m==\u001b[0m \u001b[0;34m\"loc\"\u001b[0m \u001b[0;32mand\u001b[0m \u001b[0;32mnot\u001b[0m \u001b[0mraise_missing\u001b[0m\u001b[0;34m)\u001b[0m\u001b[0;34m:\u001b[0m\u001b[0;34m\u001b[0m\u001b[0;34m\u001b[0m\u001b[0m\n\u001b[1;32m   1170\u001b[0m                 \u001b[0mnot_found\u001b[0m \u001b[0;34m=\u001b[0m \u001b[0mlist\u001b[0m\u001b[0;34m(\u001b[0m\u001b[0mset\u001b[0m\u001b[0;34m(\u001b[0m\u001b[0mkey\u001b[0m\u001b[0;34m)\u001b[0m \u001b[0;34m-\u001b[0m \u001b[0mset\u001b[0m\u001b[0;34m(\u001b[0m\u001b[0max\u001b[0m\u001b[0;34m)\u001b[0m\u001b[0;34m)\u001b[0m\u001b[0;34m\u001b[0m\u001b[0;34m\u001b[0m\u001b[0m\n\u001b[0;32m-> 1171\u001b[0;31m                 \u001b[0;32mraise\u001b[0m \u001b[0mKeyError\u001b[0m\u001b[0;34m(\u001b[0m\u001b[0;34m\"{} not in index\"\u001b[0m\u001b[0;34m.\u001b[0m\u001b[0mformat\u001b[0m\u001b[0;34m(\u001b[0m\u001b[0mnot_found\u001b[0m\u001b[0;34m)\u001b[0m\u001b[0;34m)\u001b[0m\u001b[0;34m\u001b[0m\u001b[0;34m\u001b[0m\u001b[0m\n\u001b[0m\u001b[1;32m   1172\u001b[0m \u001b[0;34m\u001b[0m\u001b[0m\n\u001b[1;32m   1173\u001b[0m             \u001b[0;31m# we skip the warning on Categorical/Interval\u001b[0m\u001b[0;34m\u001b[0m\u001b[0;34m\u001b[0m\u001b[0;34m\u001b[0m\u001b[0m\n",
      "\u001b[0;31mKeyError\u001b[0m: \"['weight'] not in index\""
     ]
    }
   ],
   "source": [
    "path = generate_pandana_store_from_shp('./data/portugal', './portugal/gis_osm_roads_free_1.shp')"
   ]
  },
  {
   "cell_type": "code",
   "execution_count": null,
   "metadata": {},
   "outputs": [],
   "source": []
  }
 ],
 "metadata": {
  "kernelspec": {
   "display_name": "Python 3",
   "language": "python",
   "name": "python3"
  },
  "language_info": {
   "codemirror_mode": {
    "name": "ipython",
    "version": 3
   },
   "file_extension": ".py",
   "mimetype": "text/x-python",
   "name": "python",
   "nbconvert_exporter": "python",
   "pygments_lexer": "ipython3",
   "version": "3.6.7"
  }
 },
 "nbformat": 4,
 "nbformat_minor": 2
}
