{
 "cells": [
  {
   "cell_type": "markdown",
   "metadata": {},
   "source": [
    "# GETTIN\n",
    "## Planejamento de Equipamentos Escolares\n",
    "## Método: k-Median\n",
    "### Versão: 0.5\n",
    "#### Fillipe O Feitosa <fillipefeitosa@ua.pt>\n",
    "\n",
    "---\n"
   ]
  },
  {
   "cell_type": "markdown",
   "metadata": {},
   "source": [
    "#### Modeling and Creating Decision Variables"
   ]
  },
  {
   "cell_type": "markdown",
   "metadata": {},
   "source": [
    "\\begin{split}& \\mbox{minimize} \\quad    & \\sum_{i=1}^n \\sum_{j=1}^m c_{ij} x_{ij} &     \\\\\n",
    "& \\mbox{subject to:} \\quad & \\sum_{j=1}^m x_{ij} =1 &  \\mbox{ for } i=1,\\cdots,n\\\\\n",
    "&   & \\sum_{j=1}^m y_{j} = k                        &   \\\\\n",
    "&   & x_{ij} \\leq y_j                               & \\mbox{ for }  i=1,\\cdots,n; j=1,\\cdots,m  \\\\\n",
    "&   & x_{ij} \\in \\{ 0,1 \\}                          & \\mbox{ for }  i=1,\\cdots,n; j=1,\\cdots,m \\\\\n",
    "&   & y_j \\in \\{ 0,1 \\}                             & \\mbox{ for }  j=1,\\cdots,m\\end{split}"
   ]
  },
  {
   "cell_type": "code",
   "execution_count": 95,
   "metadata": {},
   "outputs": [],
   "source": [
    "# Import Libraries\n",
    "from gurobi import *\n",
    "import math\n",
    "import matplotlib.pyplot as plt\n",
    "\n",
    "def distance(a,b):\n",
    "    dx = a[0] - b[0]\n",
    "    dy = a[1] - b[1]\n",
    "    return math.sqrt(dx*dx + dy*dy)\n",
    "\n",
    "# Data\n",
    "# Problem data\n",
    "\n",
    "\n",
    "# ---------- K - MEDIAN ------------#\n",
    "\n",
    "k = 2\n",
    "\n",
    "subSections = [[0, 1.5],[1.5, 0.5],[0.75, 1.5],[1.2, 0.5],[1.7, 0.1],[0.87, 1.5],[1.42, 1.5]]\n",
    "schools = [[1,0],[1,1],[1,2],\n",
    "          [2,0],[2,1],[2,2]]\n",
    "\n",
    "# import geopandas as gpd\n",
    "\n",
    "# vagos = gpd.read_file('./data_gettin/vagos.geojson');\n",
    "# centroids = vagos.centroid\n",
    "\n",
    "# iteratorHandler = centroids.size\n",
    "# centroidVector = []\n",
    "# for centroid in centroids:\n",
    "#     obj = [centroid.xy[0][0], centroid.xy[1][0]]\n",
    "#     centroidVector.append(obj)\n",
    "\n",
    "# subSections = centroidVector\n",
    "# schools = centroidVector\n",
    "# @charge: custo de construcao por escola (fixo em 500 mil euros)\n",
    "# charge = 5000000\n",
    "\n",
    "numSchools = len(schools)\n",
    "numSubSections = len(subSections)\n",
    "\n",
    "# Creting Guroby Model\n",
    "m = Model()\n",
    "\n",
    "# Decision Variables\n",
    "x = {}\n",
    "y = {}\n",
    "d = {} # Distance Matrix\n",
    "# @alpha: 0.29 de custo por Km  por (365 dias * 5 anos) \n",
    "alpha = 529.25\n",
    "\n",
    "# creating binary variable for every school\n",
    "for j in range(numSchools):\n",
    "    x[j] = m.addVar(obj=0, vtype=GRB.BINARY, name=\"escola(%d)\" % j)\n",
    "\n",
    "# creating continuous variable for subsections to check suply fractions\n",
    "for i in range(numSubSections):\n",
    "    for j in range(numSchools):\n",
    "        # Distances between Subsections and Schools\n",
    "        d[(i,j)] = distance(subSections[i], schools[j])\n",
    "        # Fractions of Subsection Suply\n",
    "        y[(i,j)] = m.addVar(obj=d[i,j], vtype=GRB.BINARY, name=\"Demanda de Sub[%d] atendida pela escola[%d]\" % (i,j))\n",
    "        \n",
    "m.update()"
   ]
  },
  {
   "cell_type": "code",
   "execution_count": 96,
   "metadata": {},
   "outputs": [
    {
     "data": {
      "image/png": "[encoded data removed]",
      "text/plain": [
       "<Figure size 432x288 with 1 Axes>"
      ]
     },
     "metadata": {},
     "output_type": "display_data"
    }
   ],
   "source": [
    "plt.scatter(*zip(*subSections))\n",
    "plt.show()"
   ]
  },
  {
   "cell_type": "code",
   "execution_count": 97,
   "metadata": {},
   "outputs": [
    {
     "data": {
      "image/png": "[encoded data removed]",
      "text/plain": [
       "<Figure size 432x288 with 1 Axes>"
      ]
     },
     "metadata": {},
     "output_type": "display_data"
    }
   ],
   "source": [
    "plt.scatter(*zip(*schools))\n",
    "plt.show()"
   ]
  },
  {
   "cell_type": "markdown",
   "metadata": {},
   "source": [
    "## Adding Constraints"
   ]
  },
  {
   "cell_type": "code",
   "execution_count": 98,
   "metadata": {},
   "outputs": [],
   "source": [
    "# Constraint for Every Student on School\n",
    "# for i in range(numSubSections):\n",
    "#     m.addConstr(quicksum(y[(i,j)] for j in range(numSchools)) == 1)\n",
    "for i in range(numSubSections):\n",
    "    coef = [1 for j in range(numSchools)]\n",
    "    var = [y[i,j] for j in range(numSchools)]\n",
    "    m.addConstr(LinExpr(coef,var), \"=\", 1, name=\"Assign[%s]\"%i)\n",
    "\n",
    "# Constraint to set number of Schools equal to K\n",
    "# m.addConstr(quicksum(x) == k)\n",
    "\n",
    "coef = [1 for j in range(numSchools)]\n",
    "var = [x[j] for j in range(numSchools)]\n",
    "m.addConstr(LinExpr(coef,var), \"=\", rhs=k, name=\"k_median\") \n",
    "\n",
    "\n",
    "# Fraction of suply must be lower or equal than the BINARY x[j] available \n",
    "# for i in range(numSubSections):\n",
    "#     for j in range(numSchools):\n",
    "#         m.addConstr(y[(i,j)] <= x[j])\n",
    "\n",
    "for j in range(numSchools):\n",
    "    for i in range(numSubSections):\n",
    "        m.addConstr(y[i,j], \"<\", x[j], name=\"Strong[%s,%s]\"%(i,j))\n",
    "\n",
    "# THIS IS THE WRONG WAY TO ITERATE. DONT DO IT.\n",
    "# for i in range(numSubSections):\n",
    "#     for j in range(numSchools):\n",
    "#         m.addConstr(quicksum(y[(i,j)]) <= x[j])\n",
    "\n",
    "\n",
    "# Constraint to improve linear relaxation - RIGHT WAY!!!\n",
    "# for j in range(numSchools):\n",
    "#     m.addConstr(quicksum(y[(i,j)] for i in range(numSubSections)) <= x[j])"
   ]
  },
  {
   "cell_type": "markdown",
   "metadata": {},
   "source": [
    "#### Objetive\n"
   ]
  },
  {
   "cell_type": "code",
   "execution_count": 99,
   "metadata": {
    "scrolled": true
   },
   "outputs": [
    {
     "name": "stdout",
     "output_type": "stream",
     "text": [
      "Optimize a model with 50 rows, 48 columns and 132 nonzeros\n",
      "Variable types: 0 continuous, 48 integer (48 binary)\n",
      "Coefficient statistics:\n",
      "  Matrix range     [1e+00, 1e+00]\n",
      "  Objective range  [3e-01, 2e+00]\n",
      "  Bounds range     [1e+00, 1e+00]\n",
      "  RHS range        [1e+00, 2e+00]\n",
      "Found heuristic solution: objective 9.8915256\n",
      "Presolve time: 0.00s\n",
      "Presolved: 50 rows, 48 columns, 132 nonzeros\n",
      "Variable types: 0 continuous, 48 integer (48 binary)\n",
      "\n",
      "Root relaxation: objective 4.408519e+00, 20 iterations, 0.00 seconds\n",
      "\n",
      "    Nodes    |    Current Node    |     Objective Bounds      |     Work\n",
      " Expl Unexpl |  Obj  Depth IntInf | Incumbent    BestBd   Gap | It/Node Time\n",
      "\n",
      "*    0     0               0       4.4085188    4.40852  0.00%     -    0s\n",
      "\n",
      "Explored 0 nodes (20 simplex iterations) in 0.02 seconds\n",
      "Thread count was 4 (of 4 available processors)\n",
      "\n",
      "Solution count 2: 4.40852 9.89153 \n",
      "\n",
      "Optimal solution found (tolerance 1.00e-04)\n",
      "Best objective 4.408518773858e+00, best bound 4.408518773858e+00, gap 0.0000%\n"
     ]
    }
   ],
   "source": [
    "# Setting objective\n",
    "\n",
    "m.setObjective( \n",
    "    quicksum(d[i,j]*y[i,j] for i in range(numSubSections) for j in range(numSchools)), GRB.MINIMIZE )\n",
    "\n",
    "m.optimize()"
   ]
  },
  {
   "cell_type": "code",
   "execution_count": 100,
   "metadata": {},
   "outputs": [
    {
     "data": {
      "text/plain": [
       "<gurobi.Model MIP instance Unnamed: 50 constrs, 48 vars, Parameter changes: LogFile=gurobi.log, CSIdleTimeout=1800>"
      ]
     },
     "execution_count": 100,
     "metadata": {},
     "output_type": "execute_result"
    }
   ],
   "source": [
    "m"
   ]
  },
  {
   "cell_type": "code",
   "execution_count": 101,
   "metadata": {},
   "outputs": [
    {
     "name": "stdout",
     "output_type": "stream",
     "text": [
      "Obj: 4.40852\n"
     ]
    }
   ],
   "source": [
    "print('Obj: %g' % m.objVal)"
   ]
  },
  {
   "cell_type": "code",
   "execution_count": 102,
   "metadata": {},
   "outputs": [
    {
     "name": "stdout",
     "output_type": "stream",
     "text": [
      "escola(1)   1\n",
      "escola(3)   1\n",
      "Demanda de Sub[0] atendida pela escola[1]   1\n",
      "Demanda de Sub[1] atendida pela escola[1]   1\n",
      "Demanda de Sub[2] atendida pela escola[1]   1\n",
      "Demanda de Sub[3] atendida pela escola[1]   1\n",
      "Demanda de Sub[4] atendida pela escola[3]   1\n",
      "Demanda de Sub[5] atendida pela escola[1]   1\n",
      "Demanda de Sub[6] atendida pela escola[1]   1\n"
     ]
    }
   ],
   "source": [
    "for v in m.getVars():\n",
    "    if(v.x != 0):\n",
    "       print('%s   %g' % (v.varName, v.x))"
   ]
  },
  {
   "cell_type": "code",
   "execution_count": 103,
   "metadata": {},
   "outputs": [],
   "source": [
    "m = None"
   ]
  },
  {
   "cell_type": "code",
   "execution_count": 104,
   "metadata": {},
   "outputs": [],
   "source": [
    "disposeDefaultEnv()"
   ]
  },
  {
   "cell_type": "code",
   "execution_count": null,
   "metadata": {},
   "outputs": [],
   "source": []
  }
 ],
 "metadata": {
  "kernelspec": {
   "display_name": "Python 3",
   "language": "python",
   "name": "python3"
  },
  "language_info": {
   "codemirror_mode": {
    "name": "ipython",
    "version": 3
   },
   "file_extension": ".py",
   "mimetype": "text/x-python",
   "name": "python",
   "nbconvert_exporter": "python",
   "pygments_lexer": "ipython3",
   "version": "3.6.5"
  }
 },
 "nbformat": 4,
 "nbformat_minor": 2
}
