{
 "cells": [
  {
   "cell_type": "markdown",
   "metadata": {},
   "source": [
    "# Introduction to Geographical data Visualization\n",
    "\n",
    "fillipefeitosa@ua.pt\n",
    "\n",
    "---\n",
    "\n",
    "[Original Publication](https://towardsdatascience.com/an-introduction-to-geographical-data-visualization-3486959cd4b8)"
   ]
  },
  {
   "cell_type": "code",
   "execution_count": 54,
   "metadata": {},
   "outputs": [],
   "source": [
    "# List of Imports\n",
    "import plotly as py\n",
    "import plotly.graph_objs as go\n",
    "import plotly.figure_factory as ff\n",
    "import pandas as pd\n",
    "import numpy as np"
   ]
  },
  {
   "cell_type": "code",
   "execution_count": 33,
   "metadata": {
    "collapsed": true
   },
   "outputs": [
    {
     "data": {
      "text/plain": [
       "{'type': 'choropleth', 'locations': 0                        Norway\n",
       " 1                       Denmark\n",
       " 2                       Iceland\n",
       " 3                   Switzerland\n",
       " 4                       Finland\n",
       " 5                   Netherlands\n",
       " 6                        Canada\n",
       " 7                   New Zealand\n",
       " 8                        Sweden\n",
       " 9                     Australia\n",
       " 10                       Israel\n",
       " 11                   Costa Rica\n",
       " 12                      Austria\n",
       " 13                United States\n",
       " 14                      Ireland\n",
       " 15                      Germany\n",
       " 16                      Belgium\n",
       " 17                   Luxembourg\n",
       " 18               United Kingdom\n",
       " 19                        Chile\n",
       " 20         United Arab Emirates\n",
       " 21                       Brazil\n",
       " 22               Czech Republic\n",
       " 23                    Argentina\n",
       " 24                       Mexico\n",
       " 25                    Singapore\n",
       " 26                        Malta\n",
       " 27                      Uruguay\n",
       " 28                    Guatemala\n",
       " 29                       Panama\n",
       "                  ...           \n",
       " 125            Congo (Kinshasa)\n",
       " 126                        Mali\n",
       " 127                 Ivory Coast\n",
       " 128                    Cambodia\n",
       " 129                       Sudan\n",
       " 130                       Ghana\n",
       " 131                     Ukraine\n",
       " 132                      Uganda\n",
       " 133                Burkina Faso\n",
       " 134                       Niger\n",
       " 135                      Malawi\n",
       " 136                        Chad\n",
       " 137                    Zimbabwe\n",
       " 138                     Lesotho\n",
       " 139                      Angola\n",
       " 140                 Afghanistan\n",
       " 141                    Botswana\n",
       " 142                       Benin\n",
       " 143                  Madagascar\n",
       " 144                       Haiti\n",
       " 145                       Yemen\n",
       " 146                 South Sudan\n",
       " 147                     Liberia\n",
       " 148                      Guinea\n",
       " 149                        Togo\n",
       " 150                      Rwanda\n",
       " 151                       Syria\n",
       " 152                    Tanzania\n",
       " 153                     Burundi\n",
       " 154    Central African Republic\n",
       " Name: Country, Length: 155, dtype: object, 'locationmode': 'country names', 'colorscale': 'Viridis', 'z': 0      7.537\n",
       " 1      7.522\n",
       " 2      7.504\n",
       " 3      7.494\n",
       " 4      7.469\n",
       " 5      7.377\n",
       " 6      7.316\n",
       " 7      7.314\n",
       " 8      7.284\n",
       " 9      7.284\n",
       " 10     7.213\n",
       " 11     7.079\n",
       " 12     7.006\n",
       " 13     6.993\n",
       " 14     6.977\n",
       " 15     6.951\n",
       " 16     6.891\n",
       " 17     6.863\n",
       " 18     6.714\n",
       " 19     6.652\n",
       " 20     6.648\n",
       " 21     6.635\n",
       " 22     6.609\n",
       " 23     6.599\n",
       " 24     6.578\n",
       " 25     6.572\n",
       " 26     6.527\n",
       " 27     6.454\n",
       " 28     6.454\n",
       " 29     6.452\n",
       "        ...  \n",
       " 125    4.280\n",
       " 126    4.190\n",
       " 127    4.180\n",
       " 128    4.168\n",
       " 129    4.139\n",
       " 130    4.120\n",
       " 131    4.096\n",
       " 132    4.081\n",
       " 133    4.032\n",
       " 134    4.028\n",
       " 135    3.970\n",
       " 136    3.936\n",
       " 137    3.875\n",
       " 138    3.808\n",
       " 139    3.795\n",
       " 140    3.794\n",
       " 141    3.766\n",
       " 142    3.657\n",
       " 143    3.644\n",
       " 144    3.603\n",
       " 145    3.593\n",
       " 146    3.591\n",
       " 147    3.533\n",
       " 148    3.507\n",
       " 149    3.495\n",
       " 150    3.471\n",
       " 151    3.462\n",
       " 152    3.349\n",
       " 153    2.905\n",
       " 154    2.693\n",
       " Name: Happiness.Score, Length: 155, dtype: float64}"
      ]
     },
     "execution_count": 33,
     "metadata": {},
     "output_type": "execute_result"
    }
   ],
   "source": [
    "# Load data Scenario 1\n",
    "\n",
    "happines = pd.read_csv('2017.csv')\n",
    "\n",
    "data = dict (\n",
    "    type = 'choropleth',\n",
    "    locations = happines['Country'],\n",
    "    locationmode='country names',\n",
    "    colorscale = 'Viridis',\n",
    "    z=happines['Happiness.Score'])\n",
    "data\n"
   ]
  },
  {
   "cell_type": "code",
   "execution_count": 34,
   "metadata": {},
   "outputs": [
    {
     "data": {
      "text/plain": [
       "'temp-plot.html'"
      ]
     },
     "execution_count": 34,
     "metadata": {},
     "output_type": "execute_result"
    }
   ],
   "source": [
    "# Generate map\n",
    "mymap = go.Figure(data=[data])\n",
    "py.offline.plot(mymap)"
   ]
  },
  {
   "cell_type": "code",
   "execution_count": 42,
   "metadata": {},
   "outputs": [],
   "source": [
    "# Load data Scenario 1\n",
    "\n",
    "# happines = pd.read_csv('2017.csv')\n",
    "\n",
    "usaUnemployment = pd.read_csv(\"https://raw.githubusercontent.com/plotly/datasets/master/laucnty16.csv\")\n",
    "# Cria FIPS (identificação nos EUA) para cada condado\n",
    "usaUnemployment['FIPS'] = usaUnemployment['State FIPS Code'].apply(lambda x: str(x).zfill(2)) + usaUnemployment['County FIPS Code'].apply(lambda x: str(x).zfill(3))\n",
    "\n",
    "data = dict (\n",
    "    type = 'choropleth',\n",
    "    locations = happines['Country'],\n",
    "    locationmode='country names',\n",
    "    colorscale = 'Viridis',\n",
    "    z=happines['Happiness.Score'])\n"
   ]
  },
  {
   "cell_type": "code",
   "execution_count": 52,
   "metadata": {},
   "outputs": [],
   "source": [
    "fips = usaUnemployment['FIPS'].tolist()\n",
    "values = usaUnemployment['Unemployment Rate (%)'].tolist()"
   ]
  },
  {
   "cell_type": "code",
   "execution_count": 58,
   "metadata": {},
   "outputs": [
    {
     "data": {
      "text/plain": [
       "'temp-plot.html'"
      ]
     },
     "execution_count": 58,
     "metadata": {},
     "output_type": "execute_result"
    }
   ],
   "source": [
    "# Plot Configuration\n",
    "colorscale=[\"#f7fbff\",\"#ebf3fb\",\"#deebf7\",\"#d2e3f3\",\"#c6dbef\",\"#b3d2e9\",\"#9ecae1\",             \"#85bcdb\",\"#6baed6\",\"#57a0ce\",\"#4292c6\",\"#3082be\",\"#2171b5\",\"#1361a9\",\"#08519c\",\"#0b4083\",\"#08306b\"]\n",
    "endpts = list(np.linspace(1,12, len(colorscale)-1))\n",
    "endpts\n",
    "\n",
    "# Plot the map\n",
    "fig = ff.create_choropleth(fips=fips, values=values, colorscale=colorscale,\n",
    "                           binning_endpoints=endpts)\n",
    "py.offline.plot(fig)"
   ]
  },
  {
   "cell_type": "code",
   "execution_count": null,
   "metadata": {},
   "outputs": [],
   "source": []
  }
 ],
 "metadata": {
  "kernelspec": {
   "display_name": "Python 3",
   "language": "python",
   "name": "python3"
  },
  "language_info": {
   "codemirror_mode": {
    "name": "ipython",
    "version": 3
   },
   "file_extension": ".py",
   "mimetype": "text/x-python",
   "name": "python",
   "nbconvert_exporter": "python",
   "pygments_lexer": "ipython3",
   "version": "3.6.7"
  }
 },
 "nbformat": 4,
 "nbformat_minor": 2
}
